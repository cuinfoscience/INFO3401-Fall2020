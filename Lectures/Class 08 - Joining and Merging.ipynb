{
 "cells": [
  {
   "cell_type": "markdown",
   "metadata": {},
   "source": [
    "# INFO 3401 – Class 08: Joining and Merging data\n",
    "\n",
    "[Brian C. Keegan, Ph.D.](http://brianckeegan.com/)  \n",
    "[Assistant Professor, Department of Information Science](https://www.colorado.edu/cmci/people/information-science/brian-c-keegan)  \n",
    "University of Colorado Boulder  \n",
    "\n",
    "Copyright and distributed under an [MIT License](https://opensource.org/licenses/MIT).\n",
    "\n",
    "## Learning Objectives\n",
    "This may review content you have learned in other classes, but we want to start with the same foundation since pandas is so fundamental to everything else we will do in this class!\n",
    "\n",
    "* Understanding differences and trade-offs between different join types\n",
    "* Developing join strategy based on features of the data\n",
    "* Using pandas `merge` function to combine DataFrames\n",
    "* Exploratory data analysis around factors correlated with vaccine hesitancy in Colorado schools\n",
    "\n",
    "## Background\n",
    "\n",
    "Our goal is to perform an exploratory data analysis around the factors that contribute to [vaccine hesitancy](https://en.wikipedia.org/wiki/Vaccine_hesitancy) in Colorado, the state with the [lowest rate of childhood vaccinations in the country](https://www.cdc.gov/mmwr/volumes/67/wr/mm6740a3.htm?s_cid=mm6740a3_w) and [strong political resistance to eliminating personal exemptions](https://coloradosun.com/2019/02/21/colorado-vaccination-rate-lowest-fix-jared-polis/) to vaccination requirements.\n",
    "\n",
    "Research question: **What are some school-level factors that explain the differences in vaccination rates in Colorado schools?**\n",
    "\n",
    "The State of Colorado publishes a variety of data about schools throughout the state:\n",
    "\n",
    "* Membership by grade level, free and reduced lunch, ethnicity/gender: [Pupil Membership](https://www.cde.state.co.us/cdereval/pupilcurrentschool)\n",
    "* [Immunization data (2016-17)](https://www.cohealthdata.dphe.state.co.us/Data/Details/1) and [2017-2020](https://www.dcphrapps.dphe.state.co.us/Reports/ReportList/Partners) (Under Data Downloads > Download All Data)"
   ]
  },
  {
   "cell_type": "markdown",
   "metadata": {},
   "source": [
    "## Load libraries"
   ]
  },
  {
   "cell_type": "code",
   "execution_count": 1,
   "metadata": {},
   "outputs": [],
   "source": [
    "import pandas as pd\n",
    "import numpy as np\n",
    "\n",
    "pd.options.display.max_columns = 100\n",
    "\n",
    "%matplotlib inline\n",
    "import matplotlib.pyplot as plt\n",
    "import seaborn as sb"
   ]
  },
  {
   "cell_type": "markdown",
   "metadata": {},
   "source": [
    "## Load and Inspect data"
   ]
  },
  {
   "cell_type": "code",
   "execution_count": 2,
   "metadata": {},
   "outputs": [
    {
     "name": "stdout",
     "output_type": "stream",
     "text": [
      "(2949, 14)\n"
     ]
    },
    {
     "data": {
      "text/html": [
       "<div>\n",
       "<style scoped>\n",
       "    .dataframe tbody tr th:only-of-type {\n",
       "        vertical-align: middle;\n",
       "    }\n",
       "\n",
       "    .dataframe tbody tr th {\n",
       "        vertical-align: top;\n",
       "    }\n",
       "\n",
       "    .dataframe thead th {\n",
       "        text-align: right;\n",
       "    }\n",
       "</style>\n",
       "<table border=\"1\" class=\"dataframe\">\n",
       "  <thead>\n",
       "    <tr style=\"text-align: right;\">\n",
       "      <th></th>\n",
       "      <th>School Year</th>\n",
       "      <th>County Name</th>\n",
       "      <th>District Code</th>\n",
       "      <th>District Name</th>\n",
       "      <th>Setting</th>\n",
       "      <th>Sch Code</th>\n",
       "      <th>School Name</th>\n",
       "      <th>Low Grade</th>\n",
       "      <th>High Grade</th>\n",
       "      <th>Elem Level</th>\n",
       "      <th>Middle Level</th>\n",
       "      <th>Senior Level</th>\n",
       "      <th>System Code</th>\n",
       "      <th>Charter</th>\n",
       "    </tr>\n",
       "  </thead>\n",
       "  <tbody>\n",
       "    <tr>\n",
       "      <td>0</td>\n",
       "      <td>2021</td>\n",
       "      <td>Weld</td>\n",
       "      <td>3085</td>\n",
       "      <td>Eaton RE-2</td>\n",
       "      <td>Outlying Town</td>\n",
       "      <td>4820</td>\n",
       "      <td>Eaton Early Learning Center</td>\n",
       "      <td>004</td>\n",
       "      <td>004</td>\n",
       "      <td>True</td>\n",
       "      <td>False</td>\n",
       "      <td>False</td>\n",
       "      <td>Non-Public</td>\n",
       "      <td>False</td>\n",
       "    </tr>\n",
       "    <tr>\n",
       "      <td>1</td>\n",
       "      <td>2021</td>\n",
       "      <td>Weld</td>\n",
       "      <td>3085</td>\n",
       "      <td>Eaton RE-2</td>\n",
       "      <td>Outlying Town</td>\n",
       "      <td>0754</td>\n",
       "      <td>Benjamin Eaton Elementary School</td>\n",
       "      <td>030</td>\n",
       "      <td>050</td>\n",
       "      <td>True</td>\n",
       "      <td>False</td>\n",
       "      <td>False</td>\n",
       "      <td>Public</td>\n",
       "      <td>False</td>\n",
       "    </tr>\n",
       "    <tr>\n",
       "      <td>2</td>\n",
       "      <td>2021</td>\n",
       "      <td>Weld</td>\n",
       "      <td>3085</td>\n",
       "      <td>Eaton RE-2</td>\n",
       "      <td>Outlying Town</td>\n",
       "      <td>2456</td>\n",
       "      <td>Eaton High School</td>\n",
       "      <td>090</td>\n",
       "      <td>120</td>\n",
       "      <td>False</td>\n",
       "      <td>False</td>\n",
       "      <td>True</td>\n",
       "      <td>Public</td>\n",
       "      <td>False</td>\n",
       "    </tr>\n",
       "    <tr>\n",
       "      <td>3</td>\n",
       "      <td>2021</td>\n",
       "      <td>Routt</td>\n",
       "      <td>2770</td>\n",
       "      <td>Steamboat Springs RE-2</td>\n",
       "      <td>Outlying City</td>\n",
       "      <td>4812</td>\n",
       "      <td>Steamboat Springs Early Childhood Center</td>\n",
       "      <td>004</td>\n",
       "      <td>004</td>\n",
       "      <td>True</td>\n",
       "      <td>False</td>\n",
       "      <td>False</td>\n",
       "      <td>Public</td>\n",
       "      <td>False</td>\n",
       "    </tr>\n",
       "    <tr>\n",
       "      <td>4</td>\n",
       "      <td>2021</td>\n",
       "      <td>Saguache</td>\n",
       "      <td>2790</td>\n",
       "      <td>Mountain Valley RE 1</td>\n",
       "      <td>Remote</td>\n",
       "      <td>6146</td>\n",
       "      <td>Mountain Valley School</td>\n",
       "      <td>004</td>\n",
       "      <td>120</td>\n",
       "      <td>False</td>\n",
       "      <td>False</td>\n",
       "      <td>True</td>\n",
       "      <td>Public</td>\n",
       "      <td>False</td>\n",
       "    </tr>\n",
       "  </tbody>\n",
       "</table>\n",
       "</div>"
      ],
      "text/plain": [
       "  School Year County Name District Code           District Name  \\\n",
       "0        2021        Weld          3085              Eaton RE-2   \n",
       "1        2021        Weld          3085              Eaton RE-2   \n",
       "2        2021        Weld          3085              Eaton RE-2   \n",
       "3        2021       Routt          2770  Steamboat Springs RE-2   \n",
       "4        2021    Saguache          2790    Mountain Valley RE 1   \n",
       "\n",
       "         Setting Sch Code                               School Name Low Grade  \\\n",
       "0  Outlying Town     4820               Eaton Early Learning Center       004   \n",
       "1  Outlying Town     0754          Benjamin Eaton Elementary School       030   \n",
       "2  Outlying Town     2456                         Eaton High School       090   \n",
       "3  Outlying City     4812  Steamboat Springs Early Childhood Center       004   \n",
       "4         Remote     6146                    Mountain Valley School       004   \n",
       "\n",
       "  High Grade Elem Level Middle Level Senior Level System Code Charter  \n",
       "0        004       True        False        False  Non-Public   False  \n",
       "1        050       True        False        False      Public   False  \n",
       "2        120      False        False         True      Public   False  \n",
       "3        004       True        False        False      Public   False  \n",
       "4        120      False        False         True      Public   False  "
      ]
     },
     "execution_count": 2,
     "metadata": {},
     "output_type": "execute_result"
    }
   ],
   "source": [
    "info_df = pd.read_csv('cleaned_school_info.csv',encoding='utf8',\n",
    "                      dtype={'Low Grade':str,'High Grade':str,'District Code':str,'Sch Code':str})\n",
    "print(info_df.shape)\n",
    "info_df.head()"
   ]
  },
  {
   "cell_type": "code",
   "execution_count": 3,
   "metadata": {},
   "outputs": [
    {
     "name": "stdout",
     "output_type": "stream",
     "text": [
      "(2231, 5)\n"
     ]
    },
    {
     "data": {
      "text/html": [
       "<div>\n",
       "<style scoped>\n",
       "    .dataframe tbody tr th:only-of-type {\n",
       "        vertical-align: middle;\n",
       "    }\n",
       "\n",
       "    .dataframe tbody tr th {\n",
       "        vertical-align: top;\n",
       "    }\n",
       "\n",
       "    .dataframe thead th {\n",
       "        text-align: right;\n",
       "    }\n",
       "</style>\n",
       "<table border=\"1\" class=\"dataframe\">\n",
       "  <thead>\n",
       "    <tr style=\"text-align: right;\">\n",
       "      <th></th>\n",
       "      <th>School Name</th>\n",
       "      <th>2016-17 Vacciations</th>\n",
       "      <th>2017-18 Vaccinations</th>\n",
       "      <th>2018-19 Vaccinations</th>\n",
       "      <th>2019-20 Vaccinations</th>\n",
       "    </tr>\n",
       "  </thead>\n",
       "  <tbody>\n",
       "    <tr>\n",
       "      <td>0</td>\n",
       "      <td>5280 High School</td>\n",
       "      <td>NaN</td>\n",
       "      <td>NaN</td>\n",
       "      <td>NaN</td>\n",
       "      <td>0.829787</td>\n",
       "    </tr>\n",
       "    <tr>\n",
       "      <td>1</td>\n",
       "      <td>70 Online</td>\n",
       "      <td>0.9413</td>\n",
       "      <td>0.881081</td>\n",
       "      <td>0.906736</td>\n",
       "      <td>0.886555</td>\n",
       "    </tr>\n",
       "    <tr>\n",
       "      <td>2</td>\n",
       "      <td>Allies</td>\n",
       "      <td>NaN</td>\n",
       "      <td>NaN</td>\n",
       "      <td>0.904348</td>\n",
       "      <td>0.907563</td>\n",
       "    </tr>\n",
       "    <tr>\n",
       "      <td>3</td>\n",
       "      <td>Axis International Academy</td>\n",
       "      <td>NaN</td>\n",
       "      <td>NaN</td>\n",
       "      <td>NaN</td>\n",
       "      <td>0.730570</td>\n",
       "    </tr>\n",
       "    <tr>\n",
       "      <td>4</td>\n",
       "      <td>Abraham Lincoln High School</td>\n",
       "      <td>0.9271</td>\n",
       "      <td>0.925965</td>\n",
       "      <td>0.890591</td>\n",
       "      <td>0.888043</td>\n",
       "    </tr>\n",
       "  </tbody>\n",
       "</table>\n",
       "</div>"
      ],
      "text/plain": [
       "                   School Name  2016-17 Vacciations  2017-18 Vaccinations  \\\n",
       "0             5280 High School                  NaN                   NaN   \n",
       "1                    70 Online               0.9413              0.881081   \n",
       "2                       Allies                  NaN                   NaN   \n",
       "3   Axis International Academy                  NaN                   NaN   \n",
       "4  Abraham Lincoln High School               0.9271              0.925965   \n",
       "\n",
       "   2018-19 Vaccinations  2019-20 Vaccinations  \n",
       "0                   NaN              0.829787  \n",
       "1              0.906736              0.886555  \n",
       "2              0.904348              0.907563  \n",
       "3                   NaN              0.730570  \n",
       "4              0.890591              0.888043  "
      ]
     },
     "execution_count": 3,
     "metadata": {},
     "output_type": "execute_result"
    }
   ],
   "source": [
    "shots_df = pd.read_csv('cleaned_school_vaccination.csv',encoding='utf8')\n",
    "print(shots_df.shape)\n",
    "shots_df.head()"
   ]
  },
  {
   "cell_type": "code",
   "execution_count": 4,
   "metadata": {},
   "outputs": [
    {
     "name": "stdout",
     "output_type": "stream",
     "text": [
      "(7577, 14)\n"
     ]
    },
    {
     "data": {
      "text/html": [
       "<div>\n",
       "<style scoped>\n",
       "    .dataframe tbody tr th:only-of-type {\n",
       "        vertical-align: middle;\n",
       "    }\n",
       "\n",
       "    .dataframe tbody tr th {\n",
       "        vertical-align: top;\n",
       "    }\n",
       "\n",
       "    .dataframe thead th {\n",
       "        text-align: right;\n",
       "    }\n",
       "</style>\n",
       "<table border=\"1\" class=\"dataframe\">\n",
       "  <thead>\n",
       "    <tr style=\"text-align: right;\">\n",
       "      <th></th>\n",
       "      <th>Year</th>\n",
       "      <th>Org. Code</th>\n",
       "      <th>Organization Name</th>\n",
       "      <th>School Code</th>\n",
       "      <th>School Name</th>\n",
       "      <th>Native Enrollment</th>\n",
       "      <th>Asian Enrollment</th>\n",
       "      <th>Black Enrollment</th>\n",
       "      <th>Hispanic Enrollment</th>\n",
       "      <th>White Enrollment</th>\n",
       "      <th>Islander Enrollment</th>\n",
       "      <th>Multiracial Enrollment</th>\n",
       "      <th>Female Enrollment</th>\n",
       "      <th>PK-12 Total</th>\n",
       "    </tr>\n",
       "  </thead>\n",
       "  <tbody>\n",
       "    <tr>\n",
       "      <td>0</td>\n",
       "      <td>2016-17</td>\n",
       "      <td>0010</td>\n",
       "      <td>MAPLETON 1</td>\n",
       "      <td>0187</td>\n",
       "      <td>Mapleton Expeditionary School Of The Arts</td>\n",
       "      <td>0.010972</td>\n",
       "      <td>0.007837</td>\n",
       "      <td>0.020376</td>\n",
       "      <td>0.710031</td>\n",
       "      <td>0.227273</td>\n",
       "      <td>0.001567</td>\n",
       "      <td>0.025078</td>\n",
       "      <td>0.492163</td>\n",
       "      <td>638</td>\n",
       "    </tr>\n",
       "    <tr>\n",
       "      <td>1</td>\n",
       "      <td>2016-17</td>\n",
       "      <td>0010</td>\n",
       "      <td>MAPLETON 1</td>\n",
       "      <td>0212</td>\n",
       "      <td>Mapleton Early College High School</td>\n",
       "      <td>0.008163</td>\n",
       "      <td>0.016327</td>\n",
       "      <td>0.016327</td>\n",
       "      <td>0.697959</td>\n",
       "      <td>0.224490</td>\n",
       "      <td>0.004082</td>\n",
       "      <td>0.008163</td>\n",
       "      <td>0.506122</td>\n",
       "      <td>245</td>\n",
       "    </tr>\n",
       "    <tr>\n",
       "      <td>2</td>\n",
       "      <td>2016-17</td>\n",
       "      <td>0010</td>\n",
       "      <td>MAPLETON 1</td>\n",
       "      <td>0263</td>\n",
       "      <td>Global Leadership Academy</td>\n",
       "      <td>0.000000</td>\n",
       "      <td>0.010050</td>\n",
       "      <td>0.005025</td>\n",
       "      <td>0.914573</td>\n",
       "      <td>0.065327</td>\n",
       "      <td>0.000000</td>\n",
       "      <td>0.000000</td>\n",
       "      <td>0.472362</td>\n",
       "      <td>199</td>\n",
       "    </tr>\n",
       "    <tr>\n",
       "      <td>3</td>\n",
       "      <td>2016-17</td>\n",
       "      <td>0010</td>\n",
       "      <td>MAPLETON 1</td>\n",
       "      <td>0309</td>\n",
       "      <td>Academy High School</td>\n",
       "      <td>0.018391</td>\n",
       "      <td>0.018391</td>\n",
       "      <td>0.039080</td>\n",
       "      <td>0.770115</td>\n",
       "      <td>0.121839</td>\n",
       "      <td>0.004598</td>\n",
       "      <td>0.018391</td>\n",
       "      <td>0.402299</td>\n",
       "      <td>435</td>\n",
       "    </tr>\n",
       "    <tr>\n",
       "      <td>4</td>\n",
       "      <td>2016-17</td>\n",
       "      <td>0010</td>\n",
       "      <td>MAPLETON 1</td>\n",
       "      <td>0501</td>\n",
       "      <td>Monterey Community School</td>\n",
       "      <td>0.000000</td>\n",
       "      <td>0.012397</td>\n",
       "      <td>0.018595</td>\n",
       "      <td>0.851240</td>\n",
       "      <td>0.109504</td>\n",
       "      <td>0.000000</td>\n",
       "      <td>0.000000</td>\n",
       "      <td>0.500000</td>\n",
       "      <td>484</td>\n",
       "    </tr>\n",
       "  </tbody>\n",
       "</table>\n",
       "</div>"
      ],
      "text/plain": [
       "      Year Org. Code Organization Name School Code  \\\n",
       "0  2016-17      0010        MAPLETON 1        0187   \n",
       "1  2016-17      0010        MAPLETON 1        0212   \n",
       "2  2016-17      0010        MAPLETON 1        0263   \n",
       "3  2016-17      0010        MAPLETON 1        0309   \n",
       "4  2016-17      0010        MAPLETON 1        0501   \n",
       "\n",
       "                                 School Name  Native Enrollment  \\\n",
       "0  Mapleton Expeditionary School Of The Arts           0.010972   \n",
       "1         Mapleton Early College High School           0.008163   \n",
       "2                  Global Leadership Academy           0.000000   \n",
       "3                        Academy High School           0.018391   \n",
       "4                  Monterey Community School           0.000000   \n",
       "\n",
       "   Asian Enrollment  Black Enrollment  Hispanic Enrollment  White Enrollment  \\\n",
       "0          0.007837          0.020376             0.710031          0.227273   \n",
       "1          0.016327          0.016327             0.697959          0.224490   \n",
       "2          0.010050          0.005025             0.914573          0.065327   \n",
       "3          0.018391          0.039080             0.770115          0.121839   \n",
       "4          0.012397          0.018595             0.851240          0.109504   \n",
       "\n",
       "   Islander Enrollment  Multiracial Enrollment  Female Enrollment  PK-12 Total  \n",
       "0             0.001567                0.025078           0.492163          638  \n",
       "1             0.004082                0.008163           0.506122          245  \n",
       "2             0.000000                0.000000           0.472362          199  \n",
       "3             0.004598                0.018391           0.402299          435  \n",
       "4             0.000000                0.000000           0.500000          484  "
      ]
     },
     "execution_count": 4,
     "metadata": {},
     "output_type": "execute_result"
    }
   ],
   "source": [
    "students_df = pd.read_csv('cleaned_school_enrollments.csv',encoding='utf8',\n",
    "                          dtype={'School Code':str,'Org. Code':str})\n",
    "print(students_df.shape)\n",
    "students_df.head()"
   ]
  },
  {
   "cell_type": "markdown",
   "metadata": {},
   "source": [
    "## Clean up data"
   ]
  },
  {
   "cell_type": "code",
   "execution_count": 8,
   "metadata": {},
   "outputs": [
    {
     "name": "stdout",
     "output_type": "stream",
     "text": [
      "(8924, 3)\n"
     ]
    },
    {
     "data": {
      "text/html": [
       "<div>\n",
       "<style scoped>\n",
       "    .dataframe tbody tr th:only-of-type {\n",
       "        vertical-align: middle;\n",
       "    }\n",
       "\n",
       "    .dataframe tbody tr th {\n",
       "        vertical-align: top;\n",
       "    }\n",
       "\n",
       "    .dataframe thead th {\n",
       "        text-align: right;\n",
       "    }\n",
       "</style>\n",
       "<table border=\"1\" class=\"dataframe\">\n",
       "  <thead>\n",
       "    <tr style=\"text-align: right;\">\n",
       "      <th></th>\n",
       "      <th>School Name</th>\n",
       "      <th>Year</th>\n",
       "      <th>Vaccination Rate</th>\n",
       "    </tr>\n",
       "  </thead>\n",
       "  <tbody>\n",
       "    <tr>\n",
       "      <td>0</td>\n",
       "      <td>5280 High School</td>\n",
       "      <td>2016-17</td>\n",
       "      <td>NaN</td>\n",
       "    </tr>\n",
       "    <tr>\n",
       "      <td>1</td>\n",
       "      <td>70 Online</td>\n",
       "      <td>2016-17</td>\n",
       "      <td>0.9413</td>\n",
       "    </tr>\n",
       "    <tr>\n",
       "      <td>2</td>\n",
       "      <td>Allies</td>\n",
       "      <td>2016-17</td>\n",
       "      <td>NaN</td>\n",
       "    </tr>\n",
       "    <tr>\n",
       "      <td>3</td>\n",
       "      <td>Axis International Academy</td>\n",
       "      <td>2016-17</td>\n",
       "      <td>NaN</td>\n",
       "    </tr>\n",
       "    <tr>\n",
       "      <td>4</td>\n",
       "      <td>Abraham Lincoln High School</td>\n",
       "      <td>2016-17</td>\n",
       "      <td>0.9271</td>\n",
       "    </tr>\n",
       "  </tbody>\n",
       "</table>\n",
       "</div>"
      ],
      "text/plain": [
       "                   School Name     Year  Vaccination Rate\n",
       "0             5280 High School  2016-17               NaN\n",
       "1                    70 Online  2016-17            0.9413\n",
       "2                       Allies  2016-17               NaN\n",
       "3   Axis International Academy  2016-17               NaN\n",
       "4  Abraham Lincoln High School  2016-17            0.9271"
      ]
     },
     "execution_count": 8,
     "metadata": {},
     "output_type": "execute_result"
    }
   ],
   "source": [
    "shots_df.columns = ['School Name', '2016-17', '2017-18', '2018-19', '2019-20']\n",
    "\n",
    "shots_melted_df = pd.melt(shots_df,\n",
    "                          id_vars=['School Name'],\n",
    "                          var_name='Year',\n",
    "                          value_name='Vaccination Rate')\n",
    "print(shots_melted_df.shape)\n",
    "shots_melted_df.head()"
   ]
  },
  {
   "cell_type": "code",
   "execution_count": 7,
   "metadata": {},
   "outputs": [
    {
     "data": {
      "text/html": [
       "<div>\n",
       "<style scoped>\n",
       "    .dataframe tbody tr th:only-of-type {\n",
       "        vertical-align: middle;\n",
       "    }\n",
       "\n",
       "    .dataframe tbody tr th {\n",
       "        vertical-align: top;\n",
       "    }\n",
       "\n",
       "    .dataframe thead th {\n",
       "        text-align: right;\n",
       "    }\n",
       "</style>\n",
       "<table border=\"1\" class=\"dataframe\">\n",
       "  <thead>\n",
       "    <tr style=\"text-align: right;\">\n",
       "      <th></th>\n",
       "      <th>School Name</th>\n",
       "      <th>Year</th>\n",
       "      <th>Vaccination Rate</th>\n",
       "    </tr>\n",
       "  </thead>\n",
       "  <tbody>\n",
       "    <tr>\n",
       "      <td>1</td>\n",
       "      <td>70 Online</td>\n",
       "      <td>2016-17</td>\n",
       "      <td>0.941300</td>\n",
       "    </tr>\n",
       "    <tr>\n",
       "      <td>2232</td>\n",
       "      <td>70 Online</td>\n",
       "      <td>2017-18</td>\n",
       "      <td>0.881081</td>\n",
       "    </tr>\n",
       "    <tr>\n",
       "      <td>4463</td>\n",
       "      <td>70 Online</td>\n",
       "      <td>2018-19</td>\n",
       "      <td>0.906736</td>\n",
       "    </tr>\n",
       "    <tr>\n",
       "      <td>6694</td>\n",
       "      <td>70 Online</td>\n",
       "      <td>2019-20</td>\n",
       "      <td>0.886555</td>\n",
       "    </tr>\n",
       "  </tbody>\n",
       "</table>\n",
       "</div>"
      ],
      "text/plain": [
       "     School Name     Year  Vaccination Rate\n",
       "1      70 Online  2016-17          0.941300\n",
       "2232   70 Online  2017-18          0.881081\n",
       "4463   70 Online  2018-19          0.906736\n",
       "6694   70 Online  2019-20          0.886555"
      ]
     },
     "execution_count": 7,
     "metadata": {},
     "output_type": "execute_result"
    }
   ],
   "source": [
    "shots_melted_df[shots_melted_df['School Name'] == '70 Online']"
   ]
  },
  {
   "cell_type": "markdown",
   "metadata": {},
   "source": [
    "## Decide on joining strategy\n",
    "\n",
    "Before we even attempt a join, look closely at each of these tables.\n",
    "\n",
    "* **Variables.** What variables do they share in common that could be used as keys in a join?\n",
    "* **Coverage.** Do both tables cover the same ranges of time?\n",
    "* **Duplicates.** Are there instances of multiple/repeated rows of these key variables? Why is that?\n",
    "* **Strategy.** What is the most appropriate merging strategy to handle the different time windows and repeated dates?\n",
    "* **Shape.** What should the data look like afterwards?  \n",
    "  * How many rows? \n",
    "  * How many columns? \n",
    "  * Which values should repeat? \n",
    "  * Which values should be null? \n",
    "  * Which values should disappear?\n",
    "  \n",
    "If you do not have answers for these questions, you are not prepared to evaluate the quality of a join and are likely to make serious errors resulting in duplicated or dropped data."
   ]
  },
  {
   "cell_type": "markdown",
   "metadata": {},
   "source": [
    "### Variables"
   ]
  },
  {
   "cell_type": "code",
   "execution_count": 9,
   "metadata": {},
   "outputs": [
    {
     "data": {
      "text/html": [
       "<div>\n",
       "<style scoped>\n",
       "    .dataframe tbody tr th:only-of-type {\n",
       "        vertical-align: middle;\n",
       "    }\n",
       "\n",
       "    .dataframe tbody tr th {\n",
       "        vertical-align: top;\n",
       "    }\n",
       "\n",
       "    .dataframe thead th {\n",
       "        text-align: right;\n",
       "    }\n",
       "</style>\n",
       "<table border=\"1\" class=\"dataframe\">\n",
       "  <thead>\n",
       "    <tr style=\"text-align: right;\">\n",
       "      <th></th>\n",
       "      <th>School Year</th>\n",
       "      <th>County Name</th>\n",
       "      <th>District Code</th>\n",
       "      <th>District Name</th>\n",
       "      <th>Setting</th>\n",
       "      <th>Sch Code</th>\n",
       "      <th>School Name</th>\n",
       "      <th>Low Grade</th>\n",
       "      <th>High Grade</th>\n",
       "      <th>Elem Level</th>\n",
       "      <th>Middle Level</th>\n",
       "      <th>Senior Level</th>\n",
       "      <th>System Code</th>\n",
       "      <th>Charter</th>\n",
       "    </tr>\n",
       "  </thead>\n",
       "  <tbody>\n",
       "    <tr>\n",
       "      <td>0</td>\n",
       "      <td>2021</td>\n",
       "      <td>Weld</td>\n",
       "      <td>3085</td>\n",
       "      <td>Eaton RE-2</td>\n",
       "      <td>Outlying Town</td>\n",
       "      <td>4820</td>\n",
       "      <td>Eaton Early Learning Center</td>\n",
       "      <td>004</td>\n",
       "      <td>004</td>\n",
       "      <td>True</td>\n",
       "      <td>False</td>\n",
       "      <td>False</td>\n",
       "      <td>Non-Public</td>\n",
       "      <td>False</td>\n",
       "    </tr>\n",
       "    <tr>\n",
       "      <td>1</td>\n",
       "      <td>2021</td>\n",
       "      <td>Weld</td>\n",
       "      <td>3085</td>\n",
       "      <td>Eaton RE-2</td>\n",
       "      <td>Outlying Town</td>\n",
       "      <td>0754</td>\n",
       "      <td>Benjamin Eaton Elementary School</td>\n",
       "      <td>030</td>\n",
       "      <td>050</td>\n",
       "      <td>True</td>\n",
       "      <td>False</td>\n",
       "      <td>False</td>\n",
       "      <td>Public</td>\n",
       "      <td>False</td>\n",
       "    </tr>\n",
       "  </tbody>\n",
       "</table>\n",
       "</div>"
      ],
      "text/plain": [
       "  School Year County Name District Code District Name        Setting Sch Code  \\\n",
       "0        2021        Weld          3085    Eaton RE-2  Outlying Town     4820   \n",
       "1        2021        Weld          3085    Eaton RE-2  Outlying Town     0754   \n",
       "\n",
       "                        School Name Low Grade High Grade Elem Level  \\\n",
       "0       Eaton Early Learning Center       004        004       True   \n",
       "1  Benjamin Eaton Elementary School       030        050       True   \n",
       "\n",
       "  Middle Level Senior Level System Code Charter  \n",
       "0        False        False  Non-Public   False  \n",
       "1        False        False      Public   False  "
      ]
     },
     "execution_count": 9,
     "metadata": {},
     "output_type": "execute_result"
    }
   ],
   "source": [
    "info_df.head(2)"
   ]
  },
  {
   "cell_type": "code",
   "execution_count": 10,
   "metadata": {},
   "outputs": [
    {
     "data": {
      "text/html": [
       "<div>\n",
       "<style scoped>\n",
       "    .dataframe tbody tr th:only-of-type {\n",
       "        vertical-align: middle;\n",
       "    }\n",
       "\n",
       "    .dataframe tbody tr th {\n",
       "        vertical-align: top;\n",
       "    }\n",
       "\n",
       "    .dataframe thead th {\n",
       "        text-align: right;\n",
       "    }\n",
       "</style>\n",
       "<table border=\"1\" class=\"dataframe\">\n",
       "  <thead>\n",
       "    <tr style=\"text-align: right;\">\n",
       "      <th></th>\n",
       "      <th>School Name</th>\n",
       "      <th>Year</th>\n",
       "      <th>Vaccination Rate</th>\n",
       "    </tr>\n",
       "  </thead>\n",
       "  <tbody>\n",
       "    <tr>\n",
       "      <td>0</td>\n",
       "      <td>5280 High School</td>\n",
       "      <td>2016-17</td>\n",
       "      <td>NaN</td>\n",
       "    </tr>\n",
       "    <tr>\n",
       "      <td>1</td>\n",
       "      <td>70 Online</td>\n",
       "      <td>2016-17</td>\n",
       "      <td>0.9413</td>\n",
       "    </tr>\n",
       "  </tbody>\n",
       "</table>\n",
       "</div>"
      ],
      "text/plain": [
       "        School Name     Year  Vaccination Rate\n",
       "0  5280 High School  2016-17               NaN\n",
       "1         70 Online  2016-17            0.9413"
      ]
     },
     "execution_count": 10,
     "metadata": {},
     "output_type": "execute_result"
    }
   ],
   "source": [
    "shots_melted_df.head(2)"
   ]
  },
  {
   "cell_type": "code",
   "execution_count": 11,
   "metadata": {},
   "outputs": [
    {
     "data": {
      "text/html": [
       "<div>\n",
       "<style scoped>\n",
       "    .dataframe tbody tr th:only-of-type {\n",
       "        vertical-align: middle;\n",
       "    }\n",
       "\n",
       "    .dataframe tbody tr th {\n",
       "        vertical-align: top;\n",
       "    }\n",
       "\n",
       "    .dataframe thead th {\n",
       "        text-align: right;\n",
       "    }\n",
       "</style>\n",
       "<table border=\"1\" class=\"dataframe\">\n",
       "  <thead>\n",
       "    <tr style=\"text-align: right;\">\n",
       "      <th></th>\n",
       "      <th>Year</th>\n",
       "      <th>Org. Code</th>\n",
       "      <th>Organization Name</th>\n",
       "      <th>School Code</th>\n",
       "      <th>School Name</th>\n",
       "      <th>Native Enrollment</th>\n",
       "      <th>Asian Enrollment</th>\n",
       "      <th>Black Enrollment</th>\n",
       "      <th>Hispanic Enrollment</th>\n",
       "      <th>White Enrollment</th>\n",
       "      <th>Islander Enrollment</th>\n",
       "      <th>Multiracial Enrollment</th>\n",
       "      <th>Female Enrollment</th>\n",
       "      <th>PK-12 Total</th>\n",
       "    </tr>\n",
       "  </thead>\n",
       "  <tbody>\n",
       "    <tr>\n",
       "      <td>0</td>\n",
       "      <td>2016-17</td>\n",
       "      <td>0010</td>\n",
       "      <td>MAPLETON 1</td>\n",
       "      <td>0187</td>\n",
       "      <td>Mapleton Expeditionary School Of The Arts</td>\n",
       "      <td>0.010972</td>\n",
       "      <td>0.007837</td>\n",
       "      <td>0.020376</td>\n",
       "      <td>0.710031</td>\n",
       "      <td>0.227273</td>\n",
       "      <td>0.001567</td>\n",
       "      <td>0.025078</td>\n",
       "      <td>0.492163</td>\n",
       "      <td>638</td>\n",
       "    </tr>\n",
       "    <tr>\n",
       "      <td>1</td>\n",
       "      <td>2016-17</td>\n",
       "      <td>0010</td>\n",
       "      <td>MAPLETON 1</td>\n",
       "      <td>0212</td>\n",
       "      <td>Mapleton Early College High School</td>\n",
       "      <td>0.008163</td>\n",
       "      <td>0.016327</td>\n",
       "      <td>0.016327</td>\n",
       "      <td>0.697959</td>\n",
       "      <td>0.224490</td>\n",
       "      <td>0.004082</td>\n",
       "      <td>0.008163</td>\n",
       "      <td>0.506122</td>\n",
       "      <td>245</td>\n",
       "    </tr>\n",
       "  </tbody>\n",
       "</table>\n",
       "</div>"
      ],
      "text/plain": [
       "      Year Org. Code Organization Name School Code  \\\n",
       "0  2016-17      0010        MAPLETON 1        0187   \n",
       "1  2016-17      0010        MAPLETON 1        0212   \n",
       "\n",
       "                                 School Name  Native Enrollment  \\\n",
       "0  Mapleton Expeditionary School Of The Arts           0.010972   \n",
       "1         Mapleton Early College High School           0.008163   \n",
       "\n",
       "   Asian Enrollment  Black Enrollment  Hispanic Enrollment  White Enrollment  \\\n",
       "0          0.007837          0.020376             0.710031          0.227273   \n",
       "1          0.016327          0.016327             0.697959          0.224490   \n",
       "\n",
       "   Islander Enrollment  Multiracial Enrollment  Female Enrollment  PK-12 Total  \n",
       "0             0.001567                0.025078           0.492163          638  \n",
       "1             0.004082                0.008163           0.506122          245  "
      ]
     },
     "execution_count": 11,
     "metadata": {},
     "output_type": "execute_result"
    }
   ],
   "source": [
    "students_df.head(2)"
   ]
  },
  {
   "cell_type": "code",
   "execution_count": 17,
   "metadata": {},
   "outputs": [
    {
     "data": {
      "text/plain": [
       "1801"
      ]
     },
     "execution_count": 17,
     "metadata": {},
     "output_type": "execute_result"
    }
   ],
   "source": [
    "len(set(students_df['School Name'].unique()) & set(info_df['School Name'].unique()))"
   ]
  },
  {
   "cell_type": "code",
   "execution_count": 18,
   "metadata": {},
   "outputs": [
    {
     "data": {
      "text/plain": [
       "1900"
      ]
     },
     "execution_count": 18,
     "metadata": {},
     "output_type": "execute_result"
    }
   ],
   "source": [
    "len(set(students_df['School Code'].unique()) & set(info_df['Sch Code'].unique()))"
   ]
  },
  {
   "cell_type": "code",
   "execution_count": 20,
   "metadata": {},
   "outputs": [
    {
     "data": {
      "text/plain": [
       "1698"
      ]
     },
     "execution_count": 20,
     "metadata": {},
     "output_type": "execute_result"
    }
   ],
   "source": [
    "len(set(shots_melted_df['School Name'].unique()) & set(info_df['School Name'].unique()))"
   ]
  },
  {
   "cell_type": "code",
   "execution_count": 21,
   "metadata": {},
   "outputs": [
    {
     "data": {
      "text/plain": [
       "1684"
      ]
     },
     "execution_count": 21,
     "metadata": {},
     "output_type": "execute_result"
    }
   ],
   "source": [
    "len(set(students_df['School Name'].unique()) & set(shots_melted_df['School Name'].unique()))"
   ]
  },
  {
   "cell_type": "markdown",
   "metadata": {},
   "source": [
    "### Coverage"
   ]
  },
  {
   "cell_type": "code",
   "execution_count": 22,
   "metadata": {},
   "outputs": [
    {
     "data": {
      "text/plain": [
       "2021                   2948\n",
       "2020-09-11 00:00:00       1\n",
       "Name: School Year, dtype: int64"
      ]
     },
     "execution_count": 22,
     "metadata": {},
     "output_type": "execute_result"
    }
   ],
   "source": [
    "info_df['School Year'].value_counts()"
   ]
  },
  {
   "cell_type": "code",
   "execution_count": 23,
   "metadata": {},
   "outputs": [
    {
     "data": {
      "text/plain": [
       "2018-19    2231\n",
       "2019-20    2231\n",
       "2016-17    2231\n",
       "2017-18    2231\n",
       "Name: Year, dtype: int64"
      ]
     },
     "execution_count": 23,
     "metadata": {},
     "output_type": "execute_result"
    }
   ],
   "source": [
    "shots_melted_df['Year'].value_counts()"
   ]
  },
  {
   "cell_type": "code",
   "execution_count": 24,
   "metadata": {},
   "outputs": [
    {
     "data": {
      "text/plain": [
       "2019-20    1908\n",
       "2018-19    1903\n",
       "2017-18    1889\n",
       "2016-17    1877\n",
       "Name: Year, dtype: int64"
      ]
     },
     "execution_count": 24,
     "metadata": {},
     "output_type": "execute_result"
    }
   ],
   "source": [
    "students_df['Year'].value_counts()"
   ]
  },
  {
   "cell_type": "markdown",
   "metadata": {},
   "source": [
    "### Duplicates"
   ]
  },
  {
   "cell_type": "code",
   "execution_count": 29,
   "metadata": {},
   "outputs": [
    {
     "data": {
      "text/plain": [
       "4     1586\n",
       "1      129\n",
       "2      108\n",
       "3       99\n",
       "8       46\n",
       "12      10\n",
       "20       2\n",
       "16       2\n",
       "6        2\n",
       "5        2\n",
       "7        1\n",
       "Name: School Name, dtype: int64"
      ]
     },
     "execution_count": 29,
     "metadata": {},
     "output_type": "execute_result"
    }
   ],
   "source": [
    "students_df['School Name'].value_counts()"
   ]
  },
  {
   "cell_type": "code",
   "execution_count": 31,
   "metadata": {},
   "outputs": [
    {
     "data": {
      "text/plain": [
       "Kindercare Learning Center         5\n",
       "Early Childhood Center             5\n",
       "Columbine Elementary School        5\n",
       "Mountain View Elementary School    5\n",
       "Mesa Elementary School             4\n",
       "                                  ..\n",
       "Elevation Ability Services         1\n",
       "Florida Mesa Head Start            1\n",
       "The Colorado Springs School        1\n",
       "Sarah Milner Elementary School     1\n",
       "Mountain Song Community School     1\n",
       "Name: School Name, Length: 2839, dtype: int64"
      ]
     },
     "execution_count": 31,
     "metadata": {},
     "output_type": "execute_result"
    }
   ],
   "source": [
    "info_df['School Name'].value_counts()"
   ]
  },
  {
   "cell_type": "code",
   "execution_count": 33,
   "metadata": {},
   "outputs": [
    {
     "data": {
      "text/plain": [
       "Mountain View Elementary School               20\n",
       "Columbine Elementary School                   20\n",
       "Mesa Elementary School                        16\n",
       "Centennial Elementary School                  16\n",
       "Lincoln Elementary School                     12\n",
       "                                              ..\n",
       "Pleasant View Middle School                    4\n",
       "Bella Romero Academy Of Applied Technology     4\n",
       "Ryan Elementary School                         4\n",
       "W H Heaton Middle School                       4\n",
       "Fleming School K-12                            4\n",
       "Name: School Name, Length: 2093, dtype: int64"
      ]
     },
     "execution_count": 33,
     "metadata": {},
     "output_type": "execute_result"
    }
   ],
   "source": [
    "shots_melted_df['School Name'].value_counts()"
   ]
  },
  {
   "cell_type": "code",
   "execution_count": 36,
   "metadata": {},
   "outputs": [
    {
     "data": {
      "text/html": [
       "<div>\n",
       "<style scoped>\n",
       "    .dataframe tbody tr th:only-of-type {\n",
       "        vertical-align: middle;\n",
       "    }\n",
       "\n",
       "    .dataframe tbody tr th {\n",
       "        vertical-align: top;\n",
       "    }\n",
       "\n",
       "    .dataframe thead th {\n",
       "        text-align: right;\n",
       "    }\n",
       "</style>\n",
       "<table border=\"1\" class=\"dataframe\">\n",
       "  <thead>\n",
       "    <tr style=\"text-align: right;\">\n",
       "      <th></th>\n",
       "      <th>School Year</th>\n",
       "      <th>County Name</th>\n",
       "      <th>District Code</th>\n",
       "      <th>District Name</th>\n",
       "      <th>Setting</th>\n",
       "      <th>Sch Code</th>\n",
       "      <th>School Name</th>\n",
       "      <th>Low Grade</th>\n",
       "      <th>High Grade</th>\n",
       "      <th>Elem Level</th>\n",
       "      <th>Middle Level</th>\n",
       "      <th>Senior Level</th>\n",
       "      <th>System Code</th>\n",
       "      <th>Charter</th>\n",
       "    </tr>\n",
       "  </thead>\n",
       "  <tbody>\n",
       "    <tr>\n",
       "      <td>271</td>\n",
       "      <td>2021</td>\n",
       "      <td>Boulder</td>\n",
       "      <td>0480</td>\n",
       "      <td>Boulder Valley Re 2</td>\n",
       "      <td>Denver Metro</td>\n",
       "      <td>5838</td>\n",
       "      <td>Mesa Elementary School</td>\n",
       "      <td>006</td>\n",
       "      <td>050</td>\n",
       "      <td>True</td>\n",
       "      <td>False</td>\n",
       "      <td>False</td>\n",
       "      <td>Public</td>\n",
       "      <td>False</td>\n",
       "    </tr>\n",
       "    <tr>\n",
       "      <td>1108</td>\n",
       "      <td>2021</td>\n",
       "      <td>Montezuma</td>\n",
       "      <td>2035</td>\n",
       "      <td>Montezuma-Cortez RE-1</td>\n",
       "      <td>Outlying City</td>\n",
       "      <td>5836</td>\n",
       "      <td>Mesa Elementary School</td>\n",
       "      <td>006</td>\n",
       "      <td>050</td>\n",
       "      <td>True</td>\n",
       "      <td>False</td>\n",
       "      <td>False</td>\n",
       "      <td>Public</td>\n",
       "      <td>False</td>\n",
       "    </tr>\n",
       "    <tr>\n",
       "      <td>1787</td>\n",
       "      <td>2021</td>\n",
       "      <td>El Paso</td>\n",
       "      <td>1000</td>\n",
       "      <td>Fountain 8</td>\n",
       "      <td>Urban-Suburban</td>\n",
       "      <td>3108</td>\n",
       "      <td>Mesa Elementary School</td>\n",
       "      <td>006</td>\n",
       "      <td>050</td>\n",
       "      <td>True</td>\n",
       "      <td>False</td>\n",
       "      <td>False</td>\n",
       "      <td>Public</td>\n",
       "      <td>False</td>\n",
       "    </tr>\n",
       "    <tr>\n",
       "      <td>2117</td>\n",
       "      <td>2021</td>\n",
       "      <td>Adams</td>\n",
       "      <td>0070</td>\n",
       "      <td>Westminster Public Schools</td>\n",
       "      <td>Denver Metro</td>\n",
       "      <td>5834</td>\n",
       "      <td>Mesa Elementary School</td>\n",
       "      <td>004</td>\n",
       "      <td>050</td>\n",
       "      <td>True</td>\n",
       "      <td>False</td>\n",
       "      <td>False</td>\n",
       "      <td>Public</td>\n",
       "      <td>False</td>\n",
       "    </tr>\n",
       "  </tbody>\n",
       "</table>\n",
       "</div>"
      ],
      "text/plain": [
       "     School Year County Name District Code               District Name  \\\n",
       "271         2021     Boulder          0480         Boulder Valley Re 2   \n",
       "1108        2021   Montezuma          2035       Montezuma-Cortez RE-1   \n",
       "1787        2021     El Paso          1000                  Fountain 8   \n",
       "2117        2021       Adams          0070  Westminster Public Schools   \n",
       "\n",
       "             Setting Sch Code             School Name Low Grade High Grade  \\\n",
       "271     Denver Metro     5838  Mesa Elementary School       006        050   \n",
       "1108   Outlying City     5836  Mesa Elementary School       006        050   \n",
       "1787  Urban-Suburban     3108  Mesa Elementary School       006        050   \n",
       "2117    Denver Metro     5834  Mesa Elementary School       004        050   \n",
       "\n",
       "     Elem Level Middle Level Senior Level System Code Charter  \n",
       "271        True        False        False      Public   False  \n",
       "1108       True        False        False      Public   False  \n",
       "1787       True        False        False      Public   False  \n",
       "2117       True        False        False      Public   False  "
      ]
     },
     "execution_count": 36,
     "metadata": {},
     "output_type": "execute_result"
    }
   ],
   "source": [
    "info_df[info_df['School Name'] == 'Mesa Elementary School']"
   ]
  },
  {
   "cell_type": "code",
   "execution_count": 39,
   "metadata": {},
   "outputs": [
    {
     "data": {
      "text/plain": [
       "1    2949\n",
       "Name: Sch Code, dtype: int64"
      ]
     },
     "execution_count": 39,
     "metadata": {},
     "output_type": "execute_result"
    }
   ],
   "source": [
    "info_df['Sch Code'].value_counts().value_counts()"
   ]
  },
  {
   "cell_type": "code",
   "execution_count": 41,
   "metadata": {},
   "outputs": [
    {
     "data": {
      "text/plain": [
       "4    1820\n",
       "3      53\n",
       "1      53\n",
       "2      42\n",
       "Name: School Code, dtype: int64"
      ]
     },
     "execution_count": 41,
     "metadata": {},
     "output_type": "execute_result"
    }
   ],
   "source": [
    "students_df['School Code'].value_counts().value_counts()"
   ]
  },
  {
   "cell_type": "code",
   "execution_count": null,
   "metadata": {},
   "outputs": [],
   "source": []
  },
  {
   "cell_type": "markdown",
   "metadata": {},
   "source": [
    "### Strategy\n",
    "\n",
    "When we call `how='left'` in `pd.merge`, we make sure all the keys we're joining on that are present in the \"left\" DataFrame remain in the merged DataFrame. A left-join is ideal if you really trust and want to preserve all the data in your left DataFrame, even if it means losing data in your right DataFrame.\n",
    "\n",
    "When we call `how='right'` in `pd.merge`, we make sure all the keys we're joining on that are present in the \"right\" DataFrame remain in the merged DataFrame. A right-join is ideal if you really trust and want to preserve all the data in your right DataFrame, even if it means losing data in your left DataFrame.\n",
    "\n",
    "![From W3 Schools](https://www.w3schools.com/sql/img_rightjoin.gif)\n",
    "\n",
    "![](https://pandas.pydata.org/pandas-docs/stable/_images/merging_merge_on_key_right.png)\n",
    "\n",
    "This all suggests a few different strategies: \n",
    "\n",
    "1. A **left join** would preserve all the rows in the left DataFrame but only include rows from the right DataFrame if they have a matching key. If there are keys in the left that are not present in the right, there will be null values in the right columns.\n",
    "2. A **right join** would preserve all the rows in the right DataFrame but only include rows from the left DataFrame if they have a matching key. If there are keys in the right that are not present in the left, there will be null values in the left columns.\n",
    "3. An **outer join** that preserves all the rows in both the left and right DataFrames. Where the keys do not match up, there will be missing data in either the left and right columns respectively. This tends to produce the largest table but with the most missing values.\n",
    "4. An **inner join** will preserve all only the rows if there is a matching key from both the left and the right. This tends to produce the smallest table but also with the fewest missing values.\n",
    "\n",
    "![From W3 Schools](https://www.w3schools.com/sql/img_leftjoin.gif)\n",
    "\n",
    "![](https://pandas.pydata.org/pandas-docs/stable/_images/merging_merge_on_key_left.png)\n",
    "\n",
    "![From W3 Schools](https://www.w3schools.com/sql/img_innerjoin.gif)\n",
    "\n",
    "![](https://pandas.pydata.org/pandas-docs/stable/_images/merging_merge_on_key_inner.png)\n",
    "\n",
    "![From W3 Schools](https://www.w3schools.com/sql/img_fulljoin.gif)\n",
    "\n",
    "![](https://pandas.pydata.org/pandas-docs/stable/_images/merging_merge_on_key_outer.png)"
   ]
  },
  {
   "cell_type": "code",
   "execution_count": 42,
   "metadata": {},
   "outputs": [
    {
     "data": {
      "text/plain": [
       "(2949, 14)"
      ]
     },
     "execution_count": 42,
     "metadata": {},
     "output_type": "execute_result"
    }
   ],
   "source": [
    "info_df.shape"
   ]
  },
  {
   "cell_type": "code",
   "execution_count": 43,
   "metadata": {},
   "outputs": [
    {
     "data": {
      "text/plain": [
       "(7577, 14)"
      ]
     },
     "execution_count": 43,
     "metadata": {},
     "output_type": "execute_result"
    }
   ],
   "source": [
    "students_df.shape"
   ]
  },
  {
   "cell_type": "code",
   "execution_count": 48,
   "metadata": {},
   "outputs": [
    {
     "data": {
      "text/plain": [
       "1049"
      ]
     },
     "execution_count": 48,
     "metadata": {},
     "output_type": "execute_result"
    }
   ],
   "source": [
    "len(set(info_df['Sch Code'].unique()) - set(students_df['School Code'].unique()))"
   ]
  },
  {
   "cell_type": "code",
   "execution_count": 49,
   "metadata": {},
   "outputs": [
    {
     "data": {
      "text/plain": [
       "69"
      ]
     },
     "execution_count": 49,
     "metadata": {},
     "output_type": "execute_result"
    }
   ],
   "source": [
    "len(set(students_df['School Code'].unique()) - set(info_df['Sch Code'].unique()))"
   ]
  },
  {
   "cell_type": "code",
   "execution_count": 44,
   "metadata": {},
   "outputs": [
    {
     "data": {
      "text/html": [
       "<div>\n",
       "<style scoped>\n",
       "    .dataframe tbody tr th:only-of-type {\n",
       "        vertical-align: middle;\n",
       "    }\n",
       "\n",
       "    .dataframe tbody tr th {\n",
       "        vertical-align: top;\n",
       "    }\n",
       "\n",
       "    .dataframe thead th {\n",
       "        text-align: right;\n",
       "    }\n",
       "</style>\n",
       "<table border=\"1\" class=\"dataframe\">\n",
       "  <thead>\n",
       "    <tr style=\"text-align: right;\">\n",
       "      <th></th>\n",
       "      <th>School Year</th>\n",
       "      <th>County Name</th>\n",
       "      <th>District Code</th>\n",
       "      <th>District Name</th>\n",
       "      <th>Setting</th>\n",
       "      <th>Sch Code</th>\n",
       "      <th>School Name</th>\n",
       "      <th>Low Grade</th>\n",
       "      <th>High Grade</th>\n",
       "      <th>Elem Level</th>\n",
       "      <th>Middle Level</th>\n",
       "      <th>Senior Level</th>\n",
       "      <th>System Code</th>\n",
       "      <th>Charter</th>\n",
       "    </tr>\n",
       "  </thead>\n",
       "  <tbody>\n",
       "    <tr>\n",
       "      <td>0</td>\n",
       "      <td>2021</td>\n",
       "      <td>Weld</td>\n",
       "      <td>3085</td>\n",
       "      <td>Eaton RE-2</td>\n",
       "      <td>Outlying Town</td>\n",
       "      <td>4820</td>\n",
       "      <td>Eaton Early Learning Center</td>\n",
       "      <td>004</td>\n",
       "      <td>004</td>\n",
       "      <td>True</td>\n",
       "      <td>False</td>\n",
       "      <td>False</td>\n",
       "      <td>Non-Public</td>\n",
       "      <td>False</td>\n",
       "    </tr>\n",
       "    <tr>\n",
       "      <td>1</td>\n",
       "      <td>2021</td>\n",
       "      <td>Weld</td>\n",
       "      <td>3085</td>\n",
       "      <td>Eaton RE-2</td>\n",
       "      <td>Outlying Town</td>\n",
       "      <td>0754</td>\n",
       "      <td>Benjamin Eaton Elementary School</td>\n",
       "      <td>030</td>\n",
       "      <td>050</td>\n",
       "      <td>True</td>\n",
       "      <td>False</td>\n",
       "      <td>False</td>\n",
       "      <td>Public</td>\n",
       "      <td>False</td>\n",
       "    </tr>\n",
       "  </tbody>\n",
       "</table>\n",
       "</div>"
      ],
      "text/plain": [
       "  School Year County Name District Code District Name        Setting Sch Code  \\\n",
       "0        2021        Weld          3085    Eaton RE-2  Outlying Town     4820   \n",
       "1        2021        Weld          3085    Eaton RE-2  Outlying Town     0754   \n",
       "\n",
       "                        School Name Low Grade High Grade Elem Level  \\\n",
       "0       Eaton Early Learning Center       004        004       True   \n",
       "1  Benjamin Eaton Elementary School       030        050       True   \n",
       "\n",
       "  Middle Level Senior Level System Code Charter  \n",
       "0        False        False  Non-Public   False  \n",
       "1        False        False      Public   False  "
      ]
     },
     "execution_count": 44,
     "metadata": {},
     "output_type": "execute_result"
    }
   ],
   "source": [
    "info_df.head(2)"
   ]
  },
  {
   "cell_type": "code",
   "execution_count": 45,
   "metadata": {},
   "outputs": [
    {
     "data": {
      "text/html": [
       "<div>\n",
       "<style scoped>\n",
       "    .dataframe tbody tr th:only-of-type {\n",
       "        vertical-align: middle;\n",
       "    }\n",
       "\n",
       "    .dataframe tbody tr th {\n",
       "        vertical-align: top;\n",
       "    }\n",
       "\n",
       "    .dataframe thead th {\n",
       "        text-align: right;\n",
       "    }\n",
       "</style>\n",
       "<table border=\"1\" class=\"dataframe\">\n",
       "  <thead>\n",
       "    <tr style=\"text-align: right;\">\n",
       "      <th></th>\n",
       "      <th>Year</th>\n",
       "      <th>Org. Code</th>\n",
       "      <th>Organization Name</th>\n",
       "      <th>School Code</th>\n",
       "      <th>School Name</th>\n",
       "      <th>Native Enrollment</th>\n",
       "      <th>Asian Enrollment</th>\n",
       "      <th>Black Enrollment</th>\n",
       "      <th>Hispanic Enrollment</th>\n",
       "      <th>White Enrollment</th>\n",
       "      <th>Islander Enrollment</th>\n",
       "      <th>Multiracial Enrollment</th>\n",
       "      <th>Female Enrollment</th>\n",
       "      <th>PK-12 Total</th>\n",
       "    </tr>\n",
       "  </thead>\n",
       "  <tbody>\n",
       "    <tr>\n",
       "      <td>0</td>\n",
       "      <td>2016-17</td>\n",
       "      <td>0010</td>\n",
       "      <td>MAPLETON 1</td>\n",
       "      <td>0187</td>\n",
       "      <td>Mapleton Expeditionary School Of The Arts</td>\n",
       "      <td>0.010972</td>\n",
       "      <td>0.007837</td>\n",
       "      <td>0.020376</td>\n",
       "      <td>0.710031</td>\n",
       "      <td>0.227273</td>\n",
       "      <td>0.001567</td>\n",
       "      <td>0.025078</td>\n",
       "      <td>0.492163</td>\n",
       "      <td>638</td>\n",
       "    </tr>\n",
       "    <tr>\n",
       "      <td>1</td>\n",
       "      <td>2016-17</td>\n",
       "      <td>0010</td>\n",
       "      <td>MAPLETON 1</td>\n",
       "      <td>0212</td>\n",
       "      <td>Mapleton Early College High School</td>\n",
       "      <td>0.008163</td>\n",
       "      <td>0.016327</td>\n",
       "      <td>0.016327</td>\n",
       "      <td>0.697959</td>\n",
       "      <td>0.224490</td>\n",
       "      <td>0.004082</td>\n",
       "      <td>0.008163</td>\n",
       "      <td>0.506122</td>\n",
       "      <td>245</td>\n",
       "    </tr>\n",
       "  </tbody>\n",
       "</table>\n",
       "</div>"
      ],
      "text/plain": [
       "      Year Org. Code Organization Name School Code  \\\n",
       "0  2016-17      0010        MAPLETON 1        0187   \n",
       "1  2016-17      0010        MAPLETON 1        0212   \n",
       "\n",
       "                                 School Name  Native Enrollment  \\\n",
       "0  Mapleton Expeditionary School Of The Arts           0.010972   \n",
       "1         Mapleton Early College High School           0.008163   \n",
       "\n",
       "   Asian Enrollment  Black Enrollment  Hispanic Enrollment  White Enrollment  \\\n",
       "0          0.007837          0.020376             0.710031          0.227273   \n",
       "1          0.016327          0.016327             0.697959          0.224490   \n",
       "\n",
       "   Islander Enrollment  Multiracial Enrollment  Female Enrollment  PK-12 Total  \n",
       "0             0.001567                0.025078           0.492163          638  \n",
       "1             0.004082                0.008163           0.506122          245  "
      ]
     },
     "execution_count": 45,
     "metadata": {},
     "output_type": "execute_result"
    }
   ],
   "source": [
    "students_df.head(2)"
   ]
  },
  {
   "cell_type": "markdown",
   "metadata": {},
   "source": [
    "### Shape"
   ]
  },
  {
   "cell_type": "code",
   "execution_count": null,
   "metadata": {},
   "outputs": [],
   "source": []
  },
  {
   "cell_type": "markdown",
   "metadata": {},
   "source": [
    "## Join"
   ]
  },
  {
   "cell_type": "code",
   "execution_count": 50,
   "metadata": {},
   "outputs": [],
   "source": [
    "join_students_info_left_df = pd.merge(left = students_df,\n",
    "                                 right = info_df,\n",
    "                                 left_on = 'School Code',\n",
    "                                 right_on = 'Sch Code',\n",
    "                                 how = 'left'\n",
    "                                )\n",
    "\n",
    "join_students_info_right_df = pd.merge(left = students_df,\n",
    "                                 right = info_df,\n",
    "                                 left_on = 'School Code',\n",
    "                                 right_on = 'Sch Code',\n",
    "                                 how = 'right'\n",
    "                                )\n",
    "\n",
    "join_students_info_inner_df = pd.merge(left = students_df,\n",
    "                                 right = info_df,\n",
    "                                 left_on = 'School Code',\n",
    "                                 right_on = 'Sch Code',\n",
    "                                 how = 'inner'\n",
    "                                )\n",
    "\n",
    "join_students_info_outer_df = pd.merge(left = students_df,\n",
    "                                 right = info_df,\n",
    "                                 left_on = 'School Code',\n",
    "                                 right_on = 'Sch Code',\n",
    "                                 how = 'outer'\n",
    "                                )"
   ]
  },
  {
   "cell_type": "markdown",
   "metadata": {},
   "source": [
    "## Evaluate join"
   ]
  },
  {
   "cell_type": "code",
   "execution_count": 51,
   "metadata": {},
   "outputs": [
    {
     "data": {
      "text/plain": [
       "(7577, 28)"
      ]
     },
     "execution_count": 51,
     "metadata": {},
     "output_type": "execute_result"
    }
   ],
   "source": [
    "join_students_info_left_df.shape"
   ]
  },
  {
   "cell_type": "code",
   "execution_count": 52,
   "metadata": {},
   "outputs": [
    {
     "data": {
      "text/plain": [
       "(8467, 28)"
      ]
     },
     "execution_count": 52,
     "metadata": {},
     "output_type": "execute_result"
    }
   ],
   "source": [
    "join_students_info_right_df.shape"
   ]
  },
  {
   "cell_type": "code",
   "execution_count": 53,
   "metadata": {},
   "outputs": [
    {
     "data": {
      "text/plain": [
       "(7418, 28)"
      ]
     },
     "execution_count": 53,
     "metadata": {},
     "output_type": "execute_result"
    }
   ],
   "source": [
    "join_students_info_inner_df.shape"
   ]
  },
  {
   "cell_type": "code",
   "execution_count": 54,
   "metadata": {
    "scrolled": true
   },
   "outputs": [
    {
     "data": {
      "text/plain": [
       "(8626, 28)"
      ]
     },
     "execution_count": 54,
     "metadata": {},
     "output_type": "execute_result"
    }
   ],
   "source": [
    "join_students_info_outer_df.shape"
   ]
  },
  {
   "cell_type": "code",
   "execution_count": 55,
   "metadata": {},
   "outputs": [
    {
     "data": {
      "text/html": [
       "<div>\n",
       "<style scoped>\n",
       "    .dataframe tbody tr th:only-of-type {\n",
       "        vertical-align: middle;\n",
       "    }\n",
       "\n",
       "    .dataframe tbody tr th {\n",
       "        vertical-align: top;\n",
       "    }\n",
       "\n",
       "    .dataframe thead th {\n",
       "        text-align: right;\n",
       "    }\n",
       "</style>\n",
       "<table border=\"1\" class=\"dataframe\">\n",
       "  <thead>\n",
       "    <tr style=\"text-align: right;\">\n",
       "      <th></th>\n",
       "      <th>Year</th>\n",
       "      <th>Org. Code</th>\n",
       "      <th>Organization Name</th>\n",
       "      <th>School Code</th>\n",
       "      <th>School Name_x</th>\n",
       "      <th>Native Enrollment</th>\n",
       "      <th>Asian Enrollment</th>\n",
       "      <th>Black Enrollment</th>\n",
       "      <th>Hispanic Enrollment</th>\n",
       "      <th>White Enrollment</th>\n",
       "      <th>Islander Enrollment</th>\n",
       "      <th>Multiracial Enrollment</th>\n",
       "      <th>Female Enrollment</th>\n",
       "      <th>PK-12 Total</th>\n",
       "      <th>School Year</th>\n",
       "      <th>County Name</th>\n",
       "      <th>District Code</th>\n",
       "      <th>District Name</th>\n",
       "      <th>Setting</th>\n",
       "      <th>Sch Code</th>\n",
       "      <th>School Name_y</th>\n",
       "      <th>Low Grade</th>\n",
       "      <th>High Grade</th>\n",
       "      <th>Elem Level</th>\n",
       "      <th>Middle Level</th>\n",
       "      <th>Senior Level</th>\n",
       "      <th>System Code</th>\n",
       "      <th>Charter</th>\n",
       "    </tr>\n",
       "  </thead>\n",
       "  <tbody>\n",
       "    <tr>\n",
       "      <td>0</td>\n",
       "      <td>2016-17</td>\n",
       "      <td>0010</td>\n",
       "      <td>MAPLETON 1</td>\n",
       "      <td>0187</td>\n",
       "      <td>Mapleton Expeditionary School Of The Arts</td>\n",
       "      <td>0.010972</td>\n",
       "      <td>0.007837</td>\n",
       "      <td>0.020376</td>\n",
       "      <td>0.710031</td>\n",
       "      <td>0.227273</td>\n",
       "      <td>0.001567</td>\n",
       "      <td>0.025078</td>\n",
       "      <td>0.492163</td>\n",
       "      <td>638</td>\n",
       "      <td>2021</td>\n",
       "      <td>Adams</td>\n",
       "      <td>0010</td>\n",
       "      <td>Mapleton 1</td>\n",
       "      <td>Denver Metro</td>\n",
       "      <td>0187</td>\n",
       "      <td>Mapleton Expeditionary School Of The Arts</td>\n",
       "      <td>070</td>\n",
       "      <td>120</td>\n",
       "      <td>False</td>\n",
       "      <td>False</td>\n",
       "      <td>True</td>\n",
       "      <td>Public</td>\n",
       "      <td>False</td>\n",
       "    </tr>\n",
       "    <tr>\n",
       "      <td>1</td>\n",
       "      <td>2016-17</td>\n",
       "      <td>0010</td>\n",
       "      <td>MAPLETON 1</td>\n",
       "      <td>0212</td>\n",
       "      <td>Mapleton Early College High School</td>\n",
       "      <td>0.008163</td>\n",
       "      <td>0.016327</td>\n",
       "      <td>0.016327</td>\n",
       "      <td>0.697959</td>\n",
       "      <td>0.224490</td>\n",
       "      <td>0.004082</td>\n",
       "      <td>0.008163</td>\n",
       "      <td>0.506122</td>\n",
       "      <td>245</td>\n",
       "      <td>2021</td>\n",
       "      <td>Adams</td>\n",
       "      <td>0010</td>\n",
       "      <td>Mapleton 1</td>\n",
       "      <td>Denver Metro</td>\n",
       "      <td>0212</td>\n",
       "      <td>Mapleton Early College High School</td>\n",
       "      <td>090</td>\n",
       "      <td>120</td>\n",
       "      <td>False</td>\n",
       "      <td>False</td>\n",
       "      <td>True</td>\n",
       "      <td>Public</td>\n",
       "      <td>False</td>\n",
       "    </tr>\n",
       "    <tr>\n",
       "      <td>2</td>\n",
       "      <td>2016-17</td>\n",
       "      <td>0010</td>\n",
       "      <td>MAPLETON 1</td>\n",
       "      <td>0263</td>\n",
       "      <td>Global Leadership Academy</td>\n",
       "      <td>0.000000</td>\n",
       "      <td>0.010050</td>\n",
       "      <td>0.005025</td>\n",
       "      <td>0.914573</td>\n",
       "      <td>0.065327</td>\n",
       "      <td>0.000000</td>\n",
       "      <td>0.000000</td>\n",
       "      <td>0.472362</td>\n",
       "      <td>199</td>\n",
       "      <td>2021</td>\n",
       "      <td>Adams</td>\n",
       "      <td>0010</td>\n",
       "      <td>Mapleton 1</td>\n",
       "      <td>Denver Metro</td>\n",
       "      <td>0263</td>\n",
       "      <td>Global Leadership Academy</td>\n",
       "      <td>090</td>\n",
       "      <td>120</td>\n",
       "      <td>False</td>\n",
       "      <td>False</td>\n",
       "      <td>True</td>\n",
       "      <td>Public</td>\n",
       "      <td>False</td>\n",
       "    </tr>\n",
       "    <tr>\n",
       "      <td>3</td>\n",
       "      <td>2016-17</td>\n",
       "      <td>0010</td>\n",
       "      <td>MAPLETON 1</td>\n",
       "      <td>0309</td>\n",
       "      <td>Academy High School</td>\n",
       "      <td>0.018391</td>\n",
       "      <td>0.018391</td>\n",
       "      <td>0.039080</td>\n",
       "      <td>0.770115</td>\n",
       "      <td>0.121839</td>\n",
       "      <td>0.004598</td>\n",
       "      <td>0.018391</td>\n",
       "      <td>0.402299</td>\n",
       "      <td>435</td>\n",
       "      <td>2021</td>\n",
       "      <td>Adams</td>\n",
       "      <td>0010</td>\n",
       "      <td>Mapleton 1</td>\n",
       "      <td>Denver Metro</td>\n",
       "      <td>0309</td>\n",
       "      <td>Academy High School</td>\n",
       "      <td>090</td>\n",
       "      <td>120</td>\n",
       "      <td>False</td>\n",
       "      <td>False</td>\n",
       "      <td>True</td>\n",
       "      <td>Public</td>\n",
       "      <td>False</td>\n",
       "    </tr>\n",
       "    <tr>\n",
       "      <td>4</td>\n",
       "      <td>2016-17</td>\n",
       "      <td>0010</td>\n",
       "      <td>MAPLETON 1</td>\n",
       "      <td>0501</td>\n",
       "      <td>Monterey Community School</td>\n",
       "      <td>0.000000</td>\n",
       "      <td>0.012397</td>\n",
       "      <td>0.018595</td>\n",
       "      <td>0.851240</td>\n",
       "      <td>0.109504</td>\n",
       "      <td>0.000000</td>\n",
       "      <td>0.000000</td>\n",
       "      <td>0.500000</td>\n",
       "      <td>484</td>\n",
       "      <td>2021</td>\n",
       "      <td>Adams</td>\n",
       "      <td>0010</td>\n",
       "      <td>Mapleton 1</td>\n",
       "      <td>Denver Metro</td>\n",
       "      <td>0501</td>\n",
       "      <td>Monterey Community School</td>\n",
       "      <td>006</td>\n",
       "      <td>080</td>\n",
       "      <td>True</td>\n",
       "      <td>False</td>\n",
       "      <td>False</td>\n",
       "      <td>Public</td>\n",
       "      <td>False</td>\n",
       "    </tr>\n",
       "  </tbody>\n",
       "</table>\n",
       "</div>"
      ],
      "text/plain": [
       "      Year Org. Code Organization Name School Code  \\\n",
       "0  2016-17      0010        MAPLETON 1        0187   \n",
       "1  2016-17      0010        MAPLETON 1        0212   \n",
       "2  2016-17      0010        MAPLETON 1        0263   \n",
       "3  2016-17      0010        MAPLETON 1        0309   \n",
       "4  2016-17      0010        MAPLETON 1        0501   \n",
       "\n",
       "                               School Name_x  Native Enrollment  \\\n",
       "0  Mapleton Expeditionary School Of The Arts           0.010972   \n",
       "1         Mapleton Early College High School           0.008163   \n",
       "2                  Global Leadership Academy           0.000000   \n",
       "3                        Academy High School           0.018391   \n",
       "4                  Monterey Community School           0.000000   \n",
       "\n",
       "   Asian Enrollment  Black Enrollment  Hispanic Enrollment  White Enrollment  \\\n",
       "0          0.007837          0.020376             0.710031          0.227273   \n",
       "1          0.016327          0.016327             0.697959          0.224490   \n",
       "2          0.010050          0.005025             0.914573          0.065327   \n",
       "3          0.018391          0.039080             0.770115          0.121839   \n",
       "4          0.012397          0.018595             0.851240          0.109504   \n",
       "\n",
       "   Islander Enrollment  Multiracial Enrollment  Female Enrollment  \\\n",
       "0             0.001567                0.025078           0.492163   \n",
       "1             0.004082                0.008163           0.506122   \n",
       "2             0.000000                0.000000           0.472362   \n",
       "3             0.004598                0.018391           0.402299   \n",
       "4             0.000000                0.000000           0.500000   \n",
       "\n",
       "   PK-12 Total School Year County Name District Code District Name  \\\n",
       "0          638        2021       Adams          0010    Mapleton 1   \n",
       "1          245        2021       Adams          0010    Mapleton 1   \n",
       "2          199        2021       Adams          0010    Mapleton 1   \n",
       "3          435        2021       Adams          0010    Mapleton 1   \n",
       "4          484        2021       Adams          0010    Mapleton 1   \n",
       "\n",
       "        Setting Sch Code                              School Name_y Low Grade  \\\n",
       "0  Denver Metro     0187  Mapleton Expeditionary School Of The Arts       070   \n",
       "1  Denver Metro     0212         Mapleton Early College High School       090   \n",
       "2  Denver Metro     0263                  Global Leadership Academy       090   \n",
       "3  Denver Metro     0309                        Academy High School       090   \n",
       "4  Denver Metro     0501                  Monterey Community School       006   \n",
       "\n",
       "  High Grade Elem Level Middle Level Senior Level System Code Charter  \n",
       "0        120      False        False         True      Public   False  \n",
       "1        120      False        False         True      Public   False  \n",
       "2        120      False        False         True      Public   False  \n",
       "3        120      False        False         True      Public   False  \n",
       "4        080       True        False        False      Public   False  "
      ]
     },
     "execution_count": 55,
     "metadata": {},
     "output_type": "execute_result"
    }
   ],
   "source": [
    "join_students_info_left_df.head()"
   ]
  },
  {
   "cell_type": "code",
   "execution_count": 56,
   "metadata": {},
   "outputs": [
    {
     "data": {
      "text/html": [
       "<div>\n",
       "<style scoped>\n",
       "    .dataframe tbody tr th:only-of-type {\n",
       "        vertical-align: middle;\n",
       "    }\n",
       "\n",
       "    .dataframe tbody tr th {\n",
       "        vertical-align: top;\n",
       "    }\n",
       "\n",
       "    .dataframe thead th {\n",
       "        text-align: right;\n",
       "    }\n",
       "</style>\n",
       "<table border=\"1\" class=\"dataframe\">\n",
       "  <thead>\n",
       "    <tr style=\"text-align: right;\">\n",
       "      <th></th>\n",
       "      <th>Year</th>\n",
       "      <th>Org. Code</th>\n",
       "      <th>Organization Name</th>\n",
       "      <th>School Code</th>\n",
       "      <th>School Name_x</th>\n",
       "      <th>Native Enrollment</th>\n",
       "      <th>Asian Enrollment</th>\n",
       "      <th>Black Enrollment</th>\n",
       "      <th>Hispanic Enrollment</th>\n",
       "      <th>White Enrollment</th>\n",
       "      <th>Islander Enrollment</th>\n",
       "      <th>Multiracial Enrollment</th>\n",
       "      <th>Female Enrollment</th>\n",
       "      <th>PK-12 Total</th>\n",
       "      <th>School Year</th>\n",
       "      <th>County Name</th>\n",
       "      <th>District Code</th>\n",
       "      <th>District Name</th>\n",
       "      <th>Setting</th>\n",
       "      <th>Sch Code</th>\n",
       "      <th>School Name_y</th>\n",
       "      <th>Low Grade</th>\n",
       "      <th>High Grade</th>\n",
       "      <th>Elem Level</th>\n",
       "      <th>Middle Level</th>\n",
       "      <th>Senior Level</th>\n",
       "      <th>System Code</th>\n",
       "      <th>Charter</th>\n",
       "    </tr>\n",
       "  </thead>\n",
       "  <tbody>\n",
       "    <tr>\n",
       "      <td>0</td>\n",
       "      <td>2016-17</td>\n",
       "      <td>0010</td>\n",
       "      <td>MAPLETON 1</td>\n",
       "      <td>0187</td>\n",
       "      <td>Mapleton Expeditionary School Of The Arts</td>\n",
       "      <td>0.010972</td>\n",
       "      <td>0.007837</td>\n",
       "      <td>0.020376</td>\n",
       "      <td>0.710031</td>\n",
       "      <td>0.227273</td>\n",
       "      <td>0.001567</td>\n",
       "      <td>0.025078</td>\n",
       "      <td>0.492163</td>\n",
       "      <td>638.0</td>\n",
       "      <td>2021</td>\n",
       "      <td>Adams</td>\n",
       "      <td>0010</td>\n",
       "      <td>Mapleton 1</td>\n",
       "      <td>Denver Metro</td>\n",
       "      <td>0187</td>\n",
       "      <td>Mapleton Expeditionary School Of The Arts</td>\n",
       "      <td>070</td>\n",
       "      <td>120</td>\n",
       "      <td>False</td>\n",
       "      <td>False</td>\n",
       "      <td>True</td>\n",
       "      <td>Public</td>\n",
       "      <td>False</td>\n",
       "    </tr>\n",
       "    <tr>\n",
       "      <td>1</td>\n",
       "      <td>2017-18</td>\n",
       "      <td>0010</td>\n",
       "      <td>MAPLETON 1</td>\n",
       "      <td>0187</td>\n",
       "      <td>Mapleton Expeditionary School Of The Arts</td>\n",
       "      <td>0.016248</td>\n",
       "      <td>0.008863</td>\n",
       "      <td>0.025111</td>\n",
       "      <td>0.714919</td>\n",
       "      <td>0.214180</td>\n",
       "      <td>0.001477</td>\n",
       "      <td>0.020679</td>\n",
       "      <td>0.528804</td>\n",
       "      <td>677.0</td>\n",
       "      <td>2021</td>\n",
       "      <td>Adams</td>\n",
       "      <td>0010</td>\n",
       "      <td>Mapleton 1</td>\n",
       "      <td>Denver Metro</td>\n",
       "      <td>0187</td>\n",
       "      <td>Mapleton Expeditionary School Of The Arts</td>\n",
       "      <td>070</td>\n",
       "      <td>120</td>\n",
       "      <td>False</td>\n",
       "      <td>False</td>\n",
       "      <td>True</td>\n",
       "      <td>Public</td>\n",
       "      <td>False</td>\n",
       "    </tr>\n",
       "    <tr>\n",
       "      <td>2</td>\n",
       "      <td>2018-19</td>\n",
       "      <td>0010</td>\n",
       "      <td>MAPLETON 1</td>\n",
       "      <td>0187</td>\n",
       "      <td>Mapleton Expeditionary School Of The Arts</td>\n",
       "      <td>0.016345</td>\n",
       "      <td>0.011887</td>\n",
       "      <td>0.028232</td>\n",
       "      <td>0.717682</td>\n",
       "      <td>0.194651</td>\n",
       "      <td>0.002972</td>\n",
       "      <td>0.026746</td>\n",
       "      <td>0.515602</td>\n",
       "      <td>673.0</td>\n",
       "      <td>2021</td>\n",
       "      <td>Adams</td>\n",
       "      <td>0010</td>\n",
       "      <td>Mapleton 1</td>\n",
       "      <td>Denver Metro</td>\n",
       "      <td>0187</td>\n",
       "      <td>Mapleton Expeditionary School Of The Arts</td>\n",
       "      <td>070</td>\n",
       "      <td>120</td>\n",
       "      <td>False</td>\n",
       "      <td>False</td>\n",
       "      <td>True</td>\n",
       "      <td>Public</td>\n",
       "      <td>False</td>\n",
       "    </tr>\n",
       "    <tr>\n",
       "      <td>3</td>\n",
       "      <td>2019-20</td>\n",
       "      <td>0010</td>\n",
       "      <td>Mapleton 1</td>\n",
       "      <td>0187</td>\n",
       "      <td>Mapleton Expeditionary School Of The Arts</td>\n",
       "      <td>0.015670</td>\n",
       "      <td>0.011396</td>\n",
       "      <td>0.024217</td>\n",
       "      <td>0.753561</td>\n",
       "      <td>0.169516</td>\n",
       "      <td>0.001425</td>\n",
       "      <td>0.034188</td>\n",
       "      <td>0.521368</td>\n",
       "      <td>702.0</td>\n",
       "      <td>2021</td>\n",
       "      <td>Adams</td>\n",
       "      <td>0010</td>\n",
       "      <td>Mapleton 1</td>\n",
       "      <td>Denver Metro</td>\n",
       "      <td>0187</td>\n",
       "      <td>Mapleton Expeditionary School Of The Arts</td>\n",
       "      <td>070</td>\n",
       "      <td>120</td>\n",
       "      <td>False</td>\n",
       "      <td>False</td>\n",
       "      <td>True</td>\n",
       "      <td>Public</td>\n",
       "      <td>False</td>\n",
       "    </tr>\n",
       "    <tr>\n",
       "      <td>4</td>\n",
       "      <td>2016-17</td>\n",
       "      <td>0010</td>\n",
       "      <td>MAPLETON 1</td>\n",
       "      <td>0212</td>\n",
       "      <td>Mapleton Early College High School</td>\n",
       "      <td>0.008163</td>\n",
       "      <td>0.016327</td>\n",
       "      <td>0.016327</td>\n",
       "      <td>0.697959</td>\n",
       "      <td>0.224490</td>\n",
       "      <td>0.004082</td>\n",
       "      <td>0.008163</td>\n",
       "      <td>0.506122</td>\n",
       "      <td>245.0</td>\n",
       "      <td>2021</td>\n",
       "      <td>Adams</td>\n",
       "      <td>0010</td>\n",
       "      <td>Mapleton 1</td>\n",
       "      <td>Denver Metro</td>\n",
       "      <td>0212</td>\n",
       "      <td>Mapleton Early College High School</td>\n",
       "      <td>090</td>\n",
       "      <td>120</td>\n",
       "      <td>False</td>\n",
       "      <td>False</td>\n",
       "      <td>True</td>\n",
       "      <td>Public</td>\n",
       "      <td>False</td>\n",
       "    </tr>\n",
       "  </tbody>\n",
       "</table>\n",
       "</div>"
      ],
      "text/plain": [
       "      Year Org. Code Organization Name School Code  \\\n",
       "0  2016-17      0010        MAPLETON 1        0187   \n",
       "1  2017-18      0010        MAPLETON 1        0187   \n",
       "2  2018-19      0010        MAPLETON 1        0187   \n",
       "3  2019-20      0010        Mapleton 1        0187   \n",
       "4  2016-17      0010        MAPLETON 1        0212   \n",
       "\n",
       "                               School Name_x  Native Enrollment  \\\n",
       "0  Mapleton Expeditionary School Of The Arts           0.010972   \n",
       "1  Mapleton Expeditionary School Of The Arts           0.016248   \n",
       "2  Mapleton Expeditionary School Of The Arts           0.016345   \n",
       "3  Mapleton Expeditionary School Of The Arts           0.015670   \n",
       "4         Mapleton Early College High School           0.008163   \n",
       "\n",
       "   Asian Enrollment  Black Enrollment  Hispanic Enrollment  White Enrollment  \\\n",
       "0          0.007837          0.020376             0.710031          0.227273   \n",
       "1          0.008863          0.025111             0.714919          0.214180   \n",
       "2          0.011887          0.028232             0.717682          0.194651   \n",
       "3          0.011396          0.024217             0.753561          0.169516   \n",
       "4          0.016327          0.016327             0.697959          0.224490   \n",
       "\n",
       "   Islander Enrollment  Multiracial Enrollment  Female Enrollment  \\\n",
       "0             0.001567                0.025078           0.492163   \n",
       "1             0.001477                0.020679           0.528804   \n",
       "2             0.002972                0.026746           0.515602   \n",
       "3             0.001425                0.034188           0.521368   \n",
       "4             0.004082                0.008163           0.506122   \n",
       "\n",
       "   PK-12 Total School Year County Name District Code District Name  \\\n",
       "0        638.0        2021       Adams          0010    Mapleton 1   \n",
       "1        677.0        2021       Adams          0010    Mapleton 1   \n",
       "2        673.0        2021       Adams          0010    Mapleton 1   \n",
       "3        702.0        2021       Adams          0010    Mapleton 1   \n",
       "4        245.0        2021       Adams          0010    Mapleton 1   \n",
       "\n",
       "        Setting Sch Code                              School Name_y Low Grade  \\\n",
       "0  Denver Metro     0187  Mapleton Expeditionary School Of The Arts       070   \n",
       "1  Denver Metro     0187  Mapleton Expeditionary School Of The Arts       070   \n",
       "2  Denver Metro     0187  Mapleton Expeditionary School Of The Arts       070   \n",
       "3  Denver Metro     0187  Mapleton Expeditionary School Of The Arts       070   \n",
       "4  Denver Metro     0212         Mapleton Early College High School       090   \n",
       "\n",
       "  High Grade Elem Level Middle Level Senior Level System Code Charter  \n",
       "0        120      False        False         True      Public   False  \n",
       "1        120      False        False         True      Public   False  \n",
       "2        120      False        False         True      Public   False  \n",
       "3        120      False        False         True      Public   False  \n",
       "4        120      False        False         True      Public   False  "
      ]
     },
     "execution_count": 56,
     "metadata": {},
     "output_type": "execute_result"
    }
   ],
   "source": [
    "join_students_info_right_df.head()"
   ]
  },
  {
   "cell_type": "code",
   "execution_count": null,
   "metadata": {},
   "outputs": [],
   "source": []
  },
  {
   "cell_type": "markdown",
   "metadata": {},
   "source": [
    "## EDA and visualization"
   ]
  },
  {
   "cell_type": "code",
   "execution_count": 60,
   "metadata": {},
   "outputs": [
    {
     "data": {
      "text/plain": [
       "<matplotlib.lines.Line2D at 0x7f96f2908e90>"
      ]
     },
     "execution_count": 60,
     "metadata": {},
     "output_type": "execute_result"
    },
    {
     "data": {
      "image/png": "[encoded data removed]",
      "text/plain": [
       "<Figure size 432x288 with 1 Axes>"
      ]
     },
     "metadata": {
      "needs_background": "light"
     },
     "output_type": "display_data"
    }
   ],
   "source": [
    "ax = join_students_info_outer_df['Female Enrollment'].hist(bins=25)\n",
    "ax.set_yscale('log')\n",
    "ax.axvline(.5,color='r')"
   ]
  },
  {
   "cell_type": "code",
   "execution_count": 75,
   "metadata": {},
   "outputs": [
    {
     "data": {
      "text/plain": [
       "Public              7421\n",
       "Non-Public           720\n",
       "Head Start           251\n",
       "Facility Sch          45\n",
       "--                    20\n",
       "Detention Center       9\n",
       "Name: System Code, dtype: int64"
      ]
     },
     "execution_count": 75,
     "metadata": {},
     "output_type": "execute_result"
    }
   ],
   "source": [
    "join_students_info_outer_df['System Code'].value_counts()"
   ]
  },
  {
   "cell_type": "code",
   "execution_count": 83,
   "metadata": {},
   "outputs": [
    {
     "data": {
      "text/plain": [
       "<seaborn.axisgrid.FacetGrid at 0x7f96d8dd9e90>"
      ]
     },
     "execution_count": 83,
     "metadata": {},
     "output_type": "execute_result"
    },
    {
     "data": {
      "image/png": "[encoded data removed]",
      "text/plain": [
       "<Figure size 797.75x360 with 1 Axes>"
      ]
     },
     "metadata": {
      "needs_background": "light"
     },
     "output_type": "display_data"
    }
   ],
   "source": [
    "sb.catplot(data=join_students_info_outer_df,\n",
    "           x='Setting',\n",
    "           y='Multiracial Enrollment',\n",
    "           hue='Year',\n",
    "           dodge=.5,\n",
    "           kind='bar',aspect=2)"
   ]
  },
  {
   "cell_type": "code",
   "execution_count": 82,
   "metadata": {},
   "outputs": [
    {
     "data": {
      "text/plain": [
       "<seaborn.axisgrid.FacetGrid at 0x7f96d82bd610>"
      ]
     },
     "execution_count": 82,
     "metadata": {},
     "output_type": "execute_result"
    },
    {
     "data": {
      "image/png": "[encoded data removed]",
      "text/plain": [
       "<Figure size 797.75x360 with 1 Axes>"
      ]
     },
     "metadata": {
      "needs_background": "light"
     },
     "output_type": "display_data"
    }
   ],
   "source": [
    "sb.catplot(data=join_students_info_inner_df,\n",
    "           x='Setting',\n",
    "           y='Multiracial Enrollment',\n",
    "           hue='Year',\n",
    "           dodge=.5,\n",
    "           kind='bar',aspect=2)"
   ]
  },
  {
   "cell_type": "markdown",
   "metadata": {},
   "source": [
    "## Appendix\n",
    "\n",
    "It was a fair bit of work to turn the raw data into the data we used in class. You will not be evaluated on you knowledge of anything in this or any future appendix, but if you want to see how the sausage is made to improve your own game, I've included all the steps I took to clean up the data below. Note that this was ~4 hours of work, not something I just threw together in my spare time: it took time for me to get it right!\n",
    "\n",
    "To make the files we used in the class exercise required some data cleanup of the raw files:\n",
    "* **Information.** CDE's [SchoolView](https://www.cde.state.co.us/schoolview) publishes general information about \"All Colorado Schools (XLS)\"\n",
    "* **Immunization.** CDPHE [Community Partner](https://www.dcphrapps.dphe.state.co.us/Reports/ReportList/Partners) for 2017-2020 and [2016-2017](https://www.cohealthdata.dphe.state.co.us/Data/Details/1) school-level data\n",
    "* **Enrollments.** CDE's [Current](https://www.cde.state.co.us/cdereval/pupilcurrent) and [Archival](https://www.cde.state.co.us/cdereval/rvprioryearpmdata) Pupil Membership \"School Level Data\" for \"Race/Ethnicity and Gender by Grade and School\".\n"
   ]
  },
  {
   "cell_type": "code",
   "execution_count": null,
   "metadata": {},
   "outputs": [],
   "source": [
    "import os"
   ]
  },
  {
   "cell_type": "markdown",
   "metadata": {},
   "source": [
    "### General information"
   ]
  },
  {
   "cell_type": "code",
   "execution_count": null,
   "metadata": {},
   "outputs": [],
   "source": [
    "info_df[['Elem Level','Middle Level','Senior Level','Charter']].replace({'N':False,'Y':True})"
   ]
  },
  {
   "cell_type": "code",
   "execution_count": null,
   "metadata": {},
   "outputs": [],
   "source": [
    "info_df = pd.read_excel('./Schools/schools_information.xlsx',skiprows=[0,1,2],\n",
    "                        dtype={'District Code':str,'Sch Code':str,'Low Grade':str,'High Grade':str})\n",
    "\n",
    "info_df[['Elem Level','Middle Level','Senior Level','Charter?']] = info_df[['Elem Level','Middle Level','Senior Level','Charter?']].replace({'N':False,'Y':True})\n",
    "info_df.rename(columns={'Charter?':'Charter'},inplace=True)\n",
    "info_df['County Name'] = info_df['County Name'].str.title()\n",
    "info_df['School Name'] = info_df['School Name'].str.title()\n",
    "\n",
    "info_df.to_csv('cleaned_school_info.csv',encoding='utf8',index=False)\n",
    "\n",
    "info_df.head()"
   ]
  },
  {
   "cell_type": "code",
   "execution_count": null,
   "metadata": {},
   "outputs": [],
   "source": [
    "info_df['County Name'].value_counts()"
   ]
  },
  {
   "cell_type": "code",
   "execution_count": null,
   "metadata": {},
   "outputs": [],
   "source": [
    "info_df['District Name'].value_counts()"
   ]
  },
  {
   "cell_type": "code",
   "execution_count": null,
   "metadata": {},
   "outputs": [],
   "source": [
    "info_df['Setting'].value_counts()"
   ]
  },
  {
   "cell_type": "code",
   "execution_count": null,
   "metadata": {},
   "outputs": [],
   "source": [
    "info_df['System Code'].value_counts()"
   ]
  },
  {
   "cell_type": "code",
   "execution_count": null,
   "metadata": {},
   "outputs": [],
   "source": [
    "info_df['Charter'].value_counts()"
   ]
  },
  {
   "cell_type": "markdown",
   "metadata": {},
   "source": [
    "\n",
    "### Immunization\n",
    "The raw school immunizations data does not contain School or District Codes to make these joins easier.\n",
    "\n",
    "#### 2016-2017 data"
   ]
  },
  {
   "cell_type": "code",
   "execution_count": null,
   "metadata": {},
   "outputs": [],
   "source": [
    "# Read in file\n",
    "imm_1617_df = pd.read_excel('./Schools/schools_immunization_2016-17.xlsx').dropna(subset=['Total Enrollment (Includes 6-12 Grade Enrollment)'])\n",
    "\n",
    "# Identify \"good\" column names and skip columns that have \"Unnamed: \" in them\n",
    "immunization_good_cols = [col for col in imm_1617_df.columns if 'Unnamed: ' not in col]\n",
    "\n",
    "# Reshape the DataFrame to keep the columns in immunization_good_cols\n",
    "imm_1617_df = imm_1617_df[immunization_good_cols]\n",
    "\n",
    "# Clean up some of the values and columns\n",
    "imm_1617_df.replace({'School Type':{'HIGH':'High'}},inplace=True)\n",
    "\n",
    "imm_1617_df.rename(columns={'School District Label':'School District',\n",
    "                                 'Total Enrollment (Includes 6-12 Grade Enrollment)':'Total Enrollment',\n",
    "                                 '6-12 Grade Enrollment (Tdap Eligible)':'6-12 Grade Enrollment'}\n",
    "                        ,inplace=True)\n",
    "\n",
    "imm_1617_df['School Name'] = imm_1617_df['School Name'].str.upper()\n",
    "\n",
    "# Extract — very imperfectly – the street address\n",
    "imm_1617_df['Street Address'] = imm_1617_df['Address'].str.replace(',CO',', CO').str.extract(r'([^,]+), CO')\n",
    "imm_1617_df['Zipcode'] = imm_1617_df['Address'].str.extract(r'CO (\\d{5})')\n",
    "\n",
    "# Clean up school name\n",
    "imm_1617_df['School Name'] = imm_1617_df['School Name'].str.title()\n",
    "\n",
    "# Rename primary column of interest\n",
    "imm_1617_df.rename(columns={'Average Up to Date Rate':'2016-17 Vacciations'},inplace=True)\n",
    "\n",
    "# Inspect\n",
    "print(\"There are {0:,} rows of data.\".format(len(imm_1617_df)))\n",
    "imm_1617_df.head()"
   ]
  },
  {
   "cell_type": "markdown",
   "metadata": {},
   "source": [
    "#### 2017-2020 data"
   ]
  },
  {
   "cell_type": "code",
   "execution_count": null,
   "metadata": {},
   "outputs": [],
   "source": [
    "immunization_df = pd.read_csv('./Schools/schools_alldata.csv',dtype={\"Site ID\":str,'Zip':str},thousands=',')\n",
    "immunization_df.columns = [i.strip() for i in immunization_df.columns]\n",
    "immunization_df.head()"
   ]
  },
  {
   "cell_type": "markdown",
   "metadata": {},
   "source": [
    "What's the shape of the data? (rows, columns)"
   ]
  },
  {
   "cell_type": "code",
   "execution_count": null,
   "metadata": {},
   "outputs": [],
   "source": [
    "immunization_df.shape"
   ]
  },
  {
   "cell_type": "code",
   "execution_count": null,
   "metadata": {},
   "outputs": [],
   "source": [
    "# This is troubling that these are objects instead of ints\n",
    "immunization_df['Total Students'].head()"
   ]
  },
  {
   "cell_type": "code",
   "execution_count": null,
   "metadata": {},
   "outputs": [],
   "source": [
    "# It turns out there are commas and some other mischevious values snuck in there\n",
    "# Replace and cast to floats\n",
    "immunization_df['Total Students'] = immunization_df['Total Students'].str.replace(',','').str.replace('<10','10').astype(float)"
   ]
  },
  {
   "cell_type": "code",
   "execution_count": null,
   "metadata": {},
   "outputs": [],
   "source": [
    "# Subset to the \"Fully Immunized Percent\" in \"Measure Names\"\n",
    "fully_immunized_boolean = immunization_df['Measure Names'] == 'Fully Immunized Percent'\n",
    "\n",
    "# Subset to \"School\" in \"Survey Type\" to exclude K and Pre-K surveys\n",
    "school_survey_type_boolean = immunization_df['Survey Type'] == 'School'\n",
    "\n",
    "# Boolean index\n",
    "fully_immunized_df = immunization_df[fully_immunized_boolean & school_survey_type_boolean].copy()\n",
    "\n",
    "# Inspect\n",
    "fully_immunized_df.head()"
   ]
  },
  {
   "cell_type": "code",
   "execution_count": null,
   "metadata": {},
   "outputs": [],
   "source": [
    "# Pivot to unmelt\n",
    "site_year_vaccine_pct_df = pd.pivot_table(data = fully_immunized_df,\n",
    "                                          index = 'Site Name',\n",
    "                                          columns = 'Year',\n",
    "                                          values = 'Measure Values',\n",
    "                                          aggfunc = 'min'\n",
    "                                         )\n",
    "\n",
    "# Clean index\n",
    "school_vaccination_df = site_year_vaccine_pct_df.reset_index()\n",
    "\n",
    "# Rename columns\n",
    "school_vaccination_df.columns = ['School Name','2017-18 Vaccinations','2018-19 Vaccinations','2019-20 Vaccinations']\n",
    "school_vaccination_df.columns.name = None\n",
    "\n",
    "# Try to clean school names\n",
    "school_vaccination_df['School Name'] = school_vaccination_df['School Name'].str.title()\n",
    "\n",
    "# Join in 2016-17 data\n",
    "_right = imm_1617_df[['School Name','2016-17 Vacciations']].copy()\n",
    "school_vaccination_df = pd.merge(left = school_vaccination_df,\n",
    "                                 right = _right,\n",
    "                                 on = 'School Name',\n",
    "                                 how = 'outer')\n",
    "\n",
    "# Re-order columns\n",
    "_new_col_order = ['School Name','2016-17 Vacciations','2017-18 Vaccinations','2018-19 Vaccinations','2019-20 Vaccinations']\n",
    "school_vaccination_df = school_vaccination_df[_new_col_order]\n",
    "\n",
    "# Save file\n",
    "school_vaccination_df.to_csv('cleaned_school_vaccination.csv',encoding='utf8',index=False)\n",
    "\n",
    "# Inspect\n",
    "print(school_vaccination_df.shape)\n",
    "school_vaccination_df.head(15)"
   ]
  },
  {
   "cell_type": "code",
   "execution_count": null,
   "metadata": {},
   "outputs": [],
   "source": [
    "# Re-order columns\n",
    "school_information_df = fully_immunized_df[['Site Name','Site ID','Address','City','County','School District','School Type','Type of Facility','Zip']].drop_duplicates(subset=['Site ID']).reset_index(drop=True)\n",
    "\n",
    "# Try to clean school names\n",
    "school_information_df['Site Name'] = school_information_df['Site Name'].str.title()\n",
    "\n",
    "# Save to file\n",
    "school_information_df.to_csv('cleaned_school_information.csv',encoding='utf8',index=False)\n",
    "\n",
    "# Inspect\n",
    "print(school_information_df.shape)\n",
    "school_information_df.head()"
   ]
  },
  {
   "cell_type": "markdown",
   "metadata": {},
   "source": [
    "### School enrollments"
   ]
  },
  {
   "cell_type": "code",
   "execution_count": null,
   "metadata": {},
   "outputs": [],
   "source": [
    "enrollment_1617_df = pd.read_excel('./Schools/2016-17-Membership-Race-Gender-byGradeSchool.xlsx',\n",
    "                        skiprows=[0,1,3],\n",
    "                        dtype={'School Code':str,'Org. Code':str})\n",
    "enrollment_1617_df.head()"
   ]
  },
  {
   "cell_type": "code",
   "execution_count": null,
   "metadata": {},
   "outputs": [],
   "source": [
    "# Read in the files\n",
    "membership_files = sorted([f for f in os.listdir('./Schools/') if 'Membership' in f])\n",
    "\n",
    "# Empty container for concatenation\n",
    "annual_all_grades_d = {}\n",
    "\n",
    "for f in membership_files:\n",
    "    _df = pd.read_excel('./Schools/' + f,\n",
    "                        skiprows=[0,1,3],\n",
    "                        dtype={'School Code':str,'Org. Code':str})\n",
    "    \n",
    "    # Yay inconsistent values across files\n",
    "    _df['Grade Level'].replace({'ALL GRADES TOTAL':'ALL GRADE LEVELS'},inplace=True)\n",
    "    \n",
    "    # Make Boolean indexes to identify the rows to keep\n",
    "    # Exclude rows containing \"Not a school\"\n",
    "    _true_schools = _df['School Name'] != 'Not a school'\n",
    "\n",
    "    # Include rows for \"ALL GRADES TOTAL\"\n",
    "    _all_grades = _df['Grade Level'] == 'ALL GRADE LEVELS'\n",
    "\n",
    "    _all_grades_df = _df[_true_schools & _all_grades].copy()\n",
    "    \n",
    "    _all_grades_df['School Name'] = _all_grades_df['School Name'].str.title()\n",
    "\n",
    "    _all_grades_df['Native Enrollment'] = (_all_grades_df['American Indian or Alaskan Native Female'] + _all_grades_df['American Indian or Alaskan Native Male'])/_all_grades_df['PK-12 Total']\n",
    "    _all_grades_df['Asian Enrollment'] = (_all_grades_df['Asian Female'] + _all_grades_df['Asian Male'])/_all_grades_df['PK-12 Total']\n",
    "    _all_grades_df['Black Enrollment'] = (_all_grades_df['Black or African American Female'] + _all_grades_df['Black or African American Male'])/_all_grades_df['PK-12 Total']\n",
    "    _all_grades_df['Hispanic Enrollment'] = (_all_grades_df['Hispanic or Latino Female'] + _all_grades_df['Hispanic or Latino Male'])/_all_grades_df['PK-12 Total']\n",
    "    _all_grades_df['White Enrollment'] = (_all_grades_df['White Female'] + _all_grades_df['White Male'])/_all_grades_df['PK-12 Total']\n",
    "    _all_grades_df['Islander Enrollment'] = (_all_grades_df['Native Hawaiian or Other Pacific Islander Female'] + _all_grades_df['Native Hawaiian or Other Pacific Islander Male'])/_all_grades_df['PK-12 Total']\n",
    "    _all_grades_df['Multiracial Enrollment'] = (_all_grades_df['Two or More Races Female'] + _all_grades_df['Two or More Races Female'])/_all_grades_df['PK-12 Total']\n",
    "    _female_cols = [col for col in _all_grades_df.columns if ' Female' in col]\n",
    "    _all_grades_df['Female Enrollment'] = _all_grades_df[_female_cols].sum(axis=1)/_all_grades_df['PK-12 Total']\n",
    "    \n",
    "    _info_cols = _all_grades_df.columns[:4].tolist()\n",
    "    _enrollment_cols = _all_grades_df.columns[-8:].tolist()\n",
    "    \n",
    "    _cleaned_df = _all_grades_df[_info_cols + _enrollment_cols + ['PK-12 Total']].reset_index(drop=True)\n",
    "    _year = f[:7]\n",
    "    print(_year,len(_cleaned_df))\n",
    "    annual_all_grades_d[_year] = _cleaned_df"
   ]
  },
  {
   "cell_type": "code",
   "execution_count": null,
   "metadata": {},
   "outputs": [],
   "source": [
    "# Concatenate together\n",
    "enrollment_df = pd.concat(annual_all_grades_d,names=['Year','Index'])\n",
    "\n",
    "# Clean up index\n",
    "enrollment_df = enrollment_df.reset_index(0).reset_index(drop=True)\n",
    "\n",
    "# Save to disk\n",
    "enrollment_df.to_csv('cleaned_school_enrollments.csv',encoding='utf8',index=False)\n",
    "\n",
    "# Inspect\n",
    "print(enrollment_df.shape)\n",
    "enrollment_df.head()"
   ]
  },
  {
   "cell_type": "code",
   "execution_count": null,
   "metadata": {},
   "outputs": [],
   "source": []
  }
 ],
 "metadata": {
  "kernelspec": {
   "display_name": "Python 3 (ipykernel)",
   "language": "python",
   "name": "python3"
  },
  "language_info": {
   "codemirror_mode": {
    "name": "ipython",
    "version": 3
   },
   "file_extension": ".py",
   "mimetype": "text/x-python",
   "name": "python",
   "nbconvert_exporter": "python",
   "pygments_lexer": "ipython3",
   "version": "3.9.9"
  }
 },
 "nbformat": 4,
 "nbformat_minor": 4
}
