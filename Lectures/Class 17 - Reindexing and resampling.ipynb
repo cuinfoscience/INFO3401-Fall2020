{
 "cells": [
  {
   "cell_type": "markdown",
   "metadata": {},
   "source": [
    "# INFO 3401 – Class 17: Reindexing and resampling\n",
    "\n",
    "[Brian C. Keegan, Ph.D.](http://brianckeegan.com/)  \n",
    "[Assistant Professor, Department of Information Science](https://www.colorado.edu/cmci/people/information-science/brian-c-keegan)  \n",
    "University of Colorado Boulder  \n",
    "\n",
    "Copyright and distributed under an [MIT License](https://opensource.org/licenses/MIT).\n",
    "\n",
    "## Learning Objectives\n",
    "This lecture will expose you to more advanced functionality within pandas for working with temporal data.\n",
    "\n",
    "* Strategies for handling missing data by filling, dropping, and interpolating/imputing\n",
    "* Reindexing \"spotty\" temporal data to be continuous over a time window\n",
    "* Shifting and rolling methods\n",
    "* Resampling temporal data to higher or lower frequencies\n",
    "\n",
    "## Background\n",
    "\n",
    "We're going to work with a few different datasets in this notebook we've used before. \n",
    "\n",
    "* We will return to the CDC weekly counts of deaths data for [2014-2018](https://data.cdc.gov/NCHS/Weekly-Counts-of-Deaths-by-State-and-Select-Causes/3yf8-kanr) and [2019-present](https://data.cdc.gov/NCHS/Weekly-Counts-of-Deaths-by-State-and-Select-Causes/muzy-jte6) we explored in Class 06 on combining data. \n",
    "* We will also use the S&P500 data posted to canvas. You could also retrieve this yourself using the `yfinance` library for the \"^GSPC\" symbol.\n",
    "* We will also use the `get_pageviews` function for retrieving pageview data from Wikipedia."
   ]
  },
  {
   "cell_type": "markdown",
   "metadata": {},
   "source": [
    "## Load libraries"
   ]
  },
  {
   "cell_type": "code",
   "execution_count": 1,
   "metadata": {},
   "outputs": [],
   "source": [
    "import pandas as pd\n",
    "import numpy as np\n",
    "\n",
    "pd.options.display.max_columns = 100\n",
    "\n",
    "%matplotlib inline\n",
    "import matplotlib.pyplot as plt\n",
    "import seaborn as sb\n",
    "\n",
    "from datetime import datetime"
   ]
  },
  {
   "cell_type": "markdown",
   "metadata": {},
   "source": [
    "## Re-combine data\n",
    "\n",
    "Read in the 2014-2018 data and inspect."
   ]
  },
  {
   "cell_type": "code",
   "execution_count": 2,
   "metadata": {},
   "outputs": [
    {
     "name": "stdout",
     "output_type": "stream",
     "text": [
      "(14094, 30)\n"
     ]
    },
    {
     "data": {
      "text/html": [
       "<div>\n",
       "<style scoped>\n",
       "    .dataframe tbody tr th:only-of-type {\n",
       "        vertical-align: middle;\n",
       "    }\n",
       "\n",
       "    .dataframe tbody tr th {\n",
       "        vertical-align: top;\n",
       "    }\n",
       "\n",
       "    .dataframe thead th {\n",
       "        text-align: right;\n",
       "    }\n",
       "</style>\n",
       "<table border=\"1\" class=\"dataframe\">\n",
       "  <thead>\n",
       "    <tr style=\"text-align: right;\">\n",
       "      <th></th>\n",
       "      <th>Jurisdiction of Occurrence</th>\n",
       "      <th>MMWR Year</th>\n",
       "      <th>MMWR Week</th>\n",
       "      <th>Week Ending Date</th>\n",
       "      <th>All  Cause</th>\n",
       "      <th>Natural Cause</th>\n",
       "      <th>Septicemia (A40-A41)</th>\n",
       "      <th>Malignant neoplasms (C00-C97)</th>\n",
       "      <th>Diabetes mellitus (E10-E14)</th>\n",
       "      <th>Alzheimer disease (G30)</th>\n",
       "      <th>Influenza and pneumonia (J10-J18)</th>\n",
       "      <th>Chronic lower respiratory diseases (J40-J47)</th>\n",
       "      <th>Other diseases of respiratory system (J00-J06,J30-J39,J67,J70-J98)</th>\n",
       "      <th>Nephritis, nephrotic syndrome and nephrosis (N00-N07,N17-N19,N25-N27)</th>\n",
       "      <th>Symptoms, signs and abnormal clinical and laboratory findings, not elsewhere classified (R00-R99)</th>\n",
       "      <th>Diseases of heart (I00-I09,I11,I13,I20-I51)</th>\n",
       "      <th>Cerebrovascular diseases (I60-I69)</th>\n",
       "      <th>flag_allcause</th>\n",
       "      <th>flag_natcause</th>\n",
       "      <th>flag_sept</th>\n",
       "      <th>flag_neopl</th>\n",
       "      <th>flag_diab</th>\n",
       "      <th>flag_alz</th>\n",
       "      <th>flag_inflpn</th>\n",
       "      <th>flag_clrd</th>\n",
       "      <th>flag_otherresp</th>\n",
       "      <th>flag_nephr</th>\n",
       "      <th>flag_otherunk</th>\n",
       "      <th>flag_hd</th>\n",
       "      <th>flag_stroke</th>\n",
       "    </tr>\n",
       "  </thead>\n",
       "  <tbody>\n",
       "    <tr>\n",
       "      <th>0</th>\n",
       "      <td>Alabama</td>\n",
       "      <td>2014</td>\n",
       "      <td>1</td>\n",
       "      <td>01/04/2014</td>\n",
       "      <td>355</td>\n",
       "      <td>327</td>\n",
       "      <td>NaN</td>\n",
       "      <td>60.0</td>\n",
       "      <td>NaN</td>\n",
       "      <td>10.0</td>\n",
       "      <td>NaN</td>\n",
       "      <td>20.0</td>\n",
       "      <td>NaN</td>\n",
       "      <td>NaN</td>\n",
       "      <td>12.0</td>\n",
       "      <td>87.0</td>\n",
       "      <td>18.0</td>\n",
       "      <td>NaN</td>\n",
       "      <td>NaN</td>\n",
       "      <td>Suppressed (counts 1-9)</td>\n",
       "      <td>NaN</td>\n",
       "      <td>Suppressed (counts 1-9)</td>\n",
       "      <td>NaN</td>\n",
       "      <td>Suppressed (counts 1-9)</td>\n",
       "      <td>NaN</td>\n",
       "      <td>Suppressed (counts 1-9)</td>\n",
       "      <td>Suppressed (counts 1-9)</td>\n",
       "      <td>NaN</td>\n",
       "      <td>NaN</td>\n",
       "      <td>NaN</td>\n",
       "    </tr>\n",
       "    <tr>\n",
       "      <th>1</th>\n",
       "      <td>Alabama</td>\n",
       "      <td>2014</td>\n",
       "      <td>2</td>\n",
       "      <td>01/11/2014</td>\n",
       "      <td>872</td>\n",
       "      <td>792</td>\n",
       "      <td>23.0</td>\n",
       "      <td>163.0</td>\n",
       "      <td>23.0</td>\n",
       "      <td>35.0</td>\n",
       "      <td>32.0</td>\n",
       "      <td>61.0</td>\n",
       "      <td>14.0</td>\n",
       "      <td>22.0</td>\n",
       "      <td>25.0</td>\n",
       "      <td>199.0</td>\n",
       "      <td>40.0</td>\n",
       "      <td>NaN</td>\n",
       "      <td>NaN</td>\n",
       "      <td>NaN</td>\n",
       "      <td>NaN</td>\n",
       "      <td>NaN</td>\n",
       "      <td>NaN</td>\n",
       "      <td>NaN</td>\n",
       "      <td>NaN</td>\n",
       "      <td>NaN</td>\n",
       "      <td>NaN</td>\n",
       "      <td>NaN</td>\n",
       "      <td>NaN</td>\n",
       "      <td>NaN</td>\n",
       "    </tr>\n",
       "    <tr>\n",
       "      <th>2</th>\n",
       "      <td>Alabama</td>\n",
       "      <td>2014</td>\n",
       "      <td>3</td>\n",
       "      <td>01/18/2014</td>\n",
       "      <td>1044</td>\n",
       "      <td>971</td>\n",
       "      <td>21.0</td>\n",
       "      <td>209.0</td>\n",
       "      <td>34.0</td>\n",
       "      <td>31.0</td>\n",
       "      <td>33.0</td>\n",
       "      <td>77.0</td>\n",
       "      <td>19.0</td>\n",
       "      <td>24.0</td>\n",
       "      <td>19.0</td>\n",
       "      <td>242.0</td>\n",
       "      <td>60.0</td>\n",
       "      <td>NaN</td>\n",
       "      <td>NaN</td>\n",
       "      <td>NaN</td>\n",
       "      <td>NaN</td>\n",
       "      <td>NaN</td>\n",
       "      <td>NaN</td>\n",
       "      <td>NaN</td>\n",
       "      <td>NaN</td>\n",
       "      <td>NaN</td>\n",
       "      <td>NaN</td>\n",
       "      <td>NaN</td>\n",
       "      <td>NaN</td>\n",
       "      <td>NaN</td>\n",
       "    </tr>\n",
       "    <tr>\n",
       "      <th>3</th>\n",
       "      <td>Alabama</td>\n",
       "      <td>2014</td>\n",
       "      <td>4</td>\n",
       "      <td>01/25/2014</td>\n",
       "      <td>1022</td>\n",
       "      <td>967</td>\n",
       "      <td>25.0</td>\n",
       "      <td>205.0</td>\n",
       "      <td>23.0</td>\n",
       "      <td>25.0</td>\n",
       "      <td>42.0</td>\n",
       "      <td>74.0</td>\n",
       "      <td>16.0</td>\n",
       "      <td>22.0</td>\n",
       "      <td>35.0</td>\n",
       "      <td>249.0</td>\n",
       "      <td>53.0</td>\n",
       "      <td>NaN</td>\n",
       "      <td>NaN</td>\n",
       "      <td>NaN</td>\n",
       "      <td>NaN</td>\n",
       "      <td>NaN</td>\n",
       "      <td>NaN</td>\n",
       "      <td>NaN</td>\n",
       "      <td>NaN</td>\n",
       "      <td>NaN</td>\n",
       "      <td>NaN</td>\n",
       "      <td>NaN</td>\n",
       "      <td>NaN</td>\n",
       "      <td>NaN</td>\n",
       "    </tr>\n",
       "    <tr>\n",
       "      <th>4</th>\n",
       "      <td>Alabama</td>\n",
       "      <td>2014</td>\n",
       "      <td>5</td>\n",
       "      <td>02/01/2014</td>\n",
       "      <td>1040</td>\n",
       "      <td>953</td>\n",
       "      <td>18.0</td>\n",
       "      <td>200.0</td>\n",
       "      <td>26.0</td>\n",
       "      <td>38.0</td>\n",
       "      <td>26.0</td>\n",
       "      <td>68.0</td>\n",
       "      <td>15.0</td>\n",
       "      <td>18.0</td>\n",
       "      <td>24.0</td>\n",
       "      <td>269.0</td>\n",
       "      <td>50.0</td>\n",
       "      <td>NaN</td>\n",
       "      <td>NaN</td>\n",
       "      <td>NaN</td>\n",
       "      <td>NaN</td>\n",
       "      <td>NaN</td>\n",
       "      <td>NaN</td>\n",
       "      <td>NaN</td>\n",
       "      <td>NaN</td>\n",
       "      <td>NaN</td>\n",
       "      <td>NaN</td>\n",
       "      <td>NaN</td>\n",
       "      <td>NaN</td>\n",
       "      <td>NaN</td>\n",
       "    </tr>\n",
       "  </tbody>\n",
       "</table>\n",
       "</div>"
      ],
      "text/plain": [
       "  Jurisdiction of Occurrence  MMWR Year  MMWR Week Week Ending Date  \\\n",
       "0                    Alabama       2014          1       01/04/2014   \n",
       "1                    Alabama       2014          2       01/11/2014   \n",
       "2                    Alabama       2014          3       01/18/2014   \n",
       "3                    Alabama       2014          4       01/25/2014   \n",
       "4                    Alabama       2014          5       02/01/2014   \n",
       "\n",
       "   All  Cause  Natural Cause  Septicemia (A40-A41)  \\\n",
       "0         355            327                   NaN   \n",
       "1         872            792                  23.0   \n",
       "2        1044            971                  21.0   \n",
       "3        1022            967                  25.0   \n",
       "4        1040            953                  18.0   \n",
       "\n",
       "   Malignant neoplasms (C00-C97)  Diabetes mellitus (E10-E14)  \\\n",
       "0                           60.0                          NaN   \n",
       "1                          163.0                         23.0   \n",
       "2                          209.0                         34.0   \n",
       "3                          205.0                         23.0   \n",
       "4                          200.0                         26.0   \n",
       "\n",
       "   Alzheimer disease (G30)  Influenza and pneumonia (J10-J18)  \\\n",
       "0                     10.0                                NaN   \n",
       "1                     35.0                               32.0   \n",
       "2                     31.0                               33.0   \n",
       "3                     25.0                               42.0   \n",
       "4                     38.0                               26.0   \n",
       "\n",
       "   Chronic lower respiratory diseases (J40-J47)  \\\n",
       "0                                          20.0   \n",
       "1                                          61.0   \n",
       "2                                          77.0   \n",
       "3                                          74.0   \n",
       "4                                          68.0   \n",
       "\n",
       "   Other diseases of respiratory system (J00-J06,J30-J39,J67,J70-J98)  \\\n",
       "0                                                NaN                    \n",
       "1                                               14.0                    \n",
       "2                                               19.0                    \n",
       "3                                               16.0                    \n",
       "4                                               15.0                    \n",
       "\n",
       "   Nephritis, nephrotic syndrome and nephrosis (N00-N07,N17-N19,N25-N27)  \\\n",
       "0                                                NaN                       \n",
       "1                                               22.0                       \n",
       "2                                               24.0                       \n",
       "3                                               22.0                       \n",
       "4                                               18.0                       \n",
       "\n",
       "   Symptoms, signs and abnormal clinical and laboratory findings, not elsewhere classified (R00-R99)  \\\n",
       "0                                               12.0                                                   \n",
       "1                                               25.0                                                   \n",
       "2                                               19.0                                                   \n",
       "3                                               35.0                                                   \n",
       "4                                               24.0                                                   \n",
       "\n",
       "   Diseases of heart (I00-I09,I11,I13,I20-I51)  \\\n",
       "0                                         87.0   \n",
       "1                                        199.0   \n",
       "2                                        242.0   \n",
       "3                                        249.0   \n",
       "4                                        269.0   \n",
       "\n",
       "   Cerebrovascular diseases (I60-I69)  flag_allcause  flag_natcause  \\\n",
       "0                                18.0            NaN            NaN   \n",
       "1                                40.0            NaN            NaN   \n",
       "2                                60.0            NaN            NaN   \n",
       "3                                53.0            NaN            NaN   \n",
       "4                                50.0            NaN            NaN   \n",
       "\n",
       "                 flag_sept flag_neopl                flag_diab flag_alz  \\\n",
       "0  Suppressed (counts 1-9)        NaN  Suppressed (counts 1-9)      NaN   \n",
       "1                      NaN        NaN                      NaN      NaN   \n",
       "2                      NaN        NaN                      NaN      NaN   \n",
       "3                      NaN        NaN                      NaN      NaN   \n",
       "4                      NaN        NaN                      NaN      NaN   \n",
       "\n",
       "               flag_inflpn flag_clrd           flag_otherresp  \\\n",
       "0  Suppressed (counts 1-9)       NaN  Suppressed (counts 1-9)   \n",
       "1                      NaN       NaN                      NaN   \n",
       "2                      NaN       NaN                      NaN   \n",
       "3                      NaN       NaN                      NaN   \n",
       "4                      NaN       NaN                      NaN   \n",
       "\n",
       "                flag_nephr flag_otherunk flag_hd flag_stroke  \n",
       "0  Suppressed (counts 1-9)           NaN     NaN         NaN  \n",
       "1                      NaN           NaN     NaN         NaN  \n",
       "2                      NaN           NaN     NaN         NaN  \n",
       "3                      NaN           NaN     NaN         NaN  \n",
       "4                      NaN           NaN     NaN         NaN  "
      ]
     },
     "execution_count": 2,
     "metadata": {},
     "output_type": "execute_result"
    }
   ],
   "source": [
    "cdc_1418_df = pd.read_csv('Weekly_Counts_of_Deaths_by_State_and_Select_Causes__2014-2018.csv')\n",
    "print(cdc_1418_df.shape)\n",
    "cdc_1418_df.head()"
   ]
  },
  {
   "cell_type": "markdown",
   "metadata": {},
   "source": [
    "Read in the 2019-2020 data and inspect."
   ]
  },
  {
   "cell_type": "code",
   "execution_count": 3,
   "metadata": {},
   "outputs": [
    {
     "name": "stdout",
     "output_type": "stream",
     "text": [
      "(4588, 34)\n"
     ]
    },
    {
     "data": {
      "text/html": [
       "<div>\n",
       "<style scoped>\n",
       "    .dataframe tbody tr th:only-of-type {\n",
       "        vertical-align: middle;\n",
       "    }\n",
       "\n",
       "    .dataframe tbody tr th {\n",
       "        vertical-align: top;\n",
       "    }\n",
       "\n",
       "    .dataframe thead th {\n",
       "        text-align: right;\n",
       "    }\n",
       "</style>\n",
       "<table border=\"1\" class=\"dataframe\">\n",
       "  <thead>\n",
       "    <tr style=\"text-align: right;\">\n",
       "      <th></th>\n",
       "      <th>Jurisdiction of Occurrence</th>\n",
       "      <th>MMWR Year</th>\n",
       "      <th>MMWR Week</th>\n",
       "      <th>Week Ending Date</th>\n",
       "      <th>All Cause</th>\n",
       "      <th>Natural Cause</th>\n",
       "      <th>Septicemia (A40-A41)</th>\n",
       "      <th>Malignant neoplasms (C00-C97)</th>\n",
       "      <th>Diabetes mellitus (E10-E14)</th>\n",
       "      <th>Alzheimer disease (G30)</th>\n",
       "      <th>Influenza and pneumonia (J09-J18)</th>\n",
       "      <th>Chronic lower respiratory diseases (J40-J47)</th>\n",
       "      <th>Other diseases of respiratory system (J00-J06,J30-J39,J67,J70-J98)</th>\n",
       "      <th>Nephritis, nephrotic syndrome and nephrosis (N00-N07,N17-N19,N25-N27)</th>\n",
       "      <th>Symptoms, signs and abnormal clinical and laboratory findings, not elsewhere classified (R00-R99)</th>\n",
       "      <th>Diseases of heart (I00-I09,I11,I13,I20-I51)</th>\n",
       "      <th>Cerebrovascular diseases (I60-I69)</th>\n",
       "      <th>COVID-19 (U071, Multiple Cause of Death)</th>\n",
       "      <th>COVID-19 (U071, Underlying Cause of Death)</th>\n",
       "      <th>flag_allcause</th>\n",
       "      <th>flag_natcause</th>\n",
       "      <th>flag_sept</th>\n",
       "      <th>flag_neopl</th>\n",
       "      <th>flag_diab</th>\n",
       "      <th>flag_alz</th>\n",
       "      <th>flag_inflpn</th>\n",
       "      <th>flag_clrd</th>\n",
       "      <th>flag_otherresp</th>\n",
       "      <th>flag_nephr</th>\n",
       "      <th>flag_otherunk</th>\n",
       "      <th>flag_hd</th>\n",
       "      <th>flag_stroke</th>\n",
       "      <th>flag_cov19mcod</th>\n",
       "      <th>flag_cov19ucod</th>\n",
       "    </tr>\n",
       "  </thead>\n",
       "  <tbody>\n",
       "    <tr>\n",
       "      <th>0</th>\n",
       "      <td>Alabama</td>\n",
       "      <td>2019</td>\n",
       "      <td>1</td>\n",
       "      <td>1/5/2019</td>\n",
       "      <td>1077.0</td>\n",
       "      <td>993.0</td>\n",
       "      <td>30.0</td>\n",
       "      <td>198.0</td>\n",
       "      <td>22.0</td>\n",
       "      <td>60.0</td>\n",
       "      <td>21.0</td>\n",
       "      <td>63.0</td>\n",
       "      <td>14.0</td>\n",
       "      <td>21.0</td>\n",
       "      <td>27.0</td>\n",
       "      <td>261.0</td>\n",
       "      <td>53.0</td>\n",
       "      <td>0.0</td>\n",
       "      <td>0.0</td>\n",
       "      <td>NaN</td>\n",
       "      <td>NaN</td>\n",
       "      <td>NaN</td>\n",
       "      <td>NaN</td>\n",
       "      <td>NaN</td>\n",
       "      <td>NaN</td>\n",
       "      <td>NaN</td>\n",
       "      <td>NaN</td>\n",
       "      <td>NaN</td>\n",
       "      <td>NaN</td>\n",
       "      <td>NaN</td>\n",
       "      <td>NaN</td>\n",
       "      <td>NaN</td>\n",
       "      <td>NaN</td>\n",
       "      <td>NaN</td>\n",
       "    </tr>\n",
       "    <tr>\n",
       "      <th>1</th>\n",
       "      <td>Alabama</td>\n",
       "      <td>2019</td>\n",
       "      <td>2</td>\n",
       "      <td>1/12/2019</td>\n",
       "      <td>1090.0</td>\n",
       "      <td>994.0</td>\n",
       "      <td>25.0</td>\n",
       "      <td>187.0</td>\n",
       "      <td>24.0</td>\n",
       "      <td>49.0</td>\n",
       "      <td>18.0</td>\n",
       "      <td>85.0</td>\n",
       "      <td>21.0</td>\n",
       "      <td>13.0</td>\n",
       "      <td>11.0</td>\n",
       "      <td>275.0</td>\n",
       "      <td>65.0</td>\n",
       "      <td>0.0</td>\n",
       "      <td>0.0</td>\n",
       "      <td>NaN</td>\n",
       "      <td>NaN</td>\n",
       "      <td>NaN</td>\n",
       "      <td>NaN</td>\n",
       "      <td>NaN</td>\n",
       "      <td>NaN</td>\n",
       "      <td>NaN</td>\n",
       "      <td>NaN</td>\n",
       "      <td>NaN</td>\n",
       "      <td>NaN</td>\n",
       "      <td>NaN</td>\n",
       "      <td>NaN</td>\n",
       "      <td>NaN</td>\n",
       "      <td>NaN</td>\n",
       "      <td>NaN</td>\n",
       "    </tr>\n",
       "    <tr>\n",
       "      <th>2</th>\n",
       "      <td>Alabama</td>\n",
       "      <td>2019</td>\n",
       "      <td>3</td>\n",
       "      <td>1/19/2019</td>\n",
       "      <td>1114.0</td>\n",
       "      <td>1042.0</td>\n",
       "      <td>22.0</td>\n",
       "      <td>238.0</td>\n",
       "      <td>18.0</td>\n",
       "      <td>48.0</td>\n",
       "      <td>31.0</td>\n",
       "      <td>80.0</td>\n",
       "      <td>30.0</td>\n",
       "      <td>25.0</td>\n",
       "      <td>15.0</td>\n",
       "      <td>283.0</td>\n",
       "      <td>53.0</td>\n",
       "      <td>0.0</td>\n",
       "      <td>0.0</td>\n",
       "      <td>NaN</td>\n",
       "      <td>NaN</td>\n",
       "      <td>NaN</td>\n",
       "      <td>NaN</td>\n",
       "      <td>NaN</td>\n",
       "      <td>NaN</td>\n",
       "      <td>NaN</td>\n",
       "      <td>NaN</td>\n",
       "      <td>NaN</td>\n",
       "      <td>NaN</td>\n",
       "      <td>NaN</td>\n",
       "      <td>NaN</td>\n",
       "      <td>NaN</td>\n",
       "      <td>NaN</td>\n",
       "      <td>NaN</td>\n",
       "    </tr>\n",
       "    <tr>\n",
       "      <th>3</th>\n",
       "      <td>Alabama</td>\n",
       "      <td>2019</td>\n",
       "      <td>4</td>\n",
       "      <td>1/26/2019</td>\n",
       "      <td>1063.0</td>\n",
       "      <td>994.0</td>\n",
       "      <td>21.0</td>\n",
       "      <td>165.0</td>\n",
       "      <td>22.0</td>\n",
       "      <td>50.0</td>\n",
       "      <td>22.0</td>\n",
       "      <td>113.0</td>\n",
       "      <td>14.0</td>\n",
       "      <td>25.0</td>\n",
       "      <td>23.0</td>\n",
       "      <td>279.0</td>\n",
       "      <td>56.0</td>\n",
       "      <td>0.0</td>\n",
       "      <td>0.0</td>\n",
       "      <td>NaN</td>\n",
       "      <td>NaN</td>\n",
       "      <td>NaN</td>\n",
       "      <td>NaN</td>\n",
       "      <td>NaN</td>\n",
       "      <td>NaN</td>\n",
       "      <td>NaN</td>\n",
       "      <td>NaN</td>\n",
       "      <td>NaN</td>\n",
       "      <td>NaN</td>\n",
       "      <td>NaN</td>\n",
       "      <td>NaN</td>\n",
       "      <td>NaN</td>\n",
       "      <td>NaN</td>\n",
       "      <td>NaN</td>\n",
       "    </tr>\n",
       "    <tr>\n",
       "      <th>4</th>\n",
       "      <td>Alabama</td>\n",
       "      <td>2019</td>\n",
       "      <td>5</td>\n",
       "      <td>2/2/2019</td>\n",
       "      <td>1095.0</td>\n",
       "      <td>1026.0</td>\n",
       "      <td>18.0</td>\n",
       "      <td>199.0</td>\n",
       "      <td>19.0</td>\n",
       "      <td>52.0</td>\n",
       "      <td>19.0</td>\n",
       "      <td>80.0</td>\n",
       "      <td>20.0</td>\n",
       "      <td>24.0</td>\n",
       "      <td>21.0</td>\n",
       "      <td>290.0</td>\n",
       "      <td>50.0</td>\n",
       "      <td>0.0</td>\n",
       "      <td>0.0</td>\n",
       "      <td>NaN</td>\n",
       "      <td>NaN</td>\n",
       "      <td>NaN</td>\n",
       "      <td>NaN</td>\n",
       "      <td>NaN</td>\n",
       "      <td>NaN</td>\n",
       "      <td>NaN</td>\n",
       "      <td>NaN</td>\n",
       "      <td>NaN</td>\n",
       "      <td>NaN</td>\n",
       "      <td>NaN</td>\n",
       "      <td>NaN</td>\n",
       "      <td>NaN</td>\n",
       "      <td>NaN</td>\n",
       "      <td>NaN</td>\n",
       "    </tr>\n",
       "  </tbody>\n",
       "</table>\n",
       "</div>"
      ],
      "text/plain": [
       "  Jurisdiction of Occurrence  MMWR Year  MMWR Week Week Ending Date  \\\n",
       "0                    Alabama       2019          1         1/5/2019   \n",
       "1                    Alabama       2019          2        1/12/2019   \n",
       "2                    Alabama       2019          3        1/19/2019   \n",
       "3                    Alabama       2019          4        1/26/2019   \n",
       "4                    Alabama       2019          5         2/2/2019   \n",
       "\n",
       "   All Cause  Natural Cause  Septicemia (A40-A41)  \\\n",
       "0     1077.0          993.0                  30.0   \n",
       "1     1090.0          994.0                  25.0   \n",
       "2     1114.0         1042.0                  22.0   \n",
       "3     1063.0          994.0                  21.0   \n",
       "4     1095.0         1026.0                  18.0   \n",
       "\n",
       "   Malignant neoplasms (C00-C97)  Diabetes mellitus (E10-E14)  \\\n",
       "0                          198.0                         22.0   \n",
       "1                          187.0                         24.0   \n",
       "2                          238.0                         18.0   \n",
       "3                          165.0                         22.0   \n",
       "4                          199.0                         19.0   \n",
       "\n",
       "   Alzheimer disease (G30)  Influenza and pneumonia (J09-J18)  \\\n",
       "0                     60.0                               21.0   \n",
       "1                     49.0                               18.0   \n",
       "2                     48.0                               31.0   \n",
       "3                     50.0                               22.0   \n",
       "4                     52.0                               19.0   \n",
       "\n",
       "   Chronic lower respiratory diseases (J40-J47)  \\\n",
       "0                                          63.0   \n",
       "1                                          85.0   \n",
       "2                                          80.0   \n",
       "3                                         113.0   \n",
       "4                                          80.0   \n",
       "\n",
       "   Other diseases of respiratory system (J00-J06,J30-J39,J67,J70-J98)  \\\n",
       "0                                               14.0                    \n",
       "1                                               21.0                    \n",
       "2                                               30.0                    \n",
       "3                                               14.0                    \n",
       "4                                               20.0                    \n",
       "\n",
       "   Nephritis, nephrotic syndrome and nephrosis (N00-N07,N17-N19,N25-N27)  \\\n",
       "0                                               21.0                       \n",
       "1                                               13.0                       \n",
       "2                                               25.0                       \n",
       "3                                               25.0                       \n",
       "4                                               24.0                       \n",
       "\n",
       "   Symptoms, signs and abnormal clinical and laboratory findings, not elsewhere classified (R00-R99)  \\\n",
       "0                                               27.0                                                   \n",
       "1                                               11.0                                                   \n",
       "2                                               15.0                                                   \n",
       "3                                               23.0                                                   \n",
       "4                                               21.0                                                   \n",
       "\n",
       "   Diseases of heart (I00-I09,I11,I13,I20-I51)  \\\n",
       "0                                        261.0   \n",
       "1                                        275.0   \n",
       "2                                        283.0   \n",
       "3                                        279.0   \n",
       "4                                        290.0   \n",
       "\n",
       "   Cerebrovascular diseases (I60-I69)  \\\n",
       "0                                53.0   \n",
       "1                                65.0   \n",
       "2                                53.0   \n",
       "3                                56.0   \n",
       "4                                50.0   \n",
       "\n",
       "   COVID-19 (U071, Multiple Cause of Death)  \\\n",
       "0                                       0.0   \n",
       "1                                       0.0   \n",
       "2                                       0.0   \n",
       "3                                       0.0   \n",
       "4                                       0.0   \n",
       "\n",
       "   COVID-19 (U071, Underlying Cause of Death) flag_allcause flag_natcause  \\\n",
       "0                                         0.0           NaN           NaN   \n",
       "1                                         0.0           NaN           NaN   \n",
       "2                                         0.0           NaN           NaN   \n",
       "3                                         0.0           NaN           NaN   \n",
       "4                                         0.0           NaN           NaN   \n",
       "\n",
       "  flag_sept flag_neopl flag_diab flag_alz flag_inflpn flag_clrd  \\\n",
       "0       NaN        NaN       NaN      NaN         NaN       NaN   \n",
       "1       NaN        NaN       NaN      NaN         NaN       NaN   \n",
       "2       NaN        NaN       NaN      NaN         NaN       NaN   \n",
       "3       NaN        NaN       NaN      NaN         NaN       NaN   \n",
       "4       NaN        NaN       NaN      NaN         NaN       NaN   \n",
       "\n",
       "  flag_otherresp flag_nephr flag_otherunk flag_hd flag_stroke flag_cov19mcod  \\\n",
       "0            NaN        NaN           NaN     NaN         NaN            NaN   \n",
       "1            NaN        NaN           NaN     NaN         NaN            NaN   \n",
       "2            NaN        NaN           NaN     NaN         NaN            NaN   \n",
       "3            NaN        NaN           NaN     NaN         NaN            NaN   \n",
       "4            NaN        NaN           NaN     NaN         NaN            NaN   \n",
       "\n",
       "  flag_cov19ucod  \n",
       "0            NaN  \n",
       "1            NaN  \n",
       "2            NaN  \n",
       "3            NaN  \n",
       "4            NaN  "
      ]
     },
     "execution_count": 3,
     "metadata": {},
     "output_type": "execute_result"
    }
   ],
   "source": [
    "cdc_1920_df = pd.read_csv('Weekly_Counts_of_Deaths_by_State_and_Select_Causes__2019-2020.csv')\n",
    "print(cdc_1920_df.shape)\n",
    "cdc_1920_df.head()"
   ]
  },
  {
   "cell_type": "markdown",
   "metadata": {},
   "source": [
    "Fix the columns so they are consistent across both."
   ]
  },
  {
   "cell_type": "code",
   "execution_count": 4,
   "metadata": {},
   "outputs": [
    {
     "data": {
      "text/plain": [
       "{'All  Cause', 'Influenza and pneumonia (J10-J18)'}"
      ]
     },
     "execution_count": 4,
     "metadata": {},
     "output_type": "execute_result"
    }
   ],
   "source": [
    "set(cdc_1418_df.columns) - set(cdc_1920_df.columns)"
   ]
  },
  {
   "cell_type": "code",
   "execution_count": 5,
   "metadata": {},
   "outputs": [
    {
     "data": {
      "text/plain": [
       "{'All Cause',\n",
       " 'COVID-19 (U071, Multiple Cause of Death)',\n",
       " 'COVID-19 (U071, Underlying Cause of Death)',\n",
       " 'Influenza and pneumonia (J09-J18)',\n",
       " 'flag_cov19mcod',\n",
       " 'flag_cov19ucod'}"
      ]
     },
     "execution_count": 5,
     "metadata": {},
     "output_type": "execute_result"
    }
   ],
   "source": [
    "set(cdc_1920_df.columns) - set(cdc_1418_df.columns)"
   ]
  },
  {
   "cell_type": "code",
   "execution_count": 6,
   "metadata": {},
   "outputs": [],
   "source": [
    "cdc_1418_df.rename(columns={'All  Cause':'All Cause',\n",
    "                            'Influenza and pneumonia (J10-J18)':'Influenza and pneumonia'},\n",
    "                   inplace=True)\n",
    "\n",
    "cdc_1920_df.rename(columns={'Influenza and pneumonia (J09-J18)':'Influenza and pneumonia'},\n",
    "                   inplace=True)"
   ]
  },
  {
   "cell_type": "markdown",
   "metadata": {},
   "source": [
    "Concatenate together into a single DataFrame."
   ]
  },
  {
   "cell_type": "code",
   "execution_count": 7,
   "metadata": {},
   "outputs": [
    {
     "name": "stdout",
     "output_type": "stream",
     "text": [
      "(18682, 34)\n"
     ]
    },
    {
     "data": {
      "text/html": [
       "<div>\n",
       "<style scoped>\n",
       "    .dataframe tbody tr th:only-of-type {\n",
       "        vertical-align: middle;\n",
       "    }\n",
       "\n",
       "    .dataframe tbody tr th {\n",
       "        vertical-align: top;\n",
       "    }\n",
       "\n",
       "    .dataframe thead th {\n",
       "        text-align: right;\n",
       "    }\n",
       "</style>\n",
       "<table border=\"1\" class=\"dataframe\">\n",
       "  <thead>\n",
       "    <tr style=\"text-align: right;\">\n",
       "      <th></th>\n",
       "      <th>Jurisdiction of Occurrence</th>\n",
       "      <th>MMWR Year</th>\n",
       "      <th>MMWR Week</th>\n",
       "      <th>Week Ending Date</th>\n",
       "      <th>All Cause</th>\n",
       "      <th>Natural Cause</th>\n",
       "      <th>Septicemia (A40-A41)</th>\n",
       "      <th>Malignant neoplasms (C00-C97)</th>\n",
       "      <th>Diabetes mellitus (E10-E14)</th>\n",
       "      <th>Alzheimer disease (G30)</th>\n",
       "      <th>Influenza and pneumonia</th>\n",
       "      <th>Chronic lower respiratory diseases (J40-J47)</th>\n",
       "      <th>Other diseases of respiratory system (J00-J06,J30-J39,J67,J70-J98)</th>\n",
       "      <th>Nephritis, nephrotic syndrome and nephrosis (N00-N07,N17-N19,N25-N27)</th>\n",
       "      <th>Symptoms, signs and abnormal clinical and laboratory findings, not elsewhere classified (R00-R99)</th>\n",
       "      <th>Diseases of heart (I00-I09,I11,I13,I20-I51)</th>\n",
       "      <th>Cerebrovascular diseases (I60-I69)</th>\n",
       "      <th>flag_allcause</th>\n",
       "      <th>flag_natcause</th>\n",
       "      <th>flag_sept</th>\n",
       "      <th>flag_neopl</th>\n",
       "      <th>flag_diab</th>\n",
       "      <th>flag_alz</th>\n",
       "      <th>flag_inflpn</th>\n",
       "      <th>flag_clrd</th>\n",
       "      <th>flag_otherresp</th>\n",
       "      <th>flag_nephr</th>\n",
       "      <th>flag_otherunk</th>\n",
       "      <th>flag_hd</th>\n",
       "      <th>flag_stroke</th>\n",
       "      <th>COVID-19 (U071, Multiple Cause of Death)</th>\n",
       "      <th>COVID-19 (U071, Underlying Cause of Death)</th>\n",
       "      <th>flag_cov19mcod</th>\n",
       "      <th>flag_cov19ucod</th>\n",
       "    </tr>\n",
       "  </thead>\n",
       "  <tbody>\n",
       "    <tr>\n",
       "      <th>0</th>\n",
       "      <td>Alabama</td>\n",
       "      <td>2014</td>\n",
       "      <td>1</td>\n",
       "      <td>01/04/2014</td>\n",
       "      <td>355.0</td>\n",
       "      <td>327.0</td>\n",
       "      <td>NaN</td>\n",
       "      <td>60.0</td>\n",
       "      <td>NaN</td>\n",
       "      <td>10.0</td>\n",
       "      <td>NaN</td>\n",
       "      <td>20.0</td>\n",
       "      <td>NaN</td>\n",
       "      <td>NaN</td>\n",
       "      <td>12.0</td>\n",
       "      <td>87.0</td>\n",
       "      <td>18.0</td>\n",
       "      <td>NaN</td>\n",
       "      <td>NaN</td>\n",
       "      <td>Suppressed (counts 1-9)</td>\n",
       "      <td>NaN</td>\n",
       "      <td>Suppressed (counts 1-9)</td>\n",
       "      <td>NaN</td>\n",
       "      <td>Suppressed (counts 1-9)</td>\n",
       "      <td>NaN</td>\n",
       "      <td>Suppressed (counts 1-9)</td>\n",
       "      <td>Suppressed (counts 1-9)</td>\n",
       "      <td>NaN</td>\n",
       "      <td>NaN</td>\n",
       "      <td>NaN</td>\n",
       "      <td>NaN</td>\n",
       "      <td>NaN</td>\n",
       "      <td>NaN</td>\n",
       "      <td>NaN</td>\n",
       "    </tr>\n",
       "    <tr>\n",
       "      <th>1</th>\n",
       "      <td>Alabama</td>\n",
       "      <td>2014</td>\n",
       "      <td>2</td>\n",
       "      <td>01/11/2014</td>\n",
       "      <td>872.0</td>\n",
       "      <td>792.0</td>\n",
       "      <td>23.0</td>\n",
       "      <td>163.0</td>\n",
       "      <td>23.0</td>\n",
       "      <td>35.0</td>\n",
       "      <td>32.0</td>\n",
       "      <td>61.0</td>\n",
       "      <td>14.0</td>\n",
       "      <td>22.0</td>\n",
       "      <td>25.0</td>\n",
       "      <td>199.0</td>\n",
       "      <td>40.0</td>\n",
       "      <td>NaN</td>\n",
       "      <td>NaN</td>\n",
       "      <td>NaN</td>\n",
       "      <td>NaN</td>\n",
       "      <td>NaN</td>\n",
       "      <td>NaN</td>\n",
       "      <td>NaN</td>\n",
       "      <td>NaN</td>\n",
       "      <td>NaN</td>\n",
       "      <td>NaN</td>\n",
       "      <td>NaN</td>\n",
       "      <td>NaN</td>\n",
       "      <td>NaN</td>\n",
       "      <td>NaN</td>\n",
       "      <td>NaN</td>\n",
       "      <td>NaN</td>\n",
       "      <td>NaN</td>\n",
       "    </tr>\n",
       "    <tr>\n",
       "      <th>2</th>\n",
       "      <td>Alabama</td>\n",
       "      <td>2014</td>\n",
       "      <td>3</td>\n",
       "      <td>01/18/2014</td>\n",
       "      <td>1044.0</td>\n",
       "      <td>971.0</td>\n",
       "      <td>21.0</td>\n",
       "      <td>209.0</td>\n",
       "      <td>34.0</td>\n",
       "      <td>31.0</td>\n",
       "      <td>33.0</td>\n",
       "      <td>77.0</td>\n",
       "      <td>19.0</td>\n",
       "      <td>24.0</td>\n",
       "      <td>19.0</td>\n",
       "      <td>242.0</td>\n",
       "      <td>60.0</td>\n",
       "      <td>NaN</td>\n",
       "      <td>NaN</td>\n",
       "      <td>NaN</td>\n",
       "      <td>NaN</td>\n",
       "      <td>NaN</td>\n",
       "      <td>NaN</td>\n",
       "      <td>NaN</td>\n",
       "      <td>NaN</td>\n",
       "      <td>NaN</td>\n",
       "      <td>NaN</td>\n",
       "      <td>NaN</td>\n",
       "      <td>NaN</td>\n",
       "      <td>NaN</td>\n",
       "      <td>NaN</td>\n",
       "      <td>NaN</td>\n",
       "      <td>NaN</td>\n",
       "      <td>NaN</td>\n",
       "    </tr>\n",
       "    <tr>\n",
       "      <th>3</th>\n",
       "      <td>Alabama</td>\n",
       "      <td>2014</td>\n",
       "      <td>4</td>\n",
       "      <td>01/25/2014</td>\n",
       "      <td>1022.0</td>\n",
       "      <td>967.0</td>\n",
       "      <td>25.0</td>\n",
       "      <td>205.0</td>\n",
       "      <td>23.0</td>\n",
       "      <td>25.0</td>\n",
       "      <td>42.0</td>\n",
       "      <td>74.0</td>\n",
       "      <td>16.0</td>\n",
       "      <td>22.0</td>\n",
       "      <td>35.0</td>\n",
       "      <td>249.0</td>\n",
       "      <td>53.0</td>\n",
       "      <td>NaN</td>\n",
       "      <td>NaN</td>\n",
       "      <td>NaN</td>\n",
       "      <td>NaN</td>\n",
       "      <td>NaN</td>\n",
       "      <td>NaN</td>\n",
       "      <td>NaN</td>\n",
       "      <td>NaN</td>\n",
       "      <td>NaN</td>\n",
       "      <td>NaN</td>\n",
       "      <td>NaN</td>\n",
       "      <td>NaN</td>\n",
       "      <td>NaN</td>\n",
       "      <td>NaN</td>\n",
       "      <td>NaN</td>\n",
       "      <td>NaN</td>\n",
       "      <td>NaN</td>\n",
       "    </tr>\n",
       "    <tr>\n",
       "      <th>4</th>\n",
       "      <td>Alabama</td>\n",
       "      <td>2014</td>\n",
       "      <td>5</td>\n",
       "      <td>02/01/2014</td>\n",
       "      <td>1040.0</td>\n",
       "      <td>953.0</td>\n",
       "      <td>18.0</td>\n",
       "      <td>200.0</td>\n",
       "      <td>26.0</td>\n",
       "      <td>38.0</td>\n",
       "      <td>26.0</td>\n",
       "      <td>68.0</td>\n",
       "      <td>15.0</td>\n",
       "      <td>18.0</td>\n",
       "      <td>24.0</td>\n",
       "      <td>269.0</td>\n",
       "      <td>50.0</td>\n",
       "      <td>NaN</td>\n",
       "      <td>NaN</td>\n",
       "      <td>NaN</td>\n",
       "      <td>NaN</td>\n",
       "      <td>NaN</td>\n",
       "      <td>NaN</td>\n",
       "      <td>NaN</td>\n",
       "      <td>NaN</td>\n",
       "      <td>NaN</td>\n",
       "      <td>NaN</td>\n",
       "      <td>NaN</td>\n",
       "      <td>NaN</td>\n",
       "      <td>NaN</td>\n",
       "      <td>NaN</td>\n",
       "      <td>NaN</td>\n",
       "      <td>NaN</td>\n",
       "      <td>NaN</td>\n",
       "    </tr>\n",
       "  </tbody>\n",
       "</table>\n",
       "</div>"
      ],
      "text/plain": [
       "  Jurisdiction of Occurrence  MMWR Year  MMWR Week Week Ending Date  \\\n",
       "0                    Alabama       2014          1       01/04/2014   \n",
       "1                    Alabama       2014          2       01/11/2014   \n",
       "2                    Alabama       2014          3       01/18/2014   \n",
       "3                    Alabama       2014          4       01/25/2014   \n",
       "4                    Alabama       2014          5       02/01/2014   \n",
       "\n",
       "   All Cause  Natural Cause  Septicemia (A40-A41)  \\\n",
       "0      355.0          327.0                   NaN   \n",
       "1      872.0          792.0                  23.0   \n",
       "2     1044.0          971.0                  21.0   \n",
       "3     1022.0          967.0                  25.0   \n",
       "4     1040.0          953.0                  18.0   \n",
       "\n",
       "   Malignant neoplasms (C00-C97)  Diabetes mellitus (E10-E14)  \\\n",
       "0                           60.0                          NaN   \n",
       "1                          163.0                         23.0   \n",
       "2                          209.0                         34.0   \n",
       "3                          205.0                         23.0   \n",
       "4                          200.0                         26.0   \n",
       "\n",
       "   Alzheimer disease (G30)  Influenza and pneumonia  \\\n",
       "0                     10.0                      NaN   \n",
       "1                     35.0                     32.0   \n",
       "2                     31.0                     33.0   \n",
       "3                     25.0                     42.0   \n",
       "4                     38.0                     26.0   \n",
       "\n",
       "   Chronic lower respiratory diseases (J40-J47)  \\\n",
       "0                                          20.0   \n",
       "1                                          61.0   \n",
       "2                                          77.0   \n",
       "3                                          74.0   \n",
       "4                                          68.0   \n",
       "\n",
       "   Other diseases of respiratory system (J00-J06,J30-J39,J67,J70-J98)  \\\n",
       "0                                                NaN                    \n",
       "1                                               14.0                    \n",
       "2                                               19.0                    \n",
       "3                                               16.0                    \n",
       "4                                               15.0                    \n",
       "\n",
       "   Nephritis, nephrotic syndrome and nephrosis (N00-N07,N17-N19,N25-N27)  \\\n",
       "0                                                NaN                       \n",
       "1                                               22.0                       \n",
       "2                                               24.0                       \n",
       "3                                               22.0                       \n",
       "4                                               18.0                       \n",
       "\n",
       "   Symptoms, signs and abnormal clinical and laboratory findings, not elsewhere classified (R00-R99)  \\\n",
       "0                                               12.0                                                   \n",
       "1                                               25.0                                                   \n",
       "2                                               19.0                                                   \n",
       "3                                               35.0                                                   \n",
       "4                                               24.0                                                   \n",
       "\n",
       "   Diseases of heart (I00-I09,I11,I13,I20-I51)  \\\n",
       "0                                         87.0   \n",
       "1                                        199.0   \n",
       "2                                        242.0   \n",
       "3                                        249.0   \n",
       "4                                        269.0   \n",
       "\n",
       "   Cerebrovascular diseases (I60-I69) flag_allcause flag_natcause  \\\n",
       "0                                18.0           NaN           NaN   \n",
       "1                                40.0           NaN           NaN   \n",
       "2                                60.0           NaN           NaN   \n",
       "3                                53.0           NaN           NaN   \n",
       "4                                50.0           NaN           NaN   \n",
       "\n",
       "                 flag_sept flag_neopl                flag_diab flag_alz  \\\n",
       "0  Suppressed (counts 1-9)        NaN  Suppressed (counts 1-9)      NaN   \n",
       "1                      NaN        NaN                      NaN      NaN   \n",
       "2                      NaN        NaN                      NaN      NaN   \n",
       "3                      NaN        NaN                      NaN      NaN   \n",
       "4                      NaN        NaN                      NaN      NaN   \n",
       "\n",
       "               flag_inflpn flag_clrd           flag_otherresp  \\\n",
       "0  Suppressed (counts 1-9)       NaN  Suppressed (counts 1-9)   \n",
       "1                      NaN       NaN                      NaN   \n",
       "2                      NaN       NaN                      NaN   \n",
       "3                      NaN       NaN                      NaN   \n",
       "4                      NaN       NaN                      NaN   \n",
       "\n",
       "                flag_nephr flag_otherunk flag_hd flag_stroke  \\\n",
       "0  Suppressed (counts 1-9)           NaN     NaN         NaN   \n",
       "1                      NaN           NaN     NaN         NaN   \n",
       "2                      NaN           NaN     NaN         NaN   \n",
       "3                      NaN           NaN     NaN         NaN   \n",
       "4                      NaN           NaN     NaN         NaN   \n",
       "\n",
       "   COVID-19 (U071, Multiple Cause of Death)  \\\n",
       "0                                       NaN   \n",
       "1                                       NaN   \n",
       "2                                       NaN   \n",
       "3                                       NaN   \n",
       "4                                       NaN   \n",
       "\n",
       "   COVID-19 (U071, Underlying Cause of Death) flag_cov19mcod flag_cov19ucod  \n",
       "0                                         NaN            NaN            NaN  \n",
       "1                                         NaN            NaN            NaN  \n",
       "2                                         NaN            NaN            NaN  \n",
       "3                                         NaN            NaN            NaN  \n",
       "4                                         NaN            NaN            NaN  "
      ]
     },
     "execution_count": 7,
     "metadata": {},
     "output_type": "execute_result"
    }
   ],
   "source": [
    "cdc_1420_df = pd.concat([cdc_1418_df,cdc_1920_df],ignore_index=True,sort=False)\n",
    "print(cdc_1420_df.shape)\n",
    "cdc_1420_df.head()"
   ]
  },
  {
   "cell_type": "code",
   "execution_count": 8,
   "metadata": {},
   "outputs": [
    {
     "data": {
      "text/plain": [
       "(2014, 2020)"
      ]
     },
     "execution_count": 8,
     "metadata": {},
     "output_type": "execute_result"
    }
   ],
   "source": [
    "# Check min and max years are as predicted\n",
    "cdc_1420_df['MMWR Year'].min(), cdc_1420_df['MMWR Year'].max()"
   ]
  },
  {
   "cell_type": "code",
   "execution_count": 9,
   "metadata": {},
   "outputs": [
    {
     "name": "stdout",
     "output_type": "stream",
     "text": [
      "(17990, 34)\n"
     ]
    }
   ],
   "source": [
    "# Drop the US and NYC rows that are duplicates\n",
    "cdc_1420_df = cdc_1420_df[~cdc_1420_df['Jurisdiction of Occurrence'].isin(['United States','New York City'])]\n",
    "print(cdc_1420_df.shape)"
   ]
  },
  {
   "cell_type": "code",
   "execution_count": 10,
   "metadata": {},
   "outputs": [],
   "source": [
    "cdc_1420_df['Week Ending Date'] = pd.to_datetime(cdc_1420_df['Week Ending Date'])"
   ]
  },
  {
   "cell_type": "code",
   "execution_count": 11,
   "metadata": {},
   "outputs": [],
   "source": [
    "# Making a pivot table of flu data by state and week\n",
    "cdc_1420_flu_df = pd.pivot_table(cdc_1420_df,\n",
    "                                 index = 'Week Ending Date',\n",
    "                                 columns = 'Jurisdiction of Occurrence',\n",
    "                                 values = 'Influenza and pneumonia'\n",
    "                                )"
   ]
  },
  {
   "cell_type": "code",
   "execution_count": 12,
   "metadata": {},
   "outputs": [
    {
     "data": {
      "text/html": [
       "<div>\n",
       "<style scoped>\n",
       "    .dataframe tbody tr th:only-of-type {\n",
       "        vertical-align: middle;\n",
       "    }\n",
       "\n",
       "    .dataframe tbody tr th {\n",
       "        vertical-align: top;\n",
       "    }\n",
       "\n",
       "    .dataframe thead th {\n",
       "        text-align: right;\n",
       "    }\n",
       "</style>\n",
       "<table border=\"1\" class=\"dataframe\">\n",
       "  <thead>\n",
       "    <tr style=\"text-align: right;\">\n",
       "      <th>Jurisdiction of Occurrence</th>\n",
       "      <th>Alabama</th>\n",
       "      <th>Alaska</th>\n",
       "      <th>Arizona</th>\n",
       "      <th>Arkansas</th>\n",
       "      <th>California</th>\n",
       "      <th>Colorado</th>\n",
       "      <th>Connecticut</th>\n",
       "      <th>Delaware</th>\n",
       "      <th>District of Columbia</th>\n",
       "      <th>Florida</th>\n",
       "      <th>Georgia</th>\n",
       "      <th>Hawaii</th>\n",
       "      <th>Idaho</th>\n",
       "      <th>Illinois</th>\n",
       "      <th>Indiana</th>\n",
       "      <th>Iowa</th>\n",
       "      <th>Kansas</th>\n",
       "      <th>Kentucky</th>\n",
       "      <th>Louisiana</th>\n",
       "      <th>Maine</th>\n",
       "      <th>Maryland</th>\n",
       "      <th>Massachusetts</th>\n",
       "      <th>Michigan</th>\n",
       "      <th>Minnesota</th>\n",
       "      <th>Mississippi</th>\n",
       "      <th>Missouri</th>\n",
       "      <th>Montana</th>\n",
       "      <th>Nebraska</th>\n",
       "      <th>Nevada</th>\n",
       "      <th>New Hampshire</th>\n",
       "      <th>New Jersey</th>\n",
       "      <th>New Mexico</th>\n",
       "      <th>New York</th>\n",
       "      <th>North Carolina</th>\n",
       "      <th>North Dakota</th>\n",
       "      <th>Ohio</th>\n",
       "      <th>Oklahoma</th>\n",
       "      <th>Oregon</th>\n",
       "      <th>Pennsylvania</th>\n",
       "      <th>Puerto Rico</th>\n",
       "      <th>Rhode Island</th>\n",
       "      <th>South Carolina</th>\n",
       "      <th>South Dakota</th>\n",
       "      <th>Tennessee</th>\n",
       "      <th>Texas</th>\n",
       "      <th>Utah</th>\n",
       "      <th>Vermont</th>\n",
       "      <th>Virginia</th>\n",
       "      <th>Washington</th>\n",
       "      <th>West Virginia</th>\n",
       "      <th>Wisconsin</th>\n",
       "      <th>Wyoming</th>\n",
       "    </tr>\n",
       "    <tr>\n",
       "      <th>Week Ending Date</th>\n",
       "      <th></th>\n",
       "      <th></th>\n",
       "      <th></th>\n",
       "      <th></th>\n",
       "      <th></th>\n",
       "      <th></th>\n",
       "      <th></th>\n",
       "      <th></th>\n",
       "      <th></th>\n",
       "      <th></th>\n",
       "      <th></th>\n",
       "      <th></th>\n",
       "      <th></th>\n",
       "      <th></th>\n",
       "      <th></th>\n",
       "      <th></th>\n",
       "      <th></th>\n",
       "      <th></th>\n",
       "      <th></th>\n",
       "      <th></th>\n",
       "      <th></th>\n",
       "      <th></th>\n",
       "      <th></th>\n",
       "      <th></th>\n",
       "      <th></th>\n",
       "      <th></th>\n",
       "      <th></th>\n",
       "      <th></th>\n",
       "      <th></th>\n",
       "      <th></th>\n",
       "      <th></th>\n",
       "      <th></th>\n",
       "      <th></th>\n",
       "      <th></th>\n",
       "      <th></th>\n",
       "      <th></th>\n",
       "      <th></th>\n",
       "      <th></th>\n",
       "      <th></th>\n",
       "      <th></th>\n",
       "      <th></th>\n",
       "      <th></th>\n",
       "      <th></th>\n",
       "      <th></th>\n",
       "      <th></th>\n",
       "      <th></th>\n",
       "      <th></th>\n",
       "      <th></th>\n",
       "      <th></th>\n",
       "      <th></th>\n",
       "      <th></th>\n",
       "      <th></th>\n",
       "    </tr>\n",
       "  </thead>\n",
       "  <tbody>\n",
       "    <tr>\n",
       "      <th>2014-01-04</th>\n",
       "      <td>NaN</td>\n",
       "      <td>NaN</td>\n",
       "      <td>10.0</td>\n",
       "      <td>15.0</td>\n",
       "      <td>123.0</td>\n",
       "      <td>14.0</td>\n",
       "      <td>NaN</td>\n",
       "      <td>NaN</td>\n",
       "      <td>NaN</td>\n",
       "      <td>39.0</td>\n",
       "      <td>29.0</td>\n",
       "      <td>NaN</td>\n",
       "      <td>NaN</td>\n",
       "      <td>34.0</td>\n",
       "      <td>18.0</td>\n",
       "      <td>NaN</td>\n",
       "      <td>NaN</td>\n",
       "      <td>17.0</td>\n",
       "      <td>25.0</td>\n",
       "      <td>NaN</td>\n",
       "      <td>NaN</td>\n",
       "      <td>13.0</td>\n",
       "      <td>38.0</td>\n",
       "      <td>10.0</td>\n",
       "      <td>11.0</td>\n",
       "      <td>37.0</td>\n",
       "      <td>NaN</td>\n",
       "      <td>NaN</td>\n",
       "      <td>19.0</td>\n",
       "      <td>NaN</td>\n",
       "      <td>14.0</td>\n",
       "      <td>NaN</td>\n",
       "      <td>25.0</td>\n",
       "      <td>30.0</td>\n",
       "      <td>NaN</td>\n",
       "      <td>38.0</td>\n",
       "      <td>11.0</td>\n",
       "      <td>NaN</td>\n",
       "      <td>33.0</td>\n",
       "      <td>10.0</td>\n",
       "      <td>NaN</td>\n",
       "      <td>14.0</td>\n",
       "      <td>NaN</td>\n",
       "      <td>37.0</td>\n",
       "      <td>106.0</td>\n",
       "      <td>NaN</td>\n",
       "      <td>NaN</td>\n",
       "      <td>17.0</td>\n",
       "      <td>19.0</td>\n",
       "      <td>NaN</td>\n",
       "      <td>19.0</td>\n",
       "      <td>NaN</td>\n",
       "    </tr>\n",
       "    <tr>\n",
       "      <th>2014-01-11</th>\n",
       "      <td>32.0</td>\n",
       "      <td>NaN</td>\n",
       "      <td>26.0</td>\n",
       "      <td>28.0</td>\n",
       "      <td>224.0</td>\n",
       "      <td>30.0</td>\n",
       "      <td>16.0</td>\n",
       "      <td>NaN</td>\n",
       "      <td>NaN</td>\n",
       "      <td>73.0</td>\n",
       "      <td>76.0</td>\n",
       "      <td>NaN</td>\n",
       "      <td>NaN</td>\n",
       "      <td>90.0</td>\n",
       "      <td>38.0</td>\n",
       "      <td>12.0</td>\n",
       "      <td>28.0</td>\n",
       "      <td>32.0</td>\n",
       "      <td>51.0</td>\n",
       "      <td>NaN</td>\n",
       "      <td>25.0</td>\n",
       "      <td>36.0</td>\n",
       "      <td>65.0</td>\n",
       "      <td>26.0</td>\n",
       "      <td>28.0</td>\n",
       "      <td>55.0</td>\n",
       "      <td>NaN</td>\n",
       "      <td>13.0</td>\n",
       "      <td>25.0</td>\n",
       "      <td>NaN</td>\n",
       "      <td>30.0</td>\n",
       "      <td>14.0</td>\n",
       "      <td>68.0</td>\n",
       "      <td>67.0</td>\n",
       "      <td>NaN</td>\n",
       "      <td>63.0</td>\n",
       "      <td>33.0</td>\n",
       "      <td>20.0</td>\n",
       "      <td>65.0</td>\n",
       "      <td>20.0</td>\n",
       "      <td>NaN</td>\n",
       "      <td>24.0</td>\n",
       "      <td>NaN</td>\n",
       "      <td>60.0</td>\n",
       "      <td>176.0</td>\n",
       "      <td>NaN</td>\n",
       "      <td>NaN</td>\n",
       "      <td>47.0</td>\n",
       "      <td>29.0</td>\n",
       "      <td>17.0</td>\n",
       "      <td>22.0</td>\n",
       "      <td>NaN</td>\n",
       "    </tr>\n",
       "    <tr>\n",
       "      <th>2014-01-18</th>\n",
       "      <td>33.0</td>\n",
       "      <td>NaN</td>\n",
       "      <td>31.0</td>\n",
       "      <td>22.0</td>\n",
       "      <td>279.0</td>\n",
       "      <td>28.0</td>\n",
       "      <td>20.0</td>\n",
       "      <td>NaN</td>\n",
       "      <td>NaN</td>\n",
       "      <td>72.0</td>\n",
       "      <td>58.0</td>\n",
       "      <td>16.0</td>\n",
       "      <td>NaN</td>\n",
       "      <td>65.0</td>\n",
       "      <td>42.0</td>\n",
       "      <td>33.0</td>\n",
       "      <td>26.0</td>\n",
       "      <td>34.0</td>\n",
       "      <td>35.0</td>\n",
       "      <td>NaN</td>\n",
       "      <td>26.0</td>\n",
       "      <td>28.0</td>\n",
       "      <td>62.0</td>\n",
       "      <td>23.0</td>\n",
       "      <td>28.0</td>\n",
       "      <td>44.0</td>\n",
       "      <td>NaN</td>\n",
       "      <td>NaN</td>\n",
       "      <td>19.0</td>\n",
       "      <td>10.0</td>\n",
       "      <td>37.0</td>\n",
       "      <td>13.0</td>\n",
       "      <td>78.0</td>\n",
       "      <td>54.0</td>\n",
       "      <td>NaN</td>\n",
       "      <td>62.0</td>\n",
       "      <td>39.0</td>\n",
       "      <td>21.0</td>\n",
       "      <td>63.0</td>\n",
       "      <td>20.0</td>\n",
       "      <td>NaN</td>\n",
       "      <td>23.0</td>\n",
       "      <td>NaN</td>\n",
       "      <td>61.0</td>\n",
       "      <td>191.0</td>\n",
       "      <td>11.0</td>\n",
       "      <td>NaN</td>\n",
       "      <td>41.0</td>\n",
       "      <td>25.0</td>\n",
       "      <td>12.0</td>\n",
       "      <td>32.0</td>\n",
       "      <td>NaN</td>\n",
       "    </tr>\n",
       "    <tr>\n",
       "      <th>2014-01-25</th>\n",
       "      <td>42.0</td>\n",
       "      <td>NaN</td>\n",
       "      <td>45.0</td>\n",
       "      <td>23.0</td>\n",
       "      <td>245.0</td>\n",
       "      <td>28.0</td>\n",
       "      <td>12.0</td>\n",
       "      <td>NaN</td>\n",
       "      <td>NaN</td>\n",
       "      <td>74.0</td>\n",
       "      <td>51.0</td>\n",
       "      <td>10.0</td>\n",
       "      <td>NaN</td>\n",
       "      <td>63.0</td>\n",
       "      <td>31.0</td>\n",
       "      <td>18.0</td>\n",
       "      <td>17.0</td>\n",
       "      <td>28.0</td>\n",
       "      <td>39.0</td>\n",
       "      <td>NaN</td>\n",
       "      <td>23.0</td>\n",
       "      <td>31.0</td>\n",
       "      <td>52.0</td>\n",
       "      <td>16.0</td>\n",
       "      <td>29.0</td>\n",
       "      <td>26.0</td>\n",
       "      <td>NaN</td>\n",
       "      <td>NaN</td>\n",
       "      <td>28.0</td>\n",
       "      <td>NaN</td>\n",
       "      <td>32.0</td>\n",
       "      <td>20.0</td>\n",
       "      <td>72.0</td>\n",
       "      <td>66.0</td>\n",
       "      <td>NaN</td>\n",
       "      <td>68.0</td>\n",
       "      <td>23.0</td>\n",
       "      <td>21.0</td>\n",
       "      <td>73.0</td>\n",
       "      <td>14.0</td>\n",
       "      <td>NaN</td>\n",
       "      <td>27.0</td>\n",
       "      <td>NaN</td>\n",
       "      <td>67.0</td>\n",
       "      <td>130.0</td>\n",
       "      <td>14.0</td>\n",
       "      <td>NaN</td>\n",
       "      <td>47.0</td>\n",
       "      <td>21.0</td>\n",
       "      <td>13.0</td>\n",
       "      <td>29.0</td>\n",
       "      <td>NaN</td>\n",
       "    </tr>\n",
       "    <tr>\n",
       "      <th>2014-02-01</th>\n",
       "      <td>26.0</td>\n",
       "      <td>0.0</td>\n",
       "      <td>41.0</td>\n",
       "      <td>23.0</td>\n",
       "      <td>196.0</td>\n",
       "      <td>27.0</td>\n",
       "      <td>10.0</td>\n",
       "      <td>NaN</td>\n",
       "      <td>NaN</td>\n",
       "      <td>77.0</td>\n",
       "      <td>52.0</td>\n",
       "      <td>11.0</td>\n",
       "      <td>NaN</td>\n",
       "      <td>61.0</td>\n",
       "      <td>37.0</td>\n",
       "      <td>15.0</td>\n",
       "      <td>10.0</td>\n",
       "      <td>33.0</td>\n",
       "      <td>30.0</td>\n",
       "      <td>NaN</td>\n",
       "      <td>22.0</td>\n",
       "      <td>35.0</td>\n",
       "      <td>47.0</td>\n",
       "      <td>13.0</td>\n",
       "      <td>24.0</td>\n",
       "      <td>29.0</td>\n",
       "      <td>NaN</td>\n",
       "      <td>13.0</td>\n",
       "      <td>23.0</td>\n",
       "      <td>NaN</td>\n",
       "      <td>24.0</td>\n",
       "      <td>NaN</td>\n",
       "      <td>47.0</td>\n",
       "      <td>76.0</td>\n",
       "      <td>NaN</td>\n",
       "      <td>70.0</td>\n",
       "      <td>25.0</td>\n",
       "      <td>17.0</td>\n",
       "      <td>71.0</td>\n",
       "      <td>14.0</td>\n",
       "      <td>NaN</td>\n",
       "      <td>22.0</td>\n",
       "      <td>NaN</td>\n",
       "      <td>58.0</td>\n",
       "      <td>130.0</td>\n",
       "      <td>NaN</td>\n",
       "      <td>NaN</td>\n",
       "      <td>57.0</td>\n",
       "      <td>28.0</td>\n",
       "      <td>16.0</td>\n",
       "      <td>27.0</td>\n",
       "      <td>NaN</td>\n",
       "    </tr>\n",
       "  </tbody>\n",
       "</table>\n",
       "</div>"
      ],
      "text/plain": [
       "Jurisdiction of Occurrence  Alabama  Alaska  Arizona  Arkansas  California  \\\n",
       "Week Ending Date                                                             \n",
       "2014-01-04                      NaN     NaN     10.0      15.0       123.0   \n",
       "2014-01-11                     32.0     NaN     26.0      28.0       224.0   \n",
       "2014-01-18                     33.0     NaN     31.0      22.0       279.0   \n",
       "2014-01-25                     42.0     NaN     45.0      23.0       245.0   \n",
       "2014-02-01                     26.0     0.0     41.0      23.0       196.0   \n",
       "\n",
       "Jurisdiction of Occurrence  Colorado  Connecticut  Delaware  \\\n",
       "Week Ending Date                                              \n",
       "2014-01-04                      14.0          NaN       NaN   \n",
       "2014-01-11                      30.0         16.0       NaN   \n",
       "2014-01-18                      28.0         20.0       NaN   \n",
       "2014-01-25                      28.0         12.0       NaN   \n",
       "2014-02-01                      27.0         10.0       NaN   \n",
       "\n",
       "Jurisdiction of Occurrence  District of Columbia  Florida  Georgia  Hawaii  \\\n",
       "Week Ending Date                                                             \n",
       "2014-01-04                                   NaN     39.0     29.0     NaN   \n",
       "2014-01-11                                   NaN     73.0     76.0     NaN   \n",
       "2014-01-18                                   NaN     72.0     58.0    16.0   \n",
       "2014-01-25                                   NaN     74.0     51.0    10.0   \n",
       "2014-02-01                                   NaN     77.0     52.0    11.0   \n",
       "\n",
       "Jurisdiction of Occurrence  Idaho  Illinois  Indiana  Iowa  Kansas  Kentucky  \\\n",
       "Week Ending Date                                                               \n",
       "2014-01-04                    NaN      34.0     18.0   NaN     NaN      17.0   \n",
       "2014-01-11                    NaN      90.0     38.0  12.0    28.0      32.0   \n",
       "2014-01-18                    NaN      65.0     42.0  33.0    26.0      34.0   \n",
       "2014-01-25                    NaN      63.0     31.0  18.0    17.0      28.0   \n",
       "2014-02-01                    NaN      61.0     37.0  15.0    10.0      33.0   \n",
       "\n",
       "Jurisdiction of Occurrence  Louisiana  Maine  Maryland  Massachusetts  \\\n",
       "Week Ending Date                                                        \n",
       "2014-01-04                       25.0    NaN       NaN           13.0   \n",
       "2014-01-11                       51.0    NaN      25.0           36.0   \n",
       "2014-01-18                       35.0    NaN      26.0           28.0   \n",
       "2014-01-25                       39.0    NaN      23.0           31.0   \n",
       "2014-02-01                       30.0    NaN      22.0           35.0   \n",
       "\n",
       "Jurisdiction of Occurrence  Michigan  Minnesota  Mississippi  Missouri  \\\n",
       "Week Ending Date                                                         \n",
       "2014-01-04                      38.0       10.0         11.0      37.0   \n",
       "2014-01-11                      65.0       26.0         28.0      55.0   \n",
       "2014-01-18                      62.0       23.0         28.0      44.0   \n",
       "2014-01-25                      52.0       16.0         29.0      26.0   \n",
       "2014-02-01                      47.0       13.0         24.0      29.0   \n",
       "\n",
       "Jurisdiction of Occurrence  Montana  Nebraska  Nevada  New Hampshire  \\\n",
       "Week Ending Date                                                       \n",
       "2014-01-04                      NaN       NaN    19.0            NaN   \n",
       "2014-01-11                      NaN      13.0    25.0            NaN   \n",
       "2014-01-18                      NaN       NaN    19.0           10.0   \n",
       "2014-01-25                      NaN       NaN    28.0            NaN   \n",
       "2014-02-01                      NaN      13.0    23.0            NaN   \n",
       "\n",
       "Jurisdiction of Occurrence  New Jersey  New Mexico  New York  North Carolina  \\\n",
       "Week Ending Date                                                               \n",
       "2014-01-04                        14.0         NaN      25.0            30.0   \n",
       "2014-01-11                        30.0        14.0      68.0            67.0   \n",
       "2014-01-18                        37.0        13.0      78.0            54.0   \n",
       "2014-01-25                        32.0        20.0      72.0            66.0   \n",
       "2014-02-01                        24.0         NaN      47.0            76.0   \n",
       "\n",
       "Jurisdiction of Occurrence  North Dakota  Ohio  Oklahoma  Oregon  \\\n",
       "Week Ending Date                                                   \n",
       "2014-01-04                           NaN  38.0      11.0     NaN   \n",
       "2014-01-11                           NaN  63.0      33.0    20.0   \n",
       "2014-01-18                           NaN  62.0      39.0    21.0   \n",
       "2014-01-25                           NaN  68.0      23.0    21.0   \n",
       "2014-02-01                           NaN  70.0      25.0    17.0   \n",
       "\n",
       "Jurisdiction of Occurrence  Pennsylvania  Puerto Rico  Rhode Island  \\\n",
       "Week Ending Date                                                      \n",
       "2014-01-04                          33.0         10.0           NaN   \n",
       "2014-01-11                          65.0         20.0           NaN   \n",
       "2014-01-18                          63.0         20.0           NaN   \n",
       "2014-01-25                          73.0         14.0           NaN   \n",
       "2014-02-01                          71.0         14.0           NaN   \n",
       "\n",
       "Jurisdiction of Occurrence  South Carolina  South Dakota  Tennessee  Texas  \\\n",
       "Week Ending Date                                                             \n",
       "2014-01-04                            14.0           NaN       37.0  106.0   \n",
       "2014-01-11                            24.0           NaN       60.0  176.0   \n",
       "2014-01-18                            23.0           NaN       61.0  191.0   \n",
       "2014-01-25                            27.0           NaN       67.0  130.0   \n",
       "2014-02-01                            22.0           NaN       58.0  130.0   \n",
       "\n",
       "Jurisdiction of Occurrence  Utah  Vermont  Virginia  Washington  \\\n",
       "Week Ending Date                                                  \n",
       "2014-01-04                   NaN      NaN      17.0        19.0   \n",
       "2014-01-11                   NaN      NaN      47.0        29.0   \n",
       "2014-01-18                  11.0      NaN      41.0        25.0   \n",
       "2014-01-25                  14.0      NaN      47.0        21.0   \n",
       "2014-02-01                   NaN      NaN      57.0        28.0   \n",
       "\n",
       "Jurisdiction of Occurrence  West Virginia  Wisconsin  Wyoming  \n",
       "Week Ending Date                                               \n",
       "2014-01-04                            NaN       19.0      NaN  \n",
       "2014-01-11                           17.0       22.0      NaN  \n",
       "2014-01-18                           12.0       32.0      NaN  \n",
       "2014-01-25                           13.0       29.0      NaN  \n",
       "2014-02-01                           16.0       27.0      NaN  "
      ]
     },
     "execution_count": 12,
     "metadata": {},
     "output_type": "execute_result"
    }
   ],
   "source": [
    "cdc_1420_flu_df.head()"
   ]
  },
  {
   "cell_type": "code",
   "execution_count": 13,
   "metadata": {},
   "outputs": [
    {
     "data": {
      "text/plain": [
       "<AxesSubplot:xlabel='Week Ending Date'>"
      ]
     },
     "execution_count": 13,
     "metadata": {},
     "output_type": "execute_result"
    },
    {
     "data": {
      "image/png": "[encoded data removed]",
      "text/plain": [
       "<Figure size 432x288 with 1 Axes>"
      ]
     },
     "metadata": {
      "needs_background": "light"
     },
     "output_type": "display_data"
    }
   ],
   "source": [
    "cdc_1420_flu_df['California'].plot()"
   ]
  },
  {
   "cell_type": "markdown",
   "metadata": {},
   "source": [
    "## Rolling\n",
    "\n",
    "A rolling average is often a better way to \"smooth\" out noisy data. This works by averaging observations over a window. You need to chain two methods together to return a rolling average: [`.rolling()`](https://pandas.pydata.org/pandas-docs/stable/reference/api/pandas.Series.rolling.html) and `.mean()` but this means you can also return a rolling median, max, and other functions as well.\n",
    "\n",
    "Make a rolling average of flu data."
   ]
  },
  {
   "cell_type": "code",
   "execution_count": 14,
   "metadata": {},
   "outputs": [
    {
     "data": {
      "text/plain": [
       "Week Ending Date\n",
       "2014-01-04    123.0\n",
       "2014-01-11    224.0\n",
       "2014-01-18    279.0\n",
       "2014-01-25    245.0\n",
       "2014-02-01    196.0\n",
       "2014-02-08    210.0\n",
       "2014-02-15    188.0\n",
       "2014-02-22    152.0\n",
       "2014-03-01    134.0\n",
       "2014-03-08    124.0\n",
       "Name: California, dtype: float64"
      ]
     },
     "execution_count": 14,
     "metadata": {},
     "output_type": "execute_result"
    }
   ],
   "source": [
    "cdc_1420_flu_df['California'].head(10)"
   ]
  },
  {
   "cell_type": "code",
   "execution_count": 15,
   "metadata": {},
   "outputs": [
    {
     "data": {
      "text/plain": [
       "217.75"
      ]
     },
     "execution_count": 15,
     "metadata": {},
     "output_type": "execute_result"
    }
   ],
   "source": [
    "np.mean([123,224,279,245])"
   ]
  },
  {
   "cell_type": "code",
   "execution_count": 16,
   "metadata": {},
   "outputs": [
    {
     "data": {
      "text/plain": [
       "236.0"
      ]
     },
     "execution_count": 16,
     "metadata": {},
     "output_type": "execute_result"
    }
   ],
   "source": [
    "np.mean([224,279,245,196])"
   ]
  },
  {
   "cell_type": "code",
   "execution_count": 17,
   "metadata": {},
   "outputs": [
    {
     "data": {
      "text/plain": [
       "Week Ending Date\n",
       "2014-01-04       NaN\n",
       "2014-01-11       NaN\n",
       "2014-01-18       NaN\n",
       "2014-01-25    217.75\n",
       "2014-02-01    236.00\n",
       "2014-02-08    232.50\n",
       "2014-02-15    209.75\n",
       "2014-02-22    186.50\n",
       "2014-03-01    171.00\n",
       "2014-03-08    149.50\n",
       "Name: California, dtype: float64"
      ]
     },
     "execution_count": 17,
     "metadata": {},
     "output_type": "execute_result"
    }
   ],
   "source": [
    "cdc_1420_flu_df['California'].rolling(4).mean().head(10)"
   ]
  },
  {
   "cell_type": "code",
   "execution_count": null,
   "metadata": {},
   "outputs": [],
   "source": []
  },
  {
   "cell_type": "markdown",
   "metadata": {},
   "source": [
    "Experiment with differently-sized rolling window."
   ]
  },
  {
   "cell_type": "code",
   "execution_count": 18,
   "metadata": {},
   "outputs": [
    {
     "data": {
      "text/plain": [
       "Week Ending Date\n",
       "2014-01-04      NaN\n",
       "2014-01-11    173.5\n",
       "2014-01-18    251.5\n",
       "2014-01-25    262.0\n",
       "2014-02-01    220.5\n",
       "              ...  \n",
       "2020-07-18     98.0\n",
       "2020-07-25     90.0\n",
       "2020-08-01     90.0\n",
       "2020-08-08     79.5\n",
       "2020-08-15     69.5\n",
       "Name: California, Length: 346, dtype: float64"
      ]
     },
     "execution_count": 18,
     "metadata": {},
     "output_type": "execute_result"
    }
   ],
   "source": [
    "cdc_1420_flu_df['California'].rolling(2).mean()"
   ]
  },
  {
   "cell_type": "markdown",
   "metadata": {},
   "source": [
    "Visualize the raw data and the two different rolling windows."
   ]
  },
  {
   "cell_type": "code",
   "execution_count": 20,
   "metadata": {},
   "outputs": [
    {
     "data": {
      "text/plain": [
       "<AxesSubplot:title={'center':'Weekly influenza deaths, California'}, xlabel='Week Ending Date', ylabel='Number of deaths'>"
      ]
     },
     "execution_count": 20,
     "metadata": {},
     "output_type": "execute_result"
    },
    {
     "data": {
      "image/png": "[encoded data removed]",
      "text/plain": [
       "<Figure size 648x432 with 1 Axes>"
      ]
     },
     "metadata": {
      "needs_background": "light"
     },
     "output_type": "display_data"
    }
   ],
   "source": [
    "f,ax = plt.subplots(figsize=(9,6))\n",
    "\n",
    "cdc_1420_flu_df['California'].plot(ax=ax,label='Original')\n",
    "ax.set_ylabel('Number of deaths')\n",
    "ax.set_title('Weekly influenza deaths, California')\n",
    "# cdc_1420_flu_df['California'].rolling(2).mean().plot(ax=ax,label='Rolling 2')\n",
    "cdc_1420_flu_df['California'].rolling(10).mean().plot(ax=ax,label='Rolling 52',lw=3)\n",
    "# ax.legend(loc='center left',bbox_to_anchor=(1,.5))"
   ]
  },
  {
   "cell_type": "markdown",
   "metadata": {},
   "source": [
    "Interpret."
   ]
  },
  {
   "cell_type": "code",
   "execution_count": null,
   "metadata": {},
   "outputs": [],
   "source": []
  },
  {
   "cell_type": "markdown",
   "metadata": {},
   "source": [
    "## Reindexing\n",
    "\n",
    "Reindexing is a method for converting data to match a new index. Reindexing works on just about any kind of data (string, categorical, continuous, *etc*.) but it is especially powerful when working with temporal data. \n",
    "\n",
    "Temporal data for say, the stock market, might have gaps for weekends and holidays where social media data is often available every day. Comparing both requires some way of making a Series with all dates and then filling in the missing data.\n",
    "\n",
    "Read in the S&P500 close and volume data."
   ]
  },
  {
   "cell_type": "code",
   "execution_count": 56,
   "metadata": {},
   "outputs": [
    {
     "data": {
      "text/html": [
       "<div>\n",
       "<style scoped>\n",
       "    .dataframe tbody tr th:only-of-type {\n",
       "        vertical-align: middle;\n",
       "    }\n",
       "\n",
       "    .dataframe tbody tr th {\n",
       "        vertical-align: top;\n",
       "    }\n",
       "\n",
       "    .dataframe thead th {\n",
       "        text-align: right;\n",
       "    }\n",
       "</style>\n",
       "<table border=\"1\" class=\"dataframe\">\n",
       "  <thead>\n",
       "    <tr style=\"text-align: right;\">\n",
       "      <th></th>\n",
       "      <th>Date</th>\n",
       "      <th>Adj Close</th>\n",
       "      <th>Volume</th>\n",
       "    </tr>\n",
       "  </thead>\n",
       "  <tbody>\n",
       "    <tr>\n",
       "      <td>0</td>\n",
       "      <td>2017-01-03</td>\n",
       "      <td>2257.830078</td>\n",
       "      <td>3770530000</td>\n",
       "    </tr>\n",
       "    <tr>\n",
       "      <td>1</td>\n",
       "      <td>2017-01-04</td>\n",
       "      <td>2270.750000</td>\n",
       "      <td>3764890000</td>\n",
       "    </tr>\n",
       "    <tr>\n",
       "      <td>2</td>\n",
       "      <td>2017-01-05</td>\n",
       "      <td>2269.000000</td>\n",
       "      <td>3761820000</td>\n",
       "    </tr>\n",
       "    <tr>\n",
       "      <td>3</td>\n",
       "      <td>2017-01-06</td>\n",
       "      <td>2276.979980</td>\n",
       "      <td>3339890000</td>\n",
       "    </tr>\n",
       "    <tr>\n",
       "      <td>4</td>\n",
       "      <td>2017-01-09</td>\n",
       "      <td>2268.899902</td>\n",
       "      <td>3217610000</td>\n",
       "    </tr>\n",
       "  </tbody>\n",
       "</table>\n",
       "</div>"
      ],
      "text/plain": [
       "        Date    Adj Close      Volume\n",
       "0 2017-01-03  2257.830078  3770530000\n",
       "1 2017-01-04  2270.750000  3764890000\n",
       "2 2017-01-05  2269.000000  3761820000\n",
       "3 2017-01-06  2276.979980  3339890000\n",
       "4 2017-01-09  2268.899902  3217610000"
      ]
     },
     "execution_count": 56,
     "metadata": {},
     "output_type": "execute_result"
    }
   ],
   "source": [
    "sp500_df = pd.read_csv('sp500_close_volume.csv',parse_dates=['Date'])\n",
    "sp500_df.head()"
   ]
  },
  {
   "cell_type": "code",
   "execution_count": 57,
   "metadata": {},
   "outputs": [
    {
     "data": {
      "text/plain": [
       "Timestamp('2017-01-03 00:00:00')"
      ]
     },
     "execution_count": 57,
     "metadata": {},
     "output_type": "execute_result"
    }
   ],
   "source": [
    "sp500_df.loc[0,'Date']"
   ]
  },
  {
   "cell_type": "markdown",
   "metadata": {},
   "source": [
    "Identify the first and last dates in the DataFrame."
   ]
  },
  {
   "cell_type": "code",
   "execution_count": 58,
   "metadata": {},
   "outputs": [
    {
     "data": {
      "text/plain": [
       "(Timestamp('2017-01-03 00:00:00'), Timestamp('2020-09-24 00:00:00'))"
      ]
     },
     "execution_count": 58,
     "metadata": {},
     "output_type": "execute_result"
    }
   ],
   "source": [
    "sp500_df['Date'].min(), sp500_df['Date'].max()"
   ]
  },
  {
   "cell_type": "markdown",
   "metadata": {},
   "source": [
    "Use [`.reindex()`](https://pandas.pydata.org/pandas-docs/stable/reference/api/pandas.DataFrame.reindex.html) and [`date_range()`](https://pandas.pydata.org/pandas-docs/stable/reference/api/pandas.date_range.html) to update the DateTimeIndex to be continuous since the start."
   ]
  },
  {
   "cell_type": "code",
   "execution_count": 64,
   "metadata": {},
   "outputs": [
    {
     "data": {
      "text/plain": [
       "DatetimeIndex(['2017-01-03', '2017-01-04', '2017-01-05', '2017-01-06',\n",
       "               '2017-01-07', '2017-01-08', '2017-01-09', '2017-01-10',\n",
       "               '2017-01-11', '2017-01-12',\n",
       "               ...\n",
       "               '2020-09-15', '2020-09-16', '2020-09-17', '2020-09-18',\n",
       "               '2020-09-19', '2020-09-20', '2020-09-21', '2020-09-22',\n",
       "               '2020-09-23', '2020-09-24'],\n",
       "              dtype='datetime64[ns]', length=1361, freq='D')"
      ]
     },
     "execution_count": 64,
     "metadata": {},
     "output_type": "execute_result"
    }
   ],
   "source": [
    "sp500_daterange = pd.date_range(start = '2017-01-03',\n",
    "                                end = '2020-09-24',freq='D')\n",
    "sp500_daterange"
   ]
  },
  {
   "cell_type": "code",
   "execution_count": 66,
   "metadata": {},
   "outputs": [],
   "source": [
    "sp500_df.set_index('Date',inplace = True)"
   ]
  },
  {
   "cell_type": "code",
   "execution_count": 73,
   "metadata": {},
   "outputs": [
    {
     "name": "stdout",
     "output_type": "stream",
     "text": [
      "(939, 2)\n"
     ]
    },
    {
     "data": {
      "text/html": [
       "<div>\n",
       "<style scoped>\n",
       "    .dataframe tbody tr th:only-of-type {\n",
       "        vertical-align: middle;\n",
       "    }\n",
       "\n",
       "    .dataframe tbody tr th {\n",
       "        vertical-align: top;\n",
       "    }\n",
       "\n",
       "    .dataframe thead th {\n",
       "        text-align: right;\n",
       "    }\n",
       "</style>\n",
       "<table border=\"1\" class=\"dataframe\">\n",
       "  <thead>\n",
       "    <tr style=\"text-align: right;\">\n",
       "      <th></th>\n",
       "      <th>Adj Close</th>\n",
       "      <th>Volume</th>\n",
       "    </tr>\n",
       "    <tr>\n",
       "      <th>Date</th>\n",
       "      <th></th>\n",
       "      <th></th>\n",
       "    </tr>\n",
       "  </thead>\n",
       "  <tbody>\n",
       "    <tr>\n",
       "      <td>2017-01-03</td>\n",
       "      <td>2257.830078</td>\n",
       "      <td>3770530000</td>\n",
       "    </tr>\n",
       "    <tr>\n",
       "      <td>2017-01-04</td>\n",
       "      <td>2270.750000</td>\n",
       "      <td>3764890000</td>\n",
       "    </tr>\n",
       "    <tr>\n",
       "      <td>2017-01-05</td>\n",
       "      <td>2269.000000</td>\n",
       "      <td>3761820000</td>\n",
       "    </tr>\n",
       "    <tr>\n",
       "      <td>2017-01-06</td>\n",
       "      <td>2276.979980</td>\n",
       "      <td>3339890000</td>\n",
       "    </tr>\n",
       "    <tr>\n",
       "      <td>2017-01-09</td>\n",
       "      <td>2268.899902</td>\n",
       "      <td>3217610000</td>\n",
       "    </tr>\n",
       "  </tbody>\n",
       "</table>\n",
       "</div>"
      ],
      "text/plain": [
       "              Adj Close      Volume\n",
       "Date                               \n",
       "2017-01-03  2257.830078  3770530000\n",
       "2017-01-04  2270.750000  3764890000\n",
       "2017-01-05  2269.000000  3761820000\n",
       "2017-01-06  2276.979980  3339890000\n",
       "2017-01-09  2268.899902  3217610000"
      ]
     },
     "execution_count": 73,
     "metadata": {},
     "output_type": "execute_result"
    }
   ],
   "source": [
    "print(sp500_df.shape)\n",
    "sp500_df.head()"
   ]
  },
  {
   "cell_type": "code",
   "execution_count": 72,
   "metadata": {},
   "outputs": [
    {
     "name": "stdout",
     "output_type": "stream",
     "text": [
      "(1361, 2)\n"
     ]
    },
    {
     "data": {
      "text/html": [
       "<div>\n",
       "<style scoped>\n",
       "    .dataframe tbody tr th:only-of-type {\n",
       "        vertical-align: middle;\n",
       "    }\n",
       "\n",
       "    .dataframe tbody tr th {\n",
       "        vertical-align: top;\n",
       "    }\n",
       "\n",
       "    .dataframe thead th {\n",
       "        text-align: right;\n",
       "    }\n",
       "</style>\n",
       "<table border=\"1\" class=\"dataframe\">\n",
       "  <thead>\n",
       "    <tr style=\"text-align: right;\">\n",
       "      <th></th>\n",
       "      <th>Adj Close</th>\n",
       "      <th>Volume</th>\n",
       "    </tr>\n",
       "  </thead>\n",
       "  <tbody>\n",
       "    <tr>\n",
       "      <td>2017-01-03</td>\n",
       "      <td>2257.830078</td>\n",
       "      <td>3.770530e+09</td>\n",
       "    </tr>\n",
       "    <tr>\n",
       "      <td>2017-01-04</td>\n",
       "      <td>2270.750000</td>\n",
       "      <td>3.764890e+09</td>\n",
       "    </tr>\n",
       "    <tr>\n",
       "      <td>2017-01-05</td>\n",
       "      <td>2269.000000</td>\n",
       "      <td>3.761820e+09</td>\n",
       "    </tr>\n",
       "    <tr>\n",
       "      <td>2017-01-06</td>\n",
       "      <td>2276.979980</td>\n",
       "      <td>3.339890e+09</td>\n",
       "    </tr>\n",
       "    <tr>\n",
       "      <td>2017-01-07</td>\n",
       "      <td>NaN</td>\n",
       "      <td>NaN</td>\n",
       "    </tr>\n",
       "    <tr>\n",
       "      <td>2017-01-08</td>\n",
       "      <td>NaN</td>\n",
       "      <td>NaN</td>\n",
       "    </tr>\n",
       "    <tr>\n",
       "      <td>2017-01-09</td>\n",
       "      <td>2268.899902</td>\n",
       "      <td>3.217610e+09</td>\n",
       "    </tr>\n",
       "    <tr>\n",
       "      <td>2017-01-10</td>\n",
       "      <td>2268.899902</td>\n",
       "      <td>3.638790e+09</td>\n",
       "    </tr>\n",
       "    <tr>\n",
       "      <td>2017-01-11</td>\n",
       "      <td>2275.320068</td>\n",
       "      <td>3.620410e+09</td>\n",
       "    </tr>\n",
       "    <tr>\n",
       "      <td>2017-01-12</td>\n",
       "      <td>2270.439941</td>\n",
       "      <td>3.462130e+09</td>\n",
       "    </tr>\n",
       "  </tbody>\n",
       "</table>\n",
       "</div>"
      ],
      "text/plain": [
       "              Adj Close        Volume\n",
       "2017-01-03  2257.830078  3.770530e+09\n",
       "2017-01-04  2270.750000  3.764890e+09\n",
       "2017-01-05  2269.000000  3.761820e+09\n",
       "2017-01-06  2276.979980  3.339890e+09\n",
       "2017-01-07          NaN           NaN\n",
       "2017-01-08          NaN           NaN\n",
       "2017-01-09  2268.899902  3.217610e+09\n",
       "2017-01-10  2268.899902  3.638790e+09\n",
       "2017-01-11  2275.320068  3.620410e+09\n",
       "2017-01-12  2270.439941  3.462130e+09"
      ]
     },
     "execution_count": 72,
     "metadata": {},
     "output_type": "execute_result"
    }
   ],
   "source": [
    "sp500_reindexed_df = sp500_df.reindex(sp500_daterange)\n",
    "print(sp500_reindexed_df.shape)\n",
    "sp500_reindexed_df.head(10)"
   ]
  },
  {
   "cell_type": "markdown",
   "metadata": {},
   "source": [
    "Use the `get_pageviews` function from Module Assignment 3 to retrieve the pageview data for the \"[S&P 500 Index](https://en.wikipedia.org/wiki/S%26P_500_Index)\" article on the English Wikipedia."
   ]
  },
  {
   "cell_type": "code",
   "execution_count": 74,
   "metadata": {},
   "outputs": [],
   "source": [
    "import requests\n",
    "from urllib.parse import quote\n",
    "\n",
    "def get_pageviews(page_title,endpoint='en.wikipedia.org',date_from='20150701',date_to='today'):\n",
    "    \"\"\"Takes Wikipedia page title and returns a all the various pageview records\n",
    "    \n",
    "    page_title - a string with the title of the page on Wikipedia\n",
    "    lang - a string (typically two letter ISO 639-1 code) for the language edition,\n",
    "        defaults to \"en\"\n",
    "        datefrom - a date string in a YYYYMMDD format, defaults to 20150701 (earliest date)\n",
    "        dateto - a date string in a YYYYMMDD format, defaults to today\n",
    "        \n",
    "    Returns:\n",
    "    s - a Series indexed by date with page views as values\n",
    "    \"\"\"\n",
    "    if date_to == 'today':\n",
    "        date_to = str(datetime.today().date()).replace('-','')\n",
    "        \n",
    "    quoted_page_title = quote(page_title, safe='')\n",
    "    date_from = datetime.strftime(pd.to_datetime(date_from),'%Y%m%d')\n",
    "    date_to = datetime.strftime(pd.to_datetime(date_to),'%Y%m%d')\n",
    "    \n",
    "    s = \"https://wikimedia.org/api/rest_v1/metrics/pageviews/per-article/{1}/{2}/{3}/{0}/daily/{4}/{5}\".format(quoted_page_title,endpoint,'all-access','user',date_from,date_to)\n",
    "    json_response = requests.get(s).json()\n",
    "    \n",
    "    if 'items' in json_response:\n",
    "        df = pd.DataFrame(json_response['items'])\n",
    "    else:\n",
    "        raise KeyError('There is no \"items\" key in the JSON response.')\n",
    "        \n",
    "    df = df[['timestamp','views']]\n",
    "    df['timestamp'] = pd.to_datetime(df['timestamp'],format='%Y%m%d%H')\n",
    "    s = df.set_index('timestamp')['views']\n",
    "        \n",
    "    return s"
   ]
  },
  {
   "cell_type": "code",
   "execution_count": 75,
   "metadata": {},
   "outputs": [
    {
     "data": {
      "text/plain": [
       "timestamp\n",
       "2015-07-01    3\n",
       "2015-07-02    4\n",
       "2015-07-03    6\n",
       "2015-07-04    2\n",
       "2015-07-05    2\n",
       "Name: views, dtype: int64"
      ]
     },
     "execution_count": 75,
     "metadata": {},
     "output_type": "execute_result"
    }
   ],
   "source": [
    "# \n",
    "sp500_pv_s = get_pageviews('S&P 500 Index')\n",
    "sp500_pv_s.head()"
   ]
  },
  {
   "cell_type": "code",
   "execution_count": 76,
   "metadata": {},
   "outputs": [
    {
     "data": {
      "text/plain": [
       "timestamp\n",
       "2020-09-25    3577\n",
       "2020-09-26    2623\n",
       "2020-09-27    2602\n",
       "2020-09-28    3618\n",
       "2020-09-29    3689\n",
       "Name: views, dtype: int64"
      ]
     },
     "execution_count": 76,
     "metadata": {},
     "output_type": "execute_result"
    }
   ],
   "source": [
    "sp500_pv_s.tail()"
   ]
  },
  {
   "cell_type": "markdown",
   "metadata": {},
   "source": [
    "Reindex the pageview data to be identical to the S&P 500 close and volume data."
   ]
  },
  {
   "cell_type": "code",
   "execution_count": 78,
   "metadata": {},
   "outputs": [
    {
     "data": {
      "text/plain": [
       "2017-01-03    2422\n",
       "2017-01-04    2530\n",
       "2017-01-05    2520\n",
       "2017-01-06    2520\n",
       "2017-01-07    1625\n",
       "              ... \n",
       "2020-09-20    2780\n",
       "2020-09-21    4970\n",
       "2020-09-22    5034\n",
       "2020-09-23    4555\n",
       "2020-09-24    4465\n",
       "Freq: D, Name: views, Length: 1361, dtype: int64"
      ]
     },
     "execution_count": 78,
     "metadata": {},
     "output_type": "execute_result"
    }
   ],
   "source": [
    "sp500_reindexed_pv_s = sp500_pv_s.reindex(sp500_daterange)\n",
    "sp500_reindexed_pv_s"
   ]
  },
  {
   "cell_type": "markdown",
   "metadata": {},
   "source": [
    "Combine the close and pageview data into a single DataFrame."
   ]
  },
  {
   "cell_type": "code",
   "execution_count": 80,
   "metadata": {},
   "outputs": [
    {
     "data": {
      "text/html": [
       "<div>\n",
       "<style scoped>\n",
       "    .dataframe tbody tr th:only-of-type {\n",
       "        vertical-align: middle;\n",
       "    }\n",
       "\n",
       "    .dataframe tbody tr th {\n",
       "        vertical-align: top;\n",
       "    }\n",
       "\n",
       "    .dataframe thead th {\n",
       "        text-align: right;\n",
       "    }\n",
       "</style>\n",
       "<table border=\"1\" class=\"dataframe\">\n",
       "  <thead>\n",
       "    <tr style=\"text-align: right;\">\n",
       "      <th></th>\n",
       "      <th>Pageviews</th>\n",
       "      <th>Stock</th>\n",
       "    </tr>\n",
       "  </thead>\n",
       "  <tbody>\n",
       "    <tr>\n",
       "      <td>2017-01-03</td>\n",
       "      <td>2422</td>\n",
       "      <td>2257.830078</td>\n",
       "    </tr>\n",
       "    <tr>\n",
       "      <td>2017-01-04</td>\n",
       "      <td>2530</td>\n",
       "      <td>2270.750000</td>\n",
       "    </tr>\n",
       "    <tr>\n",
       "      <td>2017-01-05</td>\n",
       "      <td>2520</td>\n",
       "      <td>2269.000000</td>\n",
       "    </tr>\n",
       "    <tr>\n",
       "      <td>2017-01-06</td>\n",
       "      <td>2520</td>\n",
       "      <td>2276.979980</td>\n",
       "    </tr>\n",
       "    <tr>\n",
       "      <td>2017-01-07</td>\n",
       "      <td>1625</td>\n",
       "      <td>NaN</td>\n",
       "    </tr>\n",
       "    <tr>\n",
       "      <td>...</td>\n",
       "      <td>...</td>\n",
       "      <td>...</td>\n",
       "    </tr>\n",
       "    <tr>\n",
       "      <td>2020-09-20</td>\n",
       "      <td>2780</td>\n",
       "      <td>NaN</td>\n",
       "    </tr>\n",
       "    <tr>\n",
       "      <td>2020-09-21</td>\n",
       "      <td>4970</td>\n",
       "      <td>3281.060059</td>\n",
       "    </tr>\n",
       "    <tr>\n",
       "      <td>2020-09-22</td>\n",
       "      <td>5034</td>\n",
       "      <td>3315.570068</td>\n",
       "    </tr>\n",
       "    <tr>\n",
       "      <td>2020-09-23</td>\n",
       "      <td>4555</td>\n",
       "      <td>3236.919922</td>\n",
       "    </tr>\n",
       "    <tr>\n",
       "      <td>2020-09-24</td>\n",
       "      <td>4465</td>\n",
       "      <td>3246.590088</td>\n",
       "    </tr>\n",
       "  </tbody>\n",
       "</table>\n",
       "<p>1361 rows × 2 columns</p>\n",
       "</div>"
      ],
      "text/plain": [
       "            Pageviews        Stock\n",
       "2017-01-03       2422  2257.830078\n",
       "2017-01-04       2530  2270.750000\n",
       "2017-01-05       2520  2269.000000\n",
       "2017-01-06       2520  2276.979980\n",
       "2017-01-07       1625          NaN\n",
       "...               ...          ...\n",
       "2020-09-20       2780          NaN\n",
       "2020-09-21       4970  3281.060059\n",
       "2020-09-22       5034  3315.570068\n",
       "2020-09-23       4555  3236.919922\n",
       "2020-09-24       4465  3246.590088\n",
       "\n",
       "[1361 rows x 2 columns]"
      ]
     },
     "execution_count": 80,
     "metadata": {},
     "output_type": "execute_result"
    }
   ],
   "source": [
    "stock_and_wiki_df = pd.DataFrame({'Pageviews':sp500_reindexed_pv_s,\n",
    "                                  'Stock':sp500_reindexed_df['Adj Close']})\n",
    "stock_and_wiki_df"
   ]
  },
  {
   "cell_type": "markdown",
   "metadata": {},
   "source": [
    "Visualize both."
   ]
  },
  {
   "cell_type": "code",
   "execution_count": 81,
   "metadata": {},
   "outputs": [
    {
     "data": {
      "text/plain": [
       "<matplotlib.axes._subplots.AxesSubplot at 0x7fc4a0aca110>"
      ]
     },
     "execution_count": 81,
     "metadata": {},
     "output_type": "execute_result"
    },
    {
     "data": {
      "image/png": "[encoded data removed]",
      "text/plain": [
       "<Figure size 432x288 with 1 Axes>"
      ]
     },
     "metadata": {
      "needs_background": "light"
     },
     "output_type": "display_data"
    }
   ],
   "source": [
    "stock_and_wiki_df.plot()"
   ]
  },
  {
   "cell_type": "markdown",
   "metadata": {},
   "source": [
    "Interpret."
   ]
  },
  {
   "cell_type": "code",
   "execution_count": null,
   "metadata": {},
   "outputs": [],
   "source": []
  },
  {
   "cell_type": "markdown",
   "metadata": {},
   "source": [
    "## Shifting data\n",
    "\n",
    "Sometimes it's helpful to shift or lag the data backwards or forwards in time to perform other calculations. The pandas method for this is [`.shift()`](https://pandas.pydata.org/pandas-docs/stable/reference/api/pandas.Series.shift.html)\n",
    "\n",
    "See what `.shift()` does on some of the data from before."
   ]
  },
  {
   "cell_type": "code",
   "execution_count": 91,
   "metadata": {},
   "outputs": [
    {
     "data": {
      "text/plain": [
       "Date\n",
       "2017-01-03            NaN\n",
       "2017-01-04    2257.830078\n",
       "2017-01-05    2270.750000\n",
       "2017-01-06    2269.000000\n",
       "2017-01-09    2276.979980\n",
       "                 ...     \n",
       "2020-09-18    3357.010010\n",
       "2020-09-21    3319.469971\n",
       "2020-09-22    3281.060059\n",
       "2020-09-23    3315.570068\n",
       "2020-09-24    3236.919922\n",
       "Name: Adj Close, Length: 939, dtype: float64"
      ]
     },
     "execution_count": 91,
     "metadata": {},
     "output_type": "execute_result"
    }
   ],
   "source": [
    "sp500_df['Adj Close'].shift(1)"
   ]
  },
  {
   "cell_type": "markdown",
   "metadata": {},
   "source": [
    "Shift the S&P 500 close data and compute the percentage change in close and in volume."
   ]
  },
  {
   "cell_type": "code",
   "execution_count": 92,
   "metadata": {},
   "outputs": [
    {
     "data": {
      "text/html": [
       "<div>\n",
       "<style scoped>\n",
       "    .dataframe tbody tr th:only-of-type {\n",
       "        vertical-align: middle;\n",
       "    }\n",
       "\n",
       "    .dataframe tbody tr th {\n",
       "        vertical-align: top;\n",
       "    }\n",
       "\n",
       "    .dataframe thead th {\n",
       "        text-align: right;\n",
       "    }\n",
       "</style>\n",
       "<table border=\"1\" class=\"dataframe\">\n",
       "  <thead>\n",
       "    <tr style=\"text-align: right;\">\n",
       "      <th></th>\n",
       "      <th>Adj Close</th>\n",
       "      <th>Volume</th>\n",
       "      <th>Shift 1</th>\n",
       "    </tr>\n",
       "    <tr>\n",
       "      <th>Date</th>\n",
       "      <th></th>\n",
       "      <th></th>\n",
       "      <th></th>\n",
       "    </tr>\n",
       "  </thead>\n",
       "  <tbody>\n",
       "    <tr>\n",
       "      <td>2017-01-03</td>\n",
       "      <td>2257.830078</td>\n",
       "      <td>3770530000</td>\n",
       "      <td>NaN</td>\n",
       "    </tr>\n",
       "    <tr>\n",
       "      <td>2017-01-04</td>\n",
       "      <td>2270.750000</td>\n",
       "      <td>3764890000</td>\n",
       "      <td>2257.830078</td>\n",
       "    </tr>\n",
       "    <tr>\n",
       "      <td>2017-01-05</td>\n",
       "      <td>2269.000000</td>\n",
       "      <td>3761820000</td>\n",
       "      <td>2270.750000</td>\n",
       "    </tr>\n",
       "    <tr>\n",
       "      <td>2017-01-06</td>\n",
       "      <td>2276.979980</td>\n",
       "      <td>3339890000</td>\n",
       "      <td>2269.000000</td>\n",
       "    </tr>\n",
       "    <tr>\n",
       "      <td>2017-01-09</td>\n",
       "      <td>2268.899902</td>\n",
       "      <td>3217610000</td>\n",
       "      <td>2276.979980</td>\n",
       "    </tr>\n",
       "  </tbody>\n",
       "</table>\n",
       "</div>"
      ],
      "text/plain": [
       "              Adj Close      Volume      Shift 1\n",
       "Date                                            \n",
       "2017-01-03  2257.830078  3770530000          NaN\n",
       "2017-01-04  2270.750000  3764890000  2257.830078\n",
       "2017-01-05  2269.000000  3761820000  2270.750000\n",
       "2017-01-06  2276.979980  3339890000  2269.000000\n",
       "2017-01-09  2268.899902  3217610000  2276.979980"
      ]
     },
     "execution_count": 92,
     "metadata": {},
     "output_type": "execute_result"
    }
   ],
   "source": [
    "sp500_df['Shift 1'] = sp500_df['Adj Close'].shift(1)\n",
    "\n",
    "sp500_df.head()"
   ]
  },
  {
   "cell_type": "code",
   "execution_count": 96,
   "metadata": {},
   "outputs": [
    {
     "data": {
      "text/html": [
       "<div>\n",
       "<style scoped>\n",
       "    .dataframe tbody tr th:only-of-type {\n",
       "        vertical-align: middle;\n",
       "    }\n",
       "\n",
       "    .dataframe tbody tr th {\n",
       "        vertical-align: top;\n",
       "    }\n",
       "\n",
       "    .dataframe thead th {\n",
       "        text-align: right;\n",
       "    }\n",
       "</style>\n",
       "<table border=\"1\" class=\"dataframe\">\n",
       "  <thead>\n",
       "    <tr style=\"text-align: right;\">\n",
       "      <th></th>\n",
       "      <th>Adj Close</th>\n",
       "      <th>Volume</th>\n",
       "      <th>Shift 1</th>\n",
       "      <th>pct_change_manual</th>\n",
       "      <th>diff</th>\n",
       "    </tr>\n",
       "    <tr>\n",
       "      <th>Date</th>\n",
       "      <th></th>\n",
       "      <th></th>\n",
       "      <th></th>\n",
       "      <th></th>\n",
       "      <th></th>\n",
       "    </tr>\n",
       "  </thead>\n",
       "  <tbody>\n",
       "    <tr>\n",
       "      <td>2017-01-03</td>\n",
       "      <td>2257.830078</td>\n",
       "      <td>3770530000</td>\n",
       "      <td>NaN</td>\n",
       "      <td>NaN</td>\n",
       "      <td>NaN</td>\n",
       "    </tr>\n",
       "    <tr>\n",
       "      <td>2017-01-04</td>\n",
       "      <td>2270.750000</td>\n",
       "      <td>3764890000</td>\n",
       "      <td>2257.830078</td>\n",
       "      <td>0.005690</td>\n",
       "      <td>12.919922</td>\n",
       "    </tr>\n",
       "    <tr>\n",
       "      <td>2017-01-05</td>\n",
       "      <td>2269.000000</td>\n",
       "      <td>3761820000</td>\n",
       "      <td>2270.750000</td>\n",
       "      <td>-0.000771</td>\n",
       "      <td>-1.750000</td>\n",
       "    </tr>\n",
       "    <tr>\n",
       "      <td>2017-01-06</td>\n",
       "      <td>2276.979980</td>\n",
       "      <td>3339890000</td>\n",
       "      <td>2269.000000</td>\n",
       "      <td>0.003505</td>\n",
       "      <td>7.979980</td>\n",
       "    </tr>\n",
       "    <tr>\n",
       "      <td>2017-01-09</td>\n",
       "      <td>2268.899902</td>\n",
       "      <td>3217610000</td>\n",
       "      <td>2276.979980</td>\n",
       "      <td>-0.003561</td>\n",
       "      <td>-8.080078</td>\n",
       "    </tr>\n",
       "    <tr>\n",
       "      <td>...</td>\n",
       "      <td>...</td>\n",
       "      <td>...</td>\n",
       "      <td>...</td>\n",
       "      <td>...</td>\n",
       "      <td>...</td>\n",
       "    </tr>\n",
       "    <tr>\n",
       "      <td>2020-09-18</td>\n",
       "      <td>3319.469971</td>\n",
       "      <td>7068700000</td>\n",
       "      <td>3357.010010</td>\n",
       "      <td>-0.011309</td>\n",
       "      <td>-37.540039</td>\n",
       "    </tr>\n",
       "    <tr>\n",
       "      <td>2020-09-21</td>\n",
       "      <td>3281.060059</td>\n",
       "      <td>4828350000</td>\n",
       "      <td>3319.469971</td>\n",
       "      <td>-0.011707</td>\n",
       "      <td>-38.409912</td>\n",
       "    </tr>\n",
       "    <tr>\n",
       "      <td>2020-09-22</td>\n",
       "      <td>3315.570068</td>\n",
       "      <td>3963300000</td>\n",
       "      <td>3281.060059</td>\n",
       "      <td>0.010408</td>\n",
       "      <td>34.510010</td>\n",
       "    </tr>\n",
       "    <tr>\n",
       "      <td>2020-09-23</td>\n",
       "      <td>3236.919922</td>\n",
       "      <td>4364500000</td>\n",
       "      <td>3315.570068</td>\n",
       "      <td>-0.024298</td>\n",
       "      <td>-78.650146</td>\n",
       "    </tr>\n",
       "    <tr>\n",
       "      <td>2020-09-24</td>\n",
       "      <td>3246.590088</td>\n",
       "      <td>4599470000</td>\n",
       "      <td>3236.919922</td>\n",
       "      <td>0.002979</td>\n",
       "      <td>9.670166</td>\n",
       "    </tr>\n",
       "  </tbody>\n",
       "</table>\n",
       "<p>939 rows × 5 columns</p>\n",
       "</div>"
      ],
      "text/plain": [
       "              Adj Close      Volume      Shift 1  pct_change_manual       diff\n",
       "Date                                                                          \n",
       "2017-01-03  2257.830078  3770530000          NaN                NaN        NaN\n",
       "2017-01-04  2270.750000  3764890000  2257.830078           0.005690  12.919922\n",
       "2017-01-05  2269.000000  3761820000  2270.750000          -0.000771  -1.750000\n",
       "2017-01-06  2276.979980  3339890000  2269.000000           0.003505   7.979980\n",
       "2017-01-09  2268.899902  3217610000  2276.979980          -0.003561  -8.080078\n",
       "...                 ...         ...          ...                ...        ...\n",
       "2020-09-18  3319.469971  7068700000  3357.010010          -0.011309 -37.540039\n",
       "2020-09-21  3281.060059  4828350000  3319.469971          -0.011707 -38.409912\n",
       "2020-09-22  3315.570068  3963300000  3281.060059           0.010408  34.510010\n",
       "2020-09-23  3236.919922  4364500000  3315.570068          -0.024298 -78.650146\n",
       "2020-09-24  3246.590088  4599470000  3236.919922           0.002979   9.670166\n",
       "\n",
       "[939 rows x 5 columns]"
      ]
     },
     "execution_count": 96,
     "metadata": {},
     "output_type": "execute_result"
    }
   ],
   "source": [
    "sp500_df['diff'] = sp500_df['Adj Close'] - sp500_df['Shift 1']\n",
    "sp500_df['pct_change_manual'] = (sp500_df['Adj Close'] - sp500_df['Shift 1'])/sp500_df['Adj Close']\n",
    "sp500_df"
   ]
  },
  {
   "cell_type": "markdown",
   "metadata": {},
   "source": [
    "Compare our method for computing change with the [`.pct_change()`](https://pandas.pydata.org/pandas-docs/stable/reference/api/pandas.Series.pct_change.html) method."
   ]
  },
  {
   "cell_type": "code",
   "execution_count": 97,
   "metadata": {},
   "outputs": [
    {
     "data": {
      "text/plain": [
       "Date\n",
       "2017-01-03         NaN\n",
       "2017-01-04    0.005722\n",
       "2017-01-05   -0.000771\n",
       "2017-01-06    0.003517\n",
       "2017-01-09   -0.003549\n",
       "                ...   \n",
       "2020-09-18   -0.011183\n",
       "2020-09-21   -0.011571\n",
       "2020-09-22    0.010518\n",
       "2020-09-23   -0.023721\n",
       "2020-09-24    0.002987\n",
       "Name: Adj Close, Length: 939, dtype: float64"
      ]
     },
     "execution_count": 97,
     "metadata": {},
     "output_type": "execute_result"
    }
   ],
   "source": [
    "sp500_df['Adj Close'].pct_change()"
   ]
  },
  {
   "cell_type": "markdown",
   "metadata": {},
   "source": [
    "## Missing data\n",
    "\n",
    "When you used `pivot_table` and other data reshaping functions and methods in previous weeks, you likely encountered examples of missing data where some combination of variables had no observations and `NaN` values were introduced. Handling missing data is a frustrating but fundamental part of almost all kinds of data analyses and pandas provides some powerful methods in the form of [`.fillna()`](https://pandas.pydata.org/pandas-docs/stable/reference/api/pandas.DataFrame.fillna.html) and [`.dropna()`](https://pandas.pydata.org/pandas-docs/stable/reference/api/pandas.DataFrame.dropna.html).\n",
    "\n",
    "There's also some helper methods like [`.isna()`](https://pandas.pydata.org/pandas-docs/stable/reference/api/pandas.isna.html) and [`.notna()`](https://pandas.pydata.org/pandas-docs/stable/reference/api/pandas.notna.html) for making Boolean evaluations of whether a value is missing or not in a DataFrame or Series object. Check how these helper functions work on the shifted data."
   ]
  },
  {
   "cell_type": "code",
   "execution_count": 98,
   "metadata": {},
   "outputs": [
    {
     "data": {
      "text/html": [
       "<div>\n",
       "<style scoped>\n",
       "    .dataframe tbody tr th:only-of-type {\n",
       "        vertical-align: middle;\n",
       "    }\n",
       "\n",
       "    .dataframe tbody tr th {\n",
       "        vertical-align: top;\n",
       "    }\n",
       "\n",
       "    .dataframe thead th {\n",
       "        text-align: right;\n",
       "    }\n",
       "</style>\n",
       "<table border=\"1\" class=\"dataframe\">\n",
       "  <thead>\n",
       "    <tr style=\"text-align: right;\">\n",
       "      <th>Jurisdiction of Occurrence</th>\n",
       "      <th>Alabama</th>\n",
       "      <th>Alaska</th>\n",
       "      <th>Arizona</th>\n",
       "      <th>Arkansas</th>\n",
       "      <th>California</th>\n",
       "      <th>Colorado</th>\n",
       "      <th>Connecticut</th>\n",
       "      <th>Delaware</th>\n",
       "      <th>District of Columbia</th>\n",
       "      <th>Florida</th>\n",
       "      <th>Georgia</th>\n",
       "      <th>Hawaii</th>\n",
       "      <th>Idaho</th>\n",
       "      <th>Illinois</th>\n",
       "      <th>Indiana</th>\n",
       "      <th>Iowa</th>\n",
       "      <th>Kansas</th>\n",
       "      <th>Kentucky</th>\n",
       "      <th>Louisiana</th>\n",
       "      <th>Maine</th>\n",
       "      <th>Maryland</th>\n",
       "      <th>Massachusetts</th>\n",
       "      <th>Michigan</th>\n",
       "      <th>Minnesota</th>\n",
       "      <th>Mississippi</th>\n",
       "      <th>Missouri</th>\n",
       "      <th>Montana</th>\n",
       "      <th>Nebraska</th>\n",
       "      <th>Nevada</th>\n",
       "      <th>New Hampshire</th>\n",
       "      <th>New Jersey</th>\n",
       "      <th>New Mexico</th>\n",
       "      <th>New York</th>\n",
       "      <th>North Carolina</th>\n",
       "      <th>North Dakota</th>\n",
       "      <th>Ohio</th>\n",
       "      <th>Oklahoma</th>\n",
       "      <th>Oregon</th>\n",
       "      <th>Pennsylvania</th>\n",
       "      <th>Puerto Rico</th>\n",
       "      <th>Rhode Island</th>\n",
       "      <th>South Carolina</th>\n",
       "      <th>South Dakota</th>\n",
       "      <th>Tennessee</th>\n",
       "      <th>Texas</th>\n",
       "      <th>Utah</th>\n",
       "      <th>Vermont</th>\n",
       "      <th>Virginia</th>\n",
       "      <th>Washington</th>\n",
       "      <th>West Virginia</th>\n",
       "      <th>Wisconsin</th>\n",
       "      <th>Wyoming</th>\n",
       "    </tr>\n",
       "    <tr>\n",
       "      <th>Week Ending Date</th>\n",
       "      <th></th>\n",
       "      <th></th>\n",
       "      <th></th>\n",
       "      <th></th>\n",
       "      <th></th>\n",
       "      <th></th>\n",
       "      <th></th>\n",
       "      <th></th>\n",
       "      <th></th>\n",
       "      <th></th>\n",
       "      <th></th>\n",
       "      <th></th>\n",
       "      <th></th>\n",
       "      <th></th>\n",
       "      <th></th>\n",
       "      <th></th>\n",
       "      <th></th>\n",
       "      <th></th>\n",
       "      <th></th>\n",
       "      <th></th>\n",
       "      <th></th>\n",
       "      <th></th>\n",
       "      <th></th>\n",
       "      <th></th>\n",
       "      <th></th>\n",
       "      <th></th>\n",
       "      <th></th>\n",
       "      <th></th>\n",
       "      <th></th>\n",
       "      <th></th>\n",
       "      <th></th>\n",
       "      <th></th>\n",
       "      <th></th>\n",
       "      <th></th>\n",
       "      <th></th>\n",
       "      <th></th>\n",
       "      <th></th>\n",
       "      <th></th>\n",
       "      <th></th>\n",
       "      <th></th>\n",
       "      <th></th>\n",
       "      <th></th>\n",
       "      <th></th>\n",
       "      <th></th>\n",
       "      <th></th>\n",
       "      <th></th>\n",
       "      <th></th>\n",
       "      <th></th>\n",
       "      <th></th>\n",
       "      <th></th>\n",
       "      <th></th>\n",
       "      <th></th>\n",
       "    </tr>\n",
       "  </thead>\n",
       "  <tbody>\n",
       "    <tr>\n",
       "      <td>2014-01-04</td>\n",
       "      <td>NaN</td>\n",
       "      <td>NaN</td>\n",
       "      <td>10.0</td>\n",
       "      <td>15.0</td>\n",
       "      <td>123.0</td>\n",
       "      <td>14.0</td>\n",
       "      <td>NaN</td>\n",
       "      <td>NaN</td>\n",
       "      <td>NaN</td>\n",
       "      <td>39.0</td>\n",
       "      <td>29.0</td>\n",
       "      <td>NaN</td>\n",
       "      <td>NaN</td>\n",
       "      <td>34.0</td>\n",
       "      <td>18.0</td>\n",
       "      <td>NaN</td>\n",
       "      <td>NaN</td>\n",
       "      <td>17.0</td>\n",
       "      <td>25.0</td>\n",
       "      <td>NaN</td>\n",
       "      <td>NaN</td>\n",
       "      <td>13.0</td>\n",
       "      <td>38.0</td>\n",
       "      <td>10.0</td>\n",
       "      <td>11.0</td>\n",
       "      <td>37.0</td>\n",
       "      <td>NaN</td>\n",
       "      <td>NaN</td>\n",
       "      <td>19.0</td>\n",
       "      <td>NaN</td>\n",
       "      <td>14.0</td>\n",
       "      <td>NaN</td>\n",
       "      <td>25.0</td>\n",
       "      <td>30.0</td>\n",
       "      <td>NaN</td>\n",
       "      <td>38.0</td>\n",
       "      <td>11.0</td>\n",
       "      <td>NaN</td>\n",
       "      <td>33.0</td>\n",
       "      <td>10.0</td>\n",
       "      <td>NaN</td>\n",
       "      <td>14.0</td>\n",
       "      <td>NaN</td>\n",
       "      <td>37.0</td>\n",
       "      <td>106.0</td>\n",
       "      <td>NaN</td>\n",
       "      <td>NaN</td>\n",
       "      <td>17.0</td>\n",
       "      <td>19.0</td>\n",
       "      <td>NaN</td>\n",
       "      <td>19.0</td>\n",
       "      <td>NaN</td>\n",
       "    </tr>\n",
       "    <tr>\n",
       "      <td>2014-01-11</td>\n",
       "      <td>32.0</td>\n",
       "      <td>NaN</td>\n",
       "      <td>26.0</td>\n",
       "      <td>28.0</td>\n",
       "      <td>224.0</td>\n",
       "      <td>30.0</td>\n",
       "      <td>16.0</td>\n",
       "      <td>NaN</td>\n",
       "      <td>NaN</td>\n",
       "      <td>73.0</td>\n",
       "      <td>76.0</td>\n",
       "      <td>NaN</td>\n",
       "      <td>NaN</td>\n",
       "      <td>90.0</td>\n",
       "      <td>38.0</td>\n",
       "      <td>12.0</td>\n",
       "      <td>28.0</td>\n",
       "      <td>32.0</td>\n",
       "      <td>51.0</td>\n",
       "      <td>NaN</td>\n",
       "      <td>25.0</td>\n",
       "      <td>36.0</td>\n",
       "      <td>65.0</td>\n",
       "      <td>26.0</td>\n",
       "      <td>28.0</td>\n",
       "      <td>55.0</td>\n",
       "      <td>NaN</td>\n",
       "      <td>13.0</td>\n",
       "      <td>25.0</td>\n",
       "      <td>NaN</td>\n",
       "      <td>30.0</td>\n",
       "      <td>14.0</td>\n",
       "      <td>68.0</td>\n",
       "      <td>67.0</td>\n",
       "      <td>NaN</td>\n",
       "      <td>63.0</td>\n",
       "      <td>33.0</td>\n",
       "      <td>20.0</td>\n",
       "      <td>65.0</td>\n",
       "      <td>20.0</td>\n",
       "      <td>NaN</td>\n",
       "      <td>24.0</td>\n",
       "      <td>NaN</td>\n",
       "      <td>60.0</td>\n",
       "      <td>176.0</td>\n",
       "      <td>NaN</td>\n",
       "      <td>NaN</td>\n",
       "      <td>47.0</td>\n",
       "      <td>29.0</td>\n",
       "      <td>17.0</td>\n",
       "      <td>22.0</td>\n",
       "      <td>NaN</td>\n",
       "    </tr>\n",
       "    <tr>\n",
       "      <td>2014-01-18</td>\n",
       "      <td>33.0</td>\n",
       "      <td>NaN</td>\n",
       "      <td>31.0</td>\n",
       "      <td>22.0</td>\n",
       "      <td>279.0</td>\n",
       "      <td>28.0</td>\n",
       "      <td>20.0</td>\n",
       "      <td>NaN</td>\n",
       "      <td>NaN</td>\n",
       "      <td>72.0</td>\n",
       "      <td>58.0</td>\n",
       "      <td>16.0</td>\n",
       "      <td>NaN</td>\n",
       "      <td>65.0</td>\n",
       "      <td>42.0</td>\n",
       "      <td>33.0</td>\n",
       "      <td>26.0</td>\n",
       "      <td>34.0</td>\n",
       "      <td>35.0</td>\n",
       "      <td>NaN</td>\n",
       "      <td>26.0</td>\n",
       "      <td>28.0</td>\n",
       "      <td>62.0</td>\n",
       "      <td>23.0</td>\n",
       "      <td>28.0</td>\n",
       "      <td>44.0</td>\n",
       "      <td>NaN</td>\n",
       "      <td>NaN</td>\n",
       "      <td>19.0</td>\n",
       "      <td>10.0</td>\n",
       "      <td>37.0</td>\n",
       "      <td>13.0</td>\n",
       "      <td>78.0</td>\n",
       "      <td>54.0</td>\n",
       "      <td>NaN</td>\n",
       "      <td>62.0</td>\n",
       "      <td>39.0</td>\n",
       "      <td>21.0</td>\n",
       "      <td>63.0</td>\n",
       "      <td>20.0</td>\n",
       "      <td>NaN</td>\n",
       "      <td>23.0</td>\n",
       "      <td>NaN</td>\n",
       "      <td>61.0</td>\n",
       "      <td>191.0</td>\n",
       "      <td>11.0</td>\n",
       "      <td>NaN</td>\n",
       "      <td>41.0</td>\n",
       "      <td>25.0</td>\n",
       "      <td>12.0</td>\n",
       "      <td>32.0</td>\n",
       "      <td>NaN</td>\n",
       "    </tr>\n",
       "    <tr>\n",
       "      <td>2014-01-25</td>\n",
       "      <td>42.0</td>\n",
       "      <td>NaN</td>\n",
       "      <td>45.0</td>\n",
       "      <td>23.0</td>\n",
       "      <td>245.0</td>\n",
       "      <td>28.0</td>\n",
       "      <td>12.0</td>\n",
       "      <td>NaN</td>\n",
       "      <td>NaN</td>\n",
       "      <td>74.0</td>\n",
       "      <td>51.0</td>\n",
       "      <td>10.0</td>\n",
       "      <td>NaN</td>\n",
       "      <td>63.0</td>\n",
       "      <td>31.0</td>\n",
       "      <td>18.0</td>\n",
       "      <td>17.0</td>\n",
       "      <td>28.0</td>\n",
       "      <td>39.0</td>\n",
       "      <td>NaN</td>\n",
       "      <td>23.0</td>\n",
       "      <td>31.0</td>\n",
       "      <td>52.0</td>\n",
       "      <td>16.0</td>\n",
       "      <td>29.0</td>\n",
       "      <td>26.0</td>\n",
       "      <td>NaN</td>\n",
       "      <td>NaN</td>\n",
       "      <td>28.0</td>\n",
       "      <td>NaN</td>\n",
       "      <td>32.0</td>\n",
       "      <td>20.0</td>\n",
       "      <td>72.0</td>\n",
       "      <td>66.0</td>\n",
       "      <td>NaN</td>\n",
       "      <td>68.0</td>\n",
       "      <td>23.0</td>\n",
       "      <td>21.0</td>\n",
       "      <td>73.0</td>\n",
       "      <td>14.0</td>\n",
       "      <td>NaN</td>\n",
       "      <td>27.0</td>\n",
       "      <td>NaN</td>\n",
       "      <td>67.0</td>\n",
       "      <td>130.0</td>\n",
       "      <td>14.0</td>\n",
       "      <td>NaN</td>\n",
       "      <td>47.0</td>\n",
       "      <td>21.0</td>\n",
       "      <td>13.0</td>\n",
       "      <td>29.0</td>\n",
       "      <td>NaN</td>\n",
       "    </tr>\n",
       "    <tr>\n",
       "      <td>2014-02-01</td>\n",
       "      <td>26.0</td>\n",
       "      <td>0.0</td>\n",
       "      <td>41.0</td>\n",
       "      <td>23.0</td>\n",
       "      <td>196.0</td>\n",
       "      <td>27.0</td>\n",
       "      <td>10.0</td>\n",
       "      <td>NaN</td>\n",
       "      <td>NaN</td>\n",
       "      <td>77.0</td>\n",
       "      <td>52.0</td>\n",
       "      <td>11.0</td>\n",
       "      <td>NaN</td>\n",
       "      <td>61.0</td>\n",
       "      <td>37.0</td>\n",
       "      <td>15.0</td>\n",
       "      <td>10.0</td>\n",
       "      <td>33.0</td>\n",
       "      <td>30.0</td>\n",
       "      <td>NaN</td>\n",
       "      <td>22.0</td>\n",
       "      <td>35.0</td>\n",
       "      <td>47.0</td>\n",
       "      <td>13.0</td>\n",
       "      <td>24.0</td>\n",
       "      <td>29.0</td>\n",
       "      <td>NaN</td>\n",
       "      <td>13.0</td>\n",
       "      <td>23.0</td>\n",
       "      <td>NaN</td>\n",
       "      <td>24.0</td>\n",
       "      <td>NaN</td>\n",
       "      <td>47.0</td>\n",
       "      <td>76.0</td>\n",
       "      <td>NaN</td>\n",
       "      <td>70.0</td>\n",
       "      <td>25.0</td>\n",
       "      <td>17.0</td>\n",
       "      <td>71.0</td>\n",
       "      <td>14.0</td>\n",
       "      <td>NaN</td>\n",
       "      <td>22.0</td>\n",
       "      <td>NaN</td>\n",
       "      <td>58.0</td>\n",
       "      <td>130.0</td>\n",
       "      <td>NaN</td>\n",
       "      <td>NaN</td>\n",
       "      <td>57.0</td>\n",
       "      <td>28.0</td>\n",
       "      <td>16.0</td>\n",
       "      <td>27.0</td>\n",
       "      <td>NaN</td>\n",
       "    </tr>\n",
       "  </tbody>\n",
       "</table>\n",
       "</div>"
      ],
      "text/plain": [
       "Jurisdiction of Occurrence  Alabama  Alaska  Arizona  Arkansas  California  \\\n",
       "Week Ending Date                                                             \n",
       "2014-01-04                      NaN     NaN     10.0      15.0       123.0   \n",
       "2014-01-11                     32.0     NaN     26.0      28.0       224.0   \n",
       "2014-01-18                     33.0     NaN     31.0      22.0       279.0   \n",
       "2014-01-25                     42.0     NaN     45.0      23.0       245.0   \n",
       "2014-02-01                     26.0     0.0     41.0      23.0       196.0   \n",
       "\n",
       "Jurisdiction of Occurrence  Colorado  Connecticut  Delaware  \\\n",
       "Week Ending Date                                              \n",
       "2014-01-04                      14.0          NaN       NaN   \n",
       "2014-01-11                      30.0         16.0       NaN   \n",
       "2014-01-18                      28.0         20.0       NaN   \n",
       "2014-01-25                      28.0         12.0       NaN   \n",
       "2014-02-01                      27.0         10.0       NaN   \n",
       "\n",
       "Jurisdiction of Occurrence  District of Columbia  Florida  Georgia  Hawaii  \\\n",
       "Week Ending Date                                                             \n",
       "2014-01-04                                   NaN     39.0     29.0     NaN   \n",
       "2014-01-11                                   NaN     73.0     76.0     NaN   \n",
       "2014-01-18                                   NaN     72.0     58.0    16.0   \n",
       "2014-01-25                                   NaN     74.0     51.0    10.0   \n",
       "2014-02-01                                   NaN     77.0     52.0    11.0   \n",
       "\n",
       "Jurisdiction of Occurrence  Idaho  Illinois  Indiana  Iowa  Kansas  Kentucky  \\\n",
       "Week Ending Date                                                               \n",
       "2014-01-04                    NaN      34.0     18.0   NaN     NaN      17.0   \n",
       "2014-01-11                    NaN      90.0     38.0  12.0    28.0      32.0   \n",
       "2014-01-18                    NaN      65.0     42.0  33.0    26.0      34.0   \n",
       "2014-01-25                    NaN      63.0     31.0  18.0    17.0      28.0   \n",
       "2014-02-01                    NaN      61.0     37.0  15.0    10.0      33.0   \n",
       "\n",
       "Jurisdiction of Occurrence  Louisiana  Maine  Maryland  Massachusetts  \\\n",
       "Week Ending Date                                                        \n",
       "2014-01-04                       25.0    NaN       NaN           13.0   \n",
       "2014-01-11                       51.0    NaN      25.0           36.0   \n",
       "2014-01-18                       35.0    NaN      26.0           28.0   \n",
       "2014-01-25                       39.0    NaN      23.0           31.0   \n",
       "2014-02-01                       30.0    NaN      22.0           35.0   \n",
       "\n",
       "Jurisdiction of Occurrence  Michigan  Minnesota  Mississippi  Missouri  \\\n",
       "Week Ending Date                                                         \n",
       "2014-01-04                      38.0       10.0         11.0      37.0   \n",
       "2014-01-11                      65.0       26.0         28.0      55.0   \n",
       "2014-01-18                      62.0       23.0         28.0      44.0   \n",
       "2014-01-25                      52.0       16.0         29.0      26.0   \n",
       "2014-02-01                      47.0       13.0         24.0      29.0   \n",
       "\n",
       "Jurisdiction of Occurrence  Montana  Nebraska  Nevada  New Hampshire  \\\n",
       "Week Ending Date                                                       \n",
       "2014-01-04                      NaN       NaN    19.0            NaN   \n",
       "2014-01-11                      NaN      13.0    25.0            NaN   \n",
       "2014-01-18                      NaN       NaN    19.0           10.0   \n",
       "2014-01-25                      NaN       NaN    28.0            NaN   \n",
       "2014-02-01                      NaN      13.0    23.0            NaN   \n",
       "\n",
       "Jurisdiction of Occurrence  New Jersey  New Mexico  New York  North Carolina  \\\n",
       "Week Ending Date                                                               \n",
       "2014-01-04                        14.0         NaN      25.0            30.0   \n",
       "2014-01-11                        30.0        14.0      68.0            67.0   \n",
       "2014-01-18                        37.0        13.0      78.0            54.0   \n",
       "2014-01-25                        32.0        20.0      72.0            66.0   \n",
       "2014-02-01                        24.0         NaN      47.0            76.0   \n",
       "\n",
       "Jurisdiction of Occurrence  North Dakota  Ohio  Oklahoma  Oregon  \\\n",
       "Week Ending Date                                                   \n",
       "2014-01-04                           NaN  38.0      11.0     NaN   \n",
       "2014-01-11                           NaN  63.0      33.0    20.0   \n",
       "2014-01-18                           NaN  62.0      39.0    21.0   \n",
       "2014-01-25                           NaN  68.0      23.0    21.0   \n",
       "2014-02-01                           NaN  70.0      25.0    17.0   \n",
       "\n",
       "Jurisdiction of Occurrence  Pennsylvania  Puerto Rico  Rhode Island  \\\n",
       "Week Ending Date                                                      \n",
       "2014-01-04                          33.0         10.0           NaN   \n",
       "2014-01-11                          65.0         20.0           NaN   \n",
       "2014-01-18                          63.0         20.0           NaN   \n",
       "2014-01-25                          73.0         14.0           NaN   \n",
       "2014-02-01                          71.0         14.0           NaN   \n",
       "\n",
       "Jurisdiction of Occurrence  South Carolina  South Dakota  Tennessee  Texas  \\\n",
       "Week Ending Date                                                             \n",
       "2014-01-04                            14.0           NaN       37.0  106.0   \n",
       "2014-01-11                            24.0           NaN       60.0  176.0   \n",
       "2014-01-18                            23.0           NaN       61.0  191.0   \n",
       "2014-01-25                            27.0           NaN       67.0  130.0   \n",
       "2014-02-01                            22.0           NaN       58.0  130.0   \n",
       "\n",
       "Jurisdiction of Occurrence  Utah  Vermont  Virginia  Washington  \\\n",
       "Week Ending Date                                                  \n",
       "2014-01-04                   NaN      NaN      17.0        19.0   \n",
       "2014-01-11                   NaN      NaN      47.0        29.0   \n",
       "2014-01-18                  11.0      NaN      41.0        25.0   \n",
       "2014-01-25                  14.0      NaN      47.0        21.0   \n",
       "2014-02-01                   NaN      NaN      57.0        28.0   \n",
       "\n",
       "Jurisdiction of Occurrence  West Virginia  Wisconsin  Wyoming  \n",
       "Week Ending Date                                               \n",
       "2014-01-04                            NaN       19.0      NaN  \n",
       "2014-01-11                           17.0       22.0      NaN  \n",
       "2014-01-18                           12.0       32.0      NaN  \n",
       "2014-01-25                           13.0       29.0      NaN  \n",
       "2014-02-01                           16.0       27.0      NaN  "
      ]
     },
     "execution_count": 98,
     "metadata": {},
     "output_type": "execute_result"
    }
   ],
   "source": [
    "cdc_1420_flu_df.head()"
   ]
  },
  {
   "cell_type": "markdown",
   "metadata": {},
   "source": [
    "### `.fillna()`\n",
    "`.fillna()` has a few options for dealing with missing data. The simplest is to replace all the missing values with another value; typically, 0."
   ]
  },
  {
   "cell_type": "code",
   "execution_count": 109,
   "metadata": {},
   "outputs": [
    {
     "data": {
      "text/plain": [
       "Week Ending Date\n",
       "2014-01-04    0.0\n",
       "2014-01-11    0.0\n",
       "2014-01-18    0.0\n",
       "2014-01-25    0.0\n",
       "2014-02-01    0.0\n",
       "             ... \n",
       "2020-07-18    0.0\n",
       "2020-07-25    0.0\n",
       "2020-08-01    0.0\n",
       "2020-08-08    0.0\n",
       "2020-08-15    0.0\n",
       "Name: Alaska, Length: 346, dtype: float64"
      ]
     },
     "execution_count": 109,
     "metadata": {},
     "output_type": "execute_result"
    }
   ],
   "source": [
    "cdc_1420_flu_df['Alaska'].fillna(0)"
   ]
  },
  {
   "cell_type": "markdown",
   "metadata": {},
   "source": [
    "`.fillna()` also has some powerful methods for filling gaps in data with previous or future values commonly found in temporal data."
   ]
  },
  {
   "cell_type": "code",
   "execution_count": 127,
   "metadata": {},
   "outputs": [
    {
     "data": {
      "text/plain": [
       "Week Ending Date\n",
       "2014-01-04    14.0\n",
       "2014-01-11    30.0\n",
       "2014-01-18    28.0\n",
       "2014-01-25    28.0\n",
       "2014-02-01    27.0\n",
       "2014-02-08    24.0\n",
       "2014-02-15    14.0\n",
       "2014-02-22    12.0\n",
       "2014-03-01    15.0\n",
       "2014-03-08    13.0\n",
       "2014-03-15    13.0\n",
       "2014-03-22    18.0\n",
       "2014-03-29    18.0\n",
       "2014-04-05    12.0\n",
       "2014-04-12    17.0\n",
       "2014-04-19    17.0\n",
       "2014-04-26    12.0\n",
       "2014-05-03    12.0\n",
       "2014-05-10    10.0\n",
       "2014-05-17    11.0\n",
       "Name: Colorado, dtype: float64"
      ]
     },
     "execution_count": 127,
     "metadata": {},
     "output_type": "execute_result"
    }
   ],
   "source": [
    "cdc_1420_flu_df['Colorado'].fillna(method='bfill').head(20)"
   ]
  },
  {
   "cell_type": "code",
   "execution_count": 135,
   "metadata": {},
   "outputs": [
    {
     "data": {
      "text/plain": [
       "<matplotlib.axes._subplots.AxesSubplot at 0x7fc4a566a190>"
      ]
     },
     "execution_count": 135,
     "metadata": {},
     "output_type": "execute_result"
    },
    {
     "data": {
      "image/png": "[encoded data removed]",
      "text/plain": [
       "<Figure size 432x288 with 1 Axes>"
      ]
     },
     "metadata": {
      "needs_background": "light"
     },
     "output_type": "display_data"
    }
   ],
   "source": [
    "sp500_reindexed_df['Adj Close'].fillna(method='ffill').plot()"
   ]
  },
  {
   "cell_type": "markdown",
   "metadata": {},
   "source": [
    "### `.dropna()`\n",
    "\n",
    "You can also drop rows or columns of data that have missing values."
   ]
  },
  {
   "cell_type": "code",
   "execution_count": 140,
   "metadata": {},
   "outputs": [
    {
     "data": {
      "text/html": [
       "<div>\n",
       "<style scoped>\n",
       "    .dataframe tbody tr th:only-of-type {\n",
       "        vertical-align: middle;\n",
       "    }\n",
       "\n",
       "    .dataframe tbody tr th {\n",
       "        vertical-align: top;\n",
       "    }\n",
       "\n",
       "    .dataframe thead th {\n",
       "        text-align: right;\n",
       "    }\n",
       "</style>\n",
       "<table border=\"1\" class=\"dataframe\">\n",
       "  <thead>\n",
       "    <tr style=\"text-align: right;\">\n",
       "      <th></th>\n",
       "      <th>Adj Close</th>\n",
       "      <th>Volume</th>\n",
       "    </tr>\n",
       "  </thead>\n",
       "  <tbody>\n",
       "    <tr>\n",
       "      <td>2017-01-03</td>\n",
       "      <td>2257.830078</td>\n",
       "      <td>3.770530e+09</td>\n",
       "    </tr>\n",
       "    <tr>\n",
       "      <td>2017-01-04</td>\n",
       "      <td>2270.750000</td>\n",
       "      <td>3.764890e+09</td>\n",
       "    </tr>\n",
       "    <tr>\n",
       "      <td>2017-01-05</td>\n",
       "      <td>2269.000000</td>\n",
       "      <td>3.761820e+09</td>\n",
       "    </tr>\n",
       "    <tr>\n",
       "      <td>2017-01-06</td>\n",
       "      <td>2276.979980</td>\n",
       "      <td>3.339890e+09</td>\n",
       "    </tr>\n",
       "    <tr>\n",
       "      <td>2017-01-09</td>\n",
       "      <td>2268.899902</td>\n",
       "      <td>3.217610e+09</td>\n",
       "    </tr>\n",
       "    <tr>\n",
       "      <td>2017-01-10</td>\n",
       "      <td>2268.899902</td>\n",
       "      <td>3.638790e+09</td>\n",
       "    </tr>\n",
       "    <tr>\n",
       "      <td>2017-01-11</td>\n",
       "      <td>2275.320068</td>\n",
       "      <td>3.620410e+09</td>\n",
       "    </tr>\n",
       "    <tr>\n",
       "      <td>2017-01-12</td>\n",
       "      <td>2270.439941</td>\n",
       "      <td>3.462130e+09</td>\n",
       "    </tr>\n",
       "    <tr>\n",
       "      <td>2017-01-13</td>\n",
       "      <td>2274.639893</td>\n",
       "      <td>3.081270e+09</td>\n",
       "    </tr>\n",
       "    <tr>\n",
       "      <td>2017-01-17</td>\n",
       "      <td>2267.889893</td>\n",
       "      <td>3.584990e+09</td>\n",
       "    </tr>\n",
       "    <tr>\n",
       "      <td>2017-01-18</td>\n",
       "      <td>2271.889893</td>\n",
       "      <td>3.315250e+09</td>\n",
       "    </tr>\n",
       "    <tr>\n",
       "      <td>2017-01-19</td>\n",
       "      <td>2263.689941</td>\n",
       "      <td>3.165970e+09</td>\n",
       "    </tr>\n",
       "    <tr>\n",
       "      <td>2017-01-20</td>\n",
       "      <td>2271.310059</td>\n",
       "      <td>3.524970e+09</td>\n",
       "    </tr>\n",
       "    <tr>\n",
       "      <td>2017-01-23</td>\n",
       "      <td>2265.199951</td>\n",
       "      <td>3.152710e+09</td>\n",
       "    </tr>\n",
       "    <tr>\n",
       "      <td>2017-01-24</td>\n",
       "      <td>2280.070068</td>\n",
       "      <td>3.810960e+09</td>\n",
       "    </tr>\n",
       "    <tr>\n",
       "      <td>2017-01-25</td>\n",
       "      <td>2298.370117</td>\n",
       "      <td>3.846020e+09</td>\n",
       "    </tr>\n",
       "    <tr>\n",
       "      <td>2017-01-26</td>\n",
       "      <td>2296.679932</td>\n",
       "      <td>3.610360e+09</td>\n",
       "    </tr>\n",
       "    <tr>\n",
       "      <td>2017-01-27</td>\n",
       "      <td>2294.689941</td>\n",
       "      <td>3.135890e+09</td>\n",
       "    </tr>\n",
       "    <tr>\n",
       "      <td>2017-01-30</td>\n",
       "      <td>2280.899902</td>\n",
       "      <td>3.591270e+09</td>\n",
       "    </tr>\n",
       "    <tr>\n",
       "      <td>2017-01-31</td>\n",
       "      <td>2278.870117</td>\n",
       "      <td>4.087450e+09</td>\n",
       "    </tr>\n",
       "  </tbody>\n",
       "</table>\n",
       "</div>"
      ],
      "text/plain": [
       "              Adj Close        Volume\n",
       "2017-01-03  2257.830078  3.770530e+09\n",
       "2017-01-04  2270.750000  3.764890e+09\n",
       "2017-01-05  2269.000000  3.761820e+09\n",
       "2017-01-06  2276.979980  3.339890e+09\n",
       "2017-01-09  2268.899902  3.217610e+09\n",
       "2017-01-10  2268.899902  3.638790e+09\n",
       "2017-01-11  2275.320068  3.620410e+09\n",
       "2017-01-12  2270.439941  3.462130e+09\n",
       "2017-01-13  2274.639893  3.081270e+09\n",
       "2017-01-17  2267.889893  3.584990e+09\n",
       "2017-01-18  2271.889893  3.315250e+09\n",
       "2017-01-19  2263.689941  3.165970e+09\n",
       "2017-01-20  2271.310059  3.524970e+09\n",
       "2017-01-23  2265.199951  3.152710e+09\n",
       "2017-01-24  2280.070068  3.810960e+09\n",
       "2017-01-25  2298.370117  3.846020e+09\n",
       "2017-01-26  2296.679932  3.610360e+09\n",
       "2017-01-27  2294.689941  3.135890e+09\n",
       "2017-01-30  2280.899902  3.591270e+09\n",
       "2017-01-31  2278.870117  4.087450e+09"
      ]
     },
     "execution_count": 140,
     "metadata": {},
     "output_type": "execute_result"
    }
   ],
   "source": [
    "sp500_reindexed_df.dropna().head(20)"
   ]
  },
  {
   "cell_type": "markdown",
   "metadata": {},
   "source": [
    "You can also include a parameter to drop \"any\" rows/columns that contain missing data or rows/columns that contain \"all\"  missing data."
   ]
  },
  {
   "cell_type": "code",
   "execution_count": 145,
   "metadata": {},
   "outputs": [
    {
     "data": {
      "text/html": [
       "<div>\n",
       "<style scoped>\n",
       "    .dataframe tbody tr th:only-of-type {\n",
       "        vertical-align: middle;\n",
       "    }\n",
       "\n",
       "    .dataframe tbody tr th {\n",
       "        vertical-align: top;\n",
       "    }\n",
       "\n",
       "    .dataframe thead th {\n",
       "        text-align: right;\n",
       "    }\n",
       "</style>\n",
       "<table border=\"1\" class=\"dataframe\">\n",
       "  <thead>\n",
       "    <tr style=\"text-align: right;\">\n",
       "      <th></th>\n",
       "      <th>Adj Close</th>\n",
       "      <th>Volume</th>\n",
       "    </tr>\n",
       "  </thead>\n",
       "  <tbody>\n",
       "    <tr>\n",
       "      <td>2017-01-03</td>\n",
       "      <td>2257.830078</td>\n",
       "      <td>3.77053e+09</td>\n",
       "    </tr>\n",
       "    <tr>\n",
       "      <td>2017-01-04</td>\n",
       "      <td>2270.750000</td>\n",
       "      <td>3.76489e+09</td>\n",
       "    </tr>\n",
       "    <tr>\n",
       "      <td>2017-01-05</td>\n",
       "      <td>2269.000000</td>\n",
       "      <td>3.76182e+09</td>\n",
       "    </tr>\n",
       "    <tr>\n",
       "      <td>2017-01-06</td>\n",
       "      <td>2276.979980</td>\n",
       "      <td>3.33989e+09</td>\n",
       "    </tr>\n",
       "    <tr>\n",
       "      <td>2017-01-07</td>\n",
       "      <td>NaN</td>\n",
       "      <td>A LOT!</td>\n",
       "    </tr>\n",
       "    <tr>\n",
       "      <td>2017-01-08</td>\n",
       "      <td>NaN</td>\n",
       "      <td>NaN</td>\n",
       "    </tr>\n",
       "    <tr>\n",
       "      <td>2017-01-09</td>\n",
       "      <td>2268.899902</td>\n",
       "      <td>3.21761e+09</td>\n",
       "    </tr>\n",
       "    <tr>\n",
       "      <td>2017-01-10</td>\n",
       "      <td>2268.899902</td>\n",
       "      <td>3.63879e+09</td>\n",
       "    </tr>\n",
       "    <tr>\n",
       "      <td>2017-01-11</td>\n",
       "      <td>2275.320068</td>\n",
       "      <td>3.62041e+09</td>\n",
       "    </tr>\n",
       "    <tr>\n",
       "      <td>2017-01-12</td>\n",
       "      <td>2270.439941</td>\n",
       "      <td>3.46213e+09</td>\n",
       "    </tr>\n",
       "  </tbody>\n",
       "</table>\n",
       "</div>"
      ],
      "text/plain": [
       "              Adj Close       Volume\n",
       "2017-01-03  2257.830078  3.77053e+09\n",
       "2017-01-04  2270.750000  3.76489e+09\n",
       "2017-01-05  2269.000000  3.76182e+09\n",
       "2017-01-06  2276.979980  3.33989e+09\n",
       "2017-01-07          NaN       A LOT!\n",
       "2017-01-08          NaN          NaN\n",
       "2017-01-09  2268.899902  3.21761e+09\n",
       "2017-01-10  2268.899902  3.63879e+09\n",
       "2017-01-11  2275.320068  3.62041e+09\n",
       "2017-01-12  2270.439941  3.46213e+09"
      ]
     },
     "execution_count": 145,
     "metadata": {},
     "output_type": "execute_result"
    }
   ],
   "source": [
    "sp500_reindexed_df.loc[pd.Timestamp('2017-01-07'),'Volume'] = 'A LOT!'\n",
    "sp500_reindexed_df.head(10)"
   ]
  },
  {
   "cell_type": "code",
   "execution_count": 147,
   "metadata": {},
   "outputs": [
    {
     "data": {
      "text/html": [
       "<div>\n",
       "<style scoped>\n",
       "    .dataframe tbody tr th:only-of-type {\n",
       "        vertical-align: middle;\n",
       "    }\n",
       "\n",
       "    .dataframe tbody tr th {\n",
       "        vertical-align: top;\n",
       "    }\n",
       "\n",
       "    .dataframe thead th {\n",
       "        text-align: right;\n",
       "    }\n",
       "</style>\n",
       "<table border=\"1\" class=\"dataframe\">\n",
       "  <thead>\n",
       "    <tr style=\"text-align: right;\">\n",
       "      <th></th>\n",
       "      <th>Adj Close</th>\n",
       "      <th>Volume</th>\n",
       "    </tr>\n",
       "  </thead>\n",
       "  <tbody>\n",
       "    <tr>\n",
       "      <td>2017-01-03</td>\n",
       "      <td>2257.830078</td>\n",
       "      <td>3.77053e+09</td>\n",
       "    </tr>\n",
       "    <tr>\n",
       "      <td>2017-01-04</td>\n",
       "      <td>2270.750000</td>\n",
       "      <td>3.76489e+09</td>\n",
       "    </tr>\n",
       "    <tr>\n",
       "      <td>2017-01-05</td>\n",
       "      <td>2269.000000</td>\n",
       "      <td>3.76182e+09</td>\n",
       "    </tr>\n",
       "    <tr>\n",
       "      <td>2017-01-06</td>\n",
       "      <td>2276.979980</td>\n",
       "      <td>3.33989e+09</td>\n",
       "    </tr>\n",
       "    <tr>\n",
       "      <td>2017-01-07</td>\n",
       "      <td>NaN</td>\n",
       "      <td>A LOT!</td>\n",
       "    </tr>\n",
       "    <tr>\n",
       "      <td>2017-01-09</td>\n",
       "      <td>2268.899902</td>\n",
       "      <td>3.21761e+09</td>\n",
       "    </tr>\n",
       "    <tr>\n",
       "      <td>2017-01-10</td>\n",
       "      <td>2268.899902</td>\n",
       "      <td>3.63879e+09</td>\n",
       "    </tr>\n",
       "    <tr>\n",
       "      <td>2017-01-11</td>\n",
       "      <td>2275.320068</td>\n",
       "      <td>3.62041e+09</td>\n",
       "    </tr>\n",
       "    <tr>\n",
       "      <td>2017-01-12</td>\n",
       "      <td>2270.439941</td>\n",
       "      <td>3.46213e+09</td>\n",
       "    </tr>\n",
       "    <tr>\n",
       "      <td>2017-01-13</td>\n",
       "      <td>2274.639893</td>\n",
       "      <td>3.08127e+09</td>\n",
       "    </tr>\n",
       "  </tbody>\n",
       "</table>\n",
       "</div>"
      ],
      "text/plain": [
       "              Adj Close       Volume\n",
       "2017-01-03  2257.830078  3.77053e+09\n",
       "2017-01-04  2270.750000  3.76489e+09\n",
       "2017-01-05  2269.000000  3.76182e+09\n",
       "2017-01-06  2276.979980  3.33989e+09\n",
       "2017-01-07          NaN       A LOT!\n",
       "2017-01-09  2268.899902  3.21761e+09\n",
       "2017-01-10  2268.899902  3.63879e+09\n",
       "2017-01-11  2275.320068  3.62041e+09\n",
       "2017-01-12  2270.439941  3.46213e+09\n",
       "2017-01-13  2274.639893  3.08127e+09"
      ]
     },
     "execution_count": 147,
     "metadata": {},
     "output_type": "execute_result"
    }
   ],
   "source": [
    "sp500_reindexed_df.dropna(how='all').head(10)"
   ]
  },
  {
   "cell_type": "markdown",
   "metadata": {},
   "source": [
    "## Interpolation/imputation\n",
    "\n",
    "Interpolation and imputation are related terms for methods for filling missing data more intelligently than dropping the observation or filling all missing data with the same values. There are many, many kinds of methods and strategies for doing interpolation and imputation and it's far beyond the scope of this class to be able to cover them all. But we can start to develop your intuition for what is possible using interpolation.\n",
    "\n",
    "Reindex the S&P 500 data to a daily frequency. Inspect to show the resulting missing data (weekends and holidays)."
   ]
  },
  {
   "cell_type": "code",
   "execution_count": 149,
   "metadata": {},
   "outputs": [
    {
     "data": {
      "text/html": [
       "<div>\n",
       "<style scoped>\n",
       "    .dataframe tbody tr th:only-of-type {\n",
       "        vertical-align: middle;\n",
       "    }\n",
       "\n",
       "    .dataframe tbody tr th {\n",
       "        vertical-align: top;\n",
       "    }\n",
       "\n",
       "    .dataframe thead th {\n",
       "        text-align: right;\n",
       "    }\n",
       "</style>\n",
       "<table border=\"1\" class=\"dataframe\">\n",
       "  <thead>\n",
       "    <tr style=\"text-align: right;\">\n",
       "      <th></th>\n",
       "      <th>Adj Close</th>\n",
       "      <th>Volume</th>\n",
       "    </tr>\n",
       "  </thead>\n",
       "  <tbody>\n",
       "    <tr>\n",
       "      <td>2017-01-03</td>\n",
       "      <td>2257.830078</td>\n",
       "      <td>3.77053e+09</td>\n",
       "    </tr>\n",
       "    <tr>\n",
       "      <td>2017-01-04</td>\n",
       "      <td>2270.750000</td>\n",
       "      <td>3.76489e+09</td>\n",
       "    </tr>\n",
       "    <tr>\n",
       "      <td>2017-01-05</td>\n",
       "      <td>2269.000000</td>\n",
       "      <td>3.76182e+09</td>\n",
       "    </tr>\n",
       "    <tr>\n",
       "      <td>2017-01-06</td>\n",
       "      <td>2276.979980</td>\n",
       "      <td>3.33989e+09</td>\n",
       "    </tr>\n",
       "    <tr>\n",
       "      <td>2017-01-07</td>\n",
       "      <td>NaN</td>\n",
       "      <td>A LOT!</td>\n",
       "    </tr>\n",
       "    <tr>\n",
       "      <td>2017-01-08</td>\n",
       "      <td>NaN</td>\n",
       "      <td>NaN</td>\n",
       "    </tr>\n",
       "    <tr>\n",
       "      <td>2017-01-09</td>\n",
       "      <td>2268.899902</td>\n",
       "      <td>3.21761e+09</td>\n",
       "    </tr>\n",
       "    <tr>\n",
       "      <td>2017-01-10</td>\n",
       "      <td>2268.899902</td>\n",
       "      <td>3.63879e+09</td>\n",
       "    </tr>\n",
       "    <tr>\n",
       "      <td>2017-01-11</td>\n",
       "      <td>2275.320068</td>\n",
       "      <td>3.62041e+09</td>\n",
       "    </tr>\n",
       "    <tr>\n",
       "      <td>2017-01-12</td>\n",
       "      <td>2270.439941</td>\n",
       "      <td>3.46213e+09</td>\n",
       "    </tr>\n",
       "  </tbody>\n",
       "</table>\n",
       "</div>"
      ],
      "text/plain": [
       "              Adj Close       Volume\n",
       "2017-01-03  2257.830078  3.77053e+09\n",
       "2017-01-04  2270.750000  3.76489e+09\n",
       "2017-01-05  2269.000000  3.76182e+09\n",
       "2017-01-06  2276.979980  3.33989e+09\n",
       "2017-01-07          NaN       A LOT!\n",
       "2017-01-08          NaN          NaN\n",
       "2017-01-09  2268.899902  3.21761e+09\n",
       "2017-01-10  2268.899902  3.63879e+09\n",
       "2017-01-11  2275.320068  3.62041e+09\n",
       "2017-01-12  2270.439941  3.46213e+09"
      ]
     },
     "execution_count": 149,
     "metadata": {},
     "output_type": "execute_result"
    }
   ],
   "source": [
    "sp500_reindexed_df.head(10)"
   ]
  },
  {
   "cell_type": "markdown",
   "metadata": {},
   "source": [
    "Visualize the reindexed data to illustrate the gaps in the data."
   ]
  },
  {
   "cell_type": "code",
   "execution_count": 158,
   "metadata": {},
   "outputs": [
    {
     "data": {
      "text/plain": [
       "2020-01-01            NaN\n",
       "2020-01-02    3257.850098\n",
       "2020-01-03    3234.850098\n",
       "2020-01-04            NaN\n",
       "2020-01-05            NaN\n",
       "2020-01-06    3246.280029\n",
       "2020-01-07    3237.179932\n",
       "2020-01-08    3253.050049\n",
       "2020-01-09    3274.699951\n",
       "2020-01-10    3265.350098\n",
       "Freq: D, Name: Adj Close, dtype: float64"
      ]
     },
     "execution_count": 158,
     "metadata": {},
     "output_type": "execute_result"
    }
   ],
   "source": [
    "sp500_2020_close_s = sp500_reindexed_df.loc['2020-01-01':,'Adj Close']\n",
    "sp500_2020_close_s.head(10)"
   ]
  },
  {
   "cell_type": "code",
   "execution_count": 168,
   "metadata": {},
   "outputs": [
    {
     "data": {
      "text/plain": [
       "<matplotlib.axes._subplots.AxesSubplot at 0x7fc4a68bd4d0>"
      ]
     },
     "execution_count": 168,
     "metadata": {},
     "output_type": "execute_result"
    },
    {
     "data": {
      "image/png": "[encoded data removed]",
      "text/plain": [
       "<Figure size 432x288 with 1 Axes>"
      ]
     },
     "metadata": {
      "needs_background": "light"
     },
     "output_type": "display_data"
    }
   ],
   "source": [
    "sp500_2020_close_s.loc[:'2020-01-31'].plot()"
   ]
  },
  {
   "cell_type": "code",
   "execution_count": 166,
   "metadata": {},
   "outputs": [
    {
     "data": {
      "text/plain": [
       "<matplotlib.axes._subplots.AxesSubplot at 0x7fc4a6766690>"
      ]
     },
     "execution_count": 166,
     "metadata": {},
     "output_type": "execute_result"
    },
    {
     "data": {
      "image/png": "[encoded data removed]",
      "text/plain": [
       "<Figure size 432x288 with 1 Axes>"
      ]
     },
     "metadata": {
      "needs_background": "light"
     },
     "output_type": "display_data"
    }
   ],
   "source": [
    "sp500_2020_close_s.loc[:'2020-01-31'].fillna(method='ffill').plot()"
   ]
  },
  {
   "cell_type": "markdown",
   "metadata": {},
   "source": [
    "Experiment with pandas's [`.interpolate()`](https://pandas.pydata.org/pandas-docs/stable/reference/api/pandas.DataFrame.interpolate.html) method for filling these missing values."
   ]
  },
  {
   "cell_type": "code",
   "execution_count": 165,
   "metadata": {},
   "outputs": [
    {
     "data": {
      "text/plain": [
       "<matplotlib.axes._subplots.AxesSubplot at 0x7fc4a66201d0>"
      ]
     },
     "execution_count": 165,
     "metadata": {},
     "output_type": "execute_result"
    },
    {
     "data": {
      "image/png": "[encoded data removed]",
      "text/plain": [
       "<Figure size 432x288 with 1 Axes>"
      ]
     },
     "metadata": {
      "needs_background": "light"
     },
     "output_type": "display_data"
    }
   ],
   "source": [
    "sp500_2020_close_s.loc[:'2020-01-31'].interpolate().plot()"
   ]
  },
  {
   "cell_type": "markdown",
   "metadata": {},
   "source": [
    "Inspect a low-population state's flu death numbers from the CDC data."
   ]
  },
  {
   "cell_type": "code",
   "execution_count": 170,
   "metadata": {},
   "outputs": [
    {
     "data": {
      "text/plain": [
       "<matplotlib.axes._subplots.AxesSubplot at 0x7fc4a6a3b850>"
      ]
     },
     "execution_count": 170,
     "metadata": {},
     "output_type": "execute_result"
    },
    {
     "data": {
      "image/png": "[encoded data removed]",
      "text/plain": [
       "<Figure size 432x288 with 1 Axes>"
      ]
     },
     "metadata": {
      "needs_background": "light"
     },
     "output_type": "display_data"
    }
   ],
   "source": [
    "cdc_1420_flu_df['Colorado'].plot()"
   ]
  },
  {
   "cell_type": "code",
   "execution_count": 172,
   "metadata": {},
   "outputs": [
    {
     "data": {
      "text/plain": [
       "<matplotlib.axes._subplots.AxesSubplot at 0x7fc4a6b5fe90>"
      ]
     },
     "execution_count": 172,
     "metadata": {},
     "output_type": "execute_result"
    },
    {
     "data": {
      "image/png": "[encoded data removed]",
      "text/plain": [
       "<Figure size 432x288 with 1 Axes>"
      ]
     },
     "metadata": {
      "needs_background": "light"
     },
     "output_type": "display_data"
    }
   ],
   "source": [
    "cdc_1420_flu_df['Colorado'].fillna(method='ffill').plot()"
   ]
  },
  {
   "cell_type": "code",
   "execution_count": 173,
   "metadata": {},
   "outputs": [
    {
     "data": {
      "text/plain": [
       "<matplotlib.axes._subplots.AxesSubplot at 0x7fc4a6b03090>"
      ]
     },
     "execution_count": 173,
     "metadata": {},
     "output_type": "execute_result"
    },
    {
     "data": {
      "image/png": "[encoded data removed]",
      "text/plain": [
       "<Figure size 432x288 with 1 Axes>"
      ]
     },
     "metadata": {
      "needs_background": "light"
     },
     "output_type": "display_data"
    }
   ],
   "source": [
    "cdc_1420_flu_df['Colorado'].interpolate().plot()"
   ]
  },
  {
   "cell_type": "markdown",
   "metadata": {},
   "source": [
    "Experiment with `.interpolate()` for different strategies for filling these missing values."
   ]
  },
  {
   "cell_type": "code",
   "execution_count": null,
   "metadata": {},
   "outputs": [],
   "source": []
  },
  {
   "cell_type": "markdown",
   "metadata": {},
   "source": [
    "## Resampling\n",
    "\n",
    "Resampling is a powerful method changing the frequency in temporal data. If you data has short frequency like hourly, you can \"up-sample\" to longer frequencies like daily or weekly. You can also \"down-sample\" long frequency intervals to shorter frequencies: months to weeks, hours to minutes, *etc*. \n",
    "\n",
    "A lot of the intuitions you've started to develop with groupby-aggregation as well as with missing data can also be applied here:\n",
    "\n",
    "* **Up-sampling.** When you up-sample from short frequencies to longer frequencies (*e.g.*, hours to days), you are basically grouping multiple high-frequency values together to make a single lower-frequency value and need some kind of aggregation function (sum, mean, max, *etc*.). \n",
    "* **Down-sampling.** When you down-sample from long frequencies to shorter frequencies (*e.g.*, days to hours), you will have missing data and will need some kind of filling or interpolation/imputation strategy.\n",
    "\n",
    "Use [`.resample()`](https://pandas.pydata.org/pandas-docs/stable/reference/api/pandas.Series.resample.html) on the combined CDC data to up-sample from the weekly frequency to a monthly frequency."
   ]
  },
  {
   "cell_type": "code",
   "execution_count": 183,
   "metadata": {},
   "outputs": [
    {
     "data": {
      "text/plain": [
       "<matplotlib.axes._subplots.AxesSubplot at 0x7fc4a7758610>"
      ]
     },
     "execution_count": 183,
     "metadata": {},
     "output_type": "execute_result"
    },
    {
     "data": {
      "image/png": "[encoded data removed]",
      "text/plain": [
       "<Figure size 432x288 with 1 Axes>"
      ]
     },
     "metadata": {
      "needs_background": "light"
     },
     "output_type": "display_data"
    }
   ],
   "source": [
    "cdc_1420_flu_df['Colorado'].plot()"
   ]
  },
  {
   "cell_type": "code",
   "execution_count": 185,
   "metadata": {},
   "outputs": [
    {
     "data": {
      "text/plain": [
       "<matplotlib.axes._subplots.AxesSubplot at 0x7fc4a806e0d0>"
      ]
     },
     "execution_count": 185,
     "metadata": {},
     "output_type": "execute_result"
    },
    {
     "data": {
      "image/png": "[encoded data removed]",
      "text/plain": [
       "<Figure size 432x288 with 1 Axes>"
      ]
     },
     "metadata": {
      "needs_background": "light"
     },
     "output_type": "display_data"
    }
   ],
   "source": [
    "cdc_1420_flu_df['Colorado'].resample('').sum().plot()"
   ]
  },
  {
   "cell_type": "code",
   "execution_count": 192,
   "metadata": {},
   "outputs": [
    {
     "data": {
      "text/plain": [
       "<matplotlib.axes._subplots.AxesSubplot at 0x7fc4a873c250>"
      ]
     },
     "execution_count": 192,
     "metadata": {},
     "output_type": "execute_result"
    },
    {
     "data": {
      "image/png": "[encoded data removed]",
      "text/plain": [
       "<Figure size 432x288 with 1 Axes>"
      ]
     },
     "metadata": {
      "needs_background": "light"
     },
     "output_type": "display_data"
    }
   ],
   "source": [
    "cdc_1420_flu_df['Colorado'].resample('1D').sum().plot()"
   ]
  },
  {
   "cell_type": "markdown",
   "metadata": {},
   "source": [
    "Use the `get_pageviews` function to get the English Wikipedia pageview data for the \"Influenza\" article back to July 2015."
   ]
  },
  {
   "cell_type": "code",
   "execution_count": 193,
   "metadata": {},
   "outputs": [
    {
     "data": {
      "text/plain": [
       "timestamp\n",
       "2015-07-01    2602\n",
       "2015-07-02    2405\n",
       "2015-07-03    2127\n",
       "2015-07-04    1882\n",
       "2015-07-05    2551\n",
       "Name: views, dtype: int64"
      ]
     },
     "execution_count": 193,
     "metadata": {},
     "output_type": "execute_result"
    }
   ],
   "source": [
    "wiki_flu_pvs = get_pageviews('Influenza')\n",
    "wiki_flu_pvs.head()"
   ]
  },
  {
   "cell_type": "code",
   "execution_count": 194,
   "metadata": {},
   "outputs": [
    {
     "data": {
      "text/plain": [
       "<matplotlib.axes._subplots.AxesSubplot at 0x7fc4a9150c50>"
      ]
     },
     "execution_count": 194,
     "metadata": {},
     "output_type": "execute_result"
    },
    {
     "data": {
      "image/png": "[encoded data removed]",
      "text/plain": [
       "<Figure size 432x288 with 1 Axes>"
      ]
     },
     "metadata": {
      "needs_background": "light"
     },
     "output_type": "display_data"
    }
   ],
   "source": [
    "wiki_flu_pvs.plot()"
   ]
  },
  {
   "cell_type": "markdown",
   "metadata": {},
   "source": [
    "Use `.resample()` on the Wikipedia pageview data to turn it into a weekly frequency like the CDC data."
   ]
  },
  {
   "cell_type": "code",
   "execution_count": 216,
   "metadata": {},
   "outputs": [
    {
     "data": {
      "text/plain": [
       "timestamp\n",
       "2015-07-04     9016\n",
       "2015-07-11    17601\n",
       "2015-07-18    15974\n",
       "2015-07-25    16455\n",
       "2015-08-01    17223\n",
       "              ...  \n",
       "2020-09-05    20256\n",
       "2020-09-12    21713\n",
       "2020-09-19    23053\n",
       "2020-09-26    25773\n",
       "2020-10-03    11456\n",
       "Freq: W-SAT, Name: views, Length: 275, dtype: int64"
      ]
     },
     "execution_count": 216,
     "metadata": {},
     "output_type": "execute_result"
    }
   ],
   "source": [
    "wiki_flu_pvs_weekly = wiki_flu_pvs.resample('W-SAT').sum()\n",
    "wiki_flu_pvs_weekly"
   ]
  },
  {
   "cell_type": "markdown",
   "metadata": {},
   "source": [
    "Use `.resample()` on the CDC data to \"down-sample\" and turn it into a daily frequency like the Wikipedia data. Use some kind of interpolation method to fill in the missing data."
   ]
  },
  {
   "cell_type": "code",
   "execution_count": 217,
   "metadata": {},
   "outputs": [
    {
     "data": {
      "text/plain": [
       "Week Ending Date\n",
       "2014-01-04     825.0\n",
       "2014-01-11    1784.0\n",
       "2014-01-18    1817.0\n",
       "2014-01-25    1668.0\n",
       "2014-02-01    1537.0\n",
       "               ...  \n",
       "2020-07-18     610.0\n",
       "2020-07-25     604.0\n",
       "2020-08-01     566.0\n",
       "2020-08-08     503.0\n",
       "2020-08-15     352.0\n",
       "Length: 346, dtype: float64"
      ]
     },
     "execution_count": 217,
     "metadata": {},
     "output_type": "execute_result"
    }
   ],
   "source": [
    "total_flu = cdc_1420_flu_df.sum(1)\n",
    "total_flu"
   ]
  },
  {
   "cell_type": "code",
   "execution_count": 220,
   "metadata": {},
   "outputs": [
    {
     "data": {
      "text/plain": [
       "5"
      ]
     },
     "execution_count": 220,
     "metadata": {},
     "output_type": "execute_result"
    }
   ],
   "source": [
    "total_flu.index[0].weekday()"
   ]
  },
  {
   "cell_type": "code",
   "execution_count": 223,
   "metadata": {},
   "outputs": [
    {
     "data": {
      "text/plain": [
       "timestamp\n",
       "2015-07-04    693.0\n",
       "2015-07-11    712.0\n",
       "2015-07-18    706.0\n",
       "2015-07-25    629.0\n",
       "2015-08-01    575.0\n",
       "              ...  \n",
       "2020-09-05      NaN\n",
       "2020-09-12      NaN\n",
       "2020-09-19      NaN\n",
       "2020-09-26      NaN\n",
       "2020-10-03      NaN\n",
       "Freq: W-SAT, Length: 275, dtype: float64"
      ]
     },
     "execution_count": 223,
     "metadata": {},
     "output_type": "execute_result"
    }
   ],
   "source": [
    "total_flu.reindex(wiki_flu_pvs_weekly.index)"
   ]
  },
  {
   "cell_type": "code",
   "execution_count": 226,
   "metadata": {},
   "outputs": [
    {
     "data": {
      "text/html": [
       "<div>\n",
       "<style scoped>\n",
       "    .dataframe tbody tr th:only-of-type {\n",
       "        vertical-align: middle;\n",
       "    }\n",
       "\n",
       "    .dataframe tbody tr th {\n",
       "        vertical-align: top;\n",
       "    }\n",
       "\n",
       "    .dataframe thead th {\n",
       "        text-align: right;\n",
       "    }\n",
       "</style>\n",
       "<table border=\"1\" class=\"dataframe\">\n",
       "  <thead>\n",
       "    <tr style=\"text-align: right;\">\n",
       "      <th></th>\n",
       "      <th>Wikipedia</th>\n",
       "      <th>CDC</th>\n",
       "    </tr>\n",
       "    <tr>\n",
       "      <th>timestamp</th>\n",
       "      <th></th>\n",
       "      <th></th>\n",
       "    </tr>\n",
       "  </thead>\n",
       "  <tbody>\n",
       "    <tr>\n",
       "      <td>2015-07-04</td>\n",
       "      <td>9016</td>\n",
       "      <td>693.0</td>\n",
       "    </tr>\n",
       "    <tr>\n",
       "      <td>2015-07-11</td>\n",
       "      <td>17601</td>\n",
       "      <td>712.0</td>\n",
       "    </tr>\n",
       "    <tr>\n",
       "      <td>2015-07-18</td>\n",
       "      <td>15974</td>\n",
       "      <td>706.0</td>\n",
       "    </tr>\n",
       "    <tr>\n",
       "      <td>2015-07-25</td>\n",
       "      <td>16455</td>\n",
       "      <td>629.0</td>\n",
       "    </tr>\n",
       "    <tr>\n",
       "      <td>2015-08-01</td>\n",
       "      <td>17223</td>\n",
       "      <td>575.0</td>\n",
       "    </tr>\n",
       "    <tr>\n",
       "      <td>...</td>\n",
       "      <td>...</td>\n",
       "      <td>...</td>\n",
       "    </tr>\n",
       "    <tr>\n",
       "      <td>2020-09-05</td>\n",
       "      <td>20256</td>\n",
       "      <td>NaN</td>\n",
       "    </tr>\n",
       "    <tr>\n",
       "      <td>2020-09-12</td>\n",
       "      <td>21713</td>\n",
       "      <td>NaN</td>\n",
       "    </tr>\n",
       "    <tr>\n",
       "      <td>2020-09-19</td>\n",
       "      <td>23053</td>\n",
       "      <td>NaN</td>\n",
       "    </tr>\n",
       "    <tr>\n",
       "      <td>2020-09-26</td>\n",
       "      <td>25773</td>\n",
       "      <td>NaN</td>\n",
       "    </tr>\n",
       "    <tr>\n",
       "      <td>2020-10-03</td>\n",
       "      <td>11456</td>\n",
       "      <td>NaN</td>\n",
       "    </tr>\n",
       "  </tbody>\n",
       "</table>\n",
       "<p>275 rows × 2 columns</p>\n",
       "</div>"
      ],
      "text/plain": [
       "            Wikipedia    CDC\n",
       "timestamp                   \n",
       "2015-07-04       9016  693.0\n",
       "2015-07-11      17601  712.0\n",
       "2015-07-18      15974  706.0\n",
       "2015-07-25      16455  629.0\n",
       "2015-08-01      17223  575.0\n",
       "...               ...    ...\n",
       "2020-09-05      20256    NaN\n",
       "2020-09-12      21713    NaN\n",
       "2020-09-19      23053    NaN\n",
       "2020-09-26      25773    NaN\n",
       "2020-10-03      11456    NaN\n",
       "\n",
       "[275 rows x 2 columns]"
      ]
     },
     "execution_count": 226,
     "metadata": {},
     "output_type": "execute_result"
    }
   ],
   "source": [
    "flu_df = pd.DataFrame({'Wikipedia':wiki_flu_pvs_weekly,\n",
    "                       'CDC':total_flu.reindex(wiki_flu_pvs_weekly.index)\n",
    "                      })\n",
    "\n",
    "flu_df"
   ]
  },
  {
   "cell_type": "markdown",
   "metadata": {},
   "source": [
    "Plot the weekly-level CDC and Wikipedia data influenza together. Interpret."
   ]
  },
  {
   "cell_type": "code",
   "execution_count": 230,
   "metadata": {},
   "outputs": [
    {
     "data": {
      "text/plain": [
       "<matplotlib.axes._subplots.AxesSubplot at 0x7fc4aa635e10>"
      ]
     },
     "execution_count": 230,
     "metadata": {},
     "output_type": "execute_result"
    },
    {
     "data": {
      "image/png": "[encoded data removed]",
      "text/plain": [
       "<Figure size 432x288 with 2 Axes>"
      ]
     },
     "metadata": {
      "needs_background": "light"
     },
     "output_type": "display_data"
    }
   ],
   "source": [
    "flu_df.plot(secondary_y='CDC')"
   ]
  },
  {
   "cell_type": "markdown",
   "metadata": {},
   "source": [
    "Plot the daily-level interpolated CDC and Wikipedia influenza data together. Interpret."
   ]
  },
  {
   "cell_type": "code",
   "execution_count": null,
   "metadata": {},
   "outputs": [],
   "source": []
  }
 ],
 "metadata": {
  "kernelspec": {
   "display_name": "Python 3 (ipykernel)",
   "language": "python",
   "name": "python3"
  },
  "language_info": {
   "codemirror_mode": {
    "name": "ipython",
    "version": 3
   },
   "file_extension": ".py",
   "mimetype": "text/x-python",
   "name": "python",
   "nbconvert_exporter": "python",
   "pygments_lexer": "ipython3",
   "version": "3.9.10"
  }
 },
 "nbformat": 4,
 "nbformat_minor": 4
}
