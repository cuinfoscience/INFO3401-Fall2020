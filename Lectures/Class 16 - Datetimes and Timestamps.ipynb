{
 "cells": [
  {
   "cell_type": "markdown",
   "metadata": {},
   "source": [
    "# INFO 3401 – Class 16: Datetimes and Timestamps\n",
    "\n",
    "[Brian C. Keegan, Ph.D.](http://brianckeegan.com/)  \n",
    "[Assistant Professor, Department of Information Science](https://www.colorado.edu/cmci/people/information-science/brian-c-keegan)  \n",
    "University of Colorado Boulder  \n",
    "\n",
    "Copyright and distributed under an [MIT License](https://opensource.org/licenses/MIT).\n",
    "\n",
    "## Learning Objectives\n",
    "* Understanding how Python represents time using temporal objects in `datetime` and `pandas`\n",
    "* Accessing and manipulating attributes of temporal objects\n",
    "* Coverting data between strings and temporal objects\n",
    "* Working in pandas with temporal objects\n",
    "\n",
    "## Background\n",
    "\n",
    "Much of the data we have worked with so far has been categorical and cross-sectional, but many of you have likely started to encounter examples of temporal data: observations that also include timestamps. Working with temporal data brings a host of challenges since dates and times can be so irregular: 60 seconds within 60 minutes within 24-hour days within 7-day weeks within 28, 29, 30, or 31-day months; time elapsed; time zones; and more! Working with temporal data is a common problem so there are powerful libraries, functions, methods, and attributes within Python to help you.\n",
    "\n",
    "* **Class 16 (Mon)**: Fundamental of basic temporal objects in `datetime` and `pandas`  \n",
    "* **Class 17 (Wed)**: Resampling and handling missing temporal data  \n",
    "* **Class 18 (Fri)**: Temporal patterns and autocorrelation  "
   ]
  },
  {
   "cell_type": "markdown",
   "metadata": {},
   "source": [
    "## `datetime` library\n",
    "\n",
    "A \"classic\" joke among Python programmers is the very justifiable confusion between the [datetime object](https://docs.python.org/3/library/datetime.html#datetime-objects) within the [datetime module](https://docs.python.org/3/library/datetime.html).\n",
    "\n",
    "<div>\n",
    "<img src=\"https://external-preview.redd.it/zvDEM_ZO9yMYRHFvy4oPndpSxuBhQnUucQUASB3foOc.png?auto=webp&s=0287e0eeff39d34a6202f2ba22e733a553b38a8b\" width=\"400\"/>\n",
    "</div>\n",
    "\n",
    "<div>\n",
    "<img src=\"https://i.redd.it/j4hy36mdzmn31.png\" width=\"400\"/>\n",
    "</div>\n",
    "\n",
    "<div>\n",
    "<img src=\"https://memegenerator.net/img/instances/55315123/say-datetime-one-more-time.jpg\" width=\"400\"/>\n",
    "</div>\n",
    "\n",
    "\n",
    "Time and dates are confusing to work with, so let's take a moment to embrace the confusion and commit to working through them together.\n",
    "\n",
    "* **`datetime`** objects contain both time and date information (year, month, day, hour, minute, second, microseconds)\n",
    "* **`date`** objects contain only date information (year, month, day)\n",
    "* **`time`** objects contain only time information (hour, minute, second, microseconds)\n",
    "\n",
    "There are some additional classes within the datetime library that can also be helpful in various applications.\n",
    "\n",
    "* **`timedelta`** is a measure of duration or difference between two dates/times/datetimes\n",
    "* **`tzinfo`** is for handling time zone information."
   ]
  },
  {
   "cell_type": "code",
   "execution_count": 1,
   "metadata": {},
   "outputs": [],
   "source": [
    "import datetime"
   ]
  },
  {
   "cell_type": "markdown",
   "metadata": {},
   "source": [
    "### `datetime` attributes and methods\n",
    "\n",
    "`.now()` can get the time right now."
   ]
  },
  {
   "cell_type": "code",
   "execution_count": 2,
   "metadata": {},
   "outputs": [
    {
     "data": {
      "text/plain": [
       "datetime.timedelta(days=1)"
      ]
     },
     "execution_count": 2,
     "metadata": {},
     "output_type": "execute_result"
    }
   ],
   "source": [
    "datetime.datetime(2020,10,2,11,0,0) - datetime.datetime(2020,10,1,11,0,0)"
   ]
  },
  {
   "cell_type": "code",
   "execution_count": 4,
   "metadata": {},
   "outputs": [
    {
     "data": {
      "text/plain": [
       "datetime.datetime(2020, 9, 25, 16, 9, 10, 280234)"
      ]
     },
     "execution_count": 4,
     "metadata": {},
     "output_type": "execute_result"
    }
   ],
   "source": [
    "now = datetime.datetime.now()\n",
    "now"
   ]
  },
  {
   "cell_type": "markdown",
   "metadata": {},
   "source": [
    "There's also a `.utcnow()` that gets the \"[coordinated universal time](https://en.wikipedia.org/wiki/Coordinated_Universal_Time)\" time (basically, the time at 0° longitude in London) rather than my system's current time."
   ]
  },
  {
   "cell_type": "code",
   "execution_count": 5,
   "metadata": {},
   "outputs": [
    {
     "data": {
      "text/plain": [
       "datetime.datetime(2020, 9, 25, 22, 9, 53, 595904)"
      ]
     },
     "execution_count": 5,
     "metadata": {},
     "output_type": "execute_result"
    }
   ],
   "source": [
    "utc = datetime.datetime.utcnow()\n",
    "utc"
   ]
  },
  {
   "cell_type": "markdown",
   "metadata": {},
   "source": [
    "Make a `datetime` object for your birthday."
   ]
  },
  {
   "cell_type": "code",
   "execution_count": 6,
   "metadata": {},
   "outputs": [
    {
     "data": {
      "text/plain": [
       "datetime.datetime(1984, 2, 13, 7, 0)"
      ]
     },
     "execution_count": 6,
     "metadata": {},
     "output_type": "execute_result"
    }
   ],
   "source": [
    "birthday = datetime.datetime(1984,2,13,7,0)\n",
    "birthday"
   ]
  },
  {
   "cell_type": "markdown",
   "metadata": {},
   "source": [
    "Note what happens when you try to pass a string to `datetime.datetime`. We will discuss how to move between strings and `datetime` using `strptime` below."
   ]
  },
  {
   "cell_type": "code",
   "execution_count": 7,
   "metadata": {},
   "outputs": [
    {
     "ename": "TypeError",
     "evalue": "an integer is required (got type str)",
     "output_type": "error",
     "traceback": [
      "\u001b[0;31m---------------------------------------------------------------------------\u001b[0m",
      "\u001b[0;31mTypeError\u001b[0m                                 Traceback (most recent call last)",
      "\u001b[0;32m<ipython-input-7-37f741d00cfe>\u001b[0m in \u001b[0;36m<module>\u001b[0;34m\u001b[0m\n\u001b[0;32m----> 1\u001b[0;31m \u001b[0mdatetime\u001b[0m\u001b[0;34m.\u001b[0m\u001b[0mdatetime\u001b[0m\u001b[0;34m(\u001b[0m\u001b[0;34m'2020-09-25'\u001b[0m\u001b[0;34m)\u001b[0m\u001b[0;34m\u001b[0m\u001b[0;34m\u001b[0m\u001b[0m\n\u001b[0m",
      "\u001b[0;31mTypeError\u001b[0m: an integer is required (got type str)"
     ]
    }
   ],
   "source": [
    "datetime.datetime('2020-09-25')"
   ]
  },
  {
   "cell_type": "markdown",
   "metadata": {},
   "source": [
    "There are a variety of attributes and methods we can call on a datetime object to extract relevant information.\n",
    "\n",
    "Methods for converting from `datetime` objects to `date` or `time` objects."
   ]
  },
  {
   "cell_type": "code",
   "execution_count": 10,
   "metadata": {},
   "outputs": [
    {
     "data": {
      "text/plain": [
       "datetime.date(2020, 9, 25)"
      ]
     },
     "execution_count": 10,
     "metadata": {},
     "output_type": "execute_result"
    }
   ],
   "source": [
    "now.date()"
   ]
  },
  {
   "cell_type": "code",
   "execution_count": 11,
   "metadata": {},
   "outputs": [
    {
     "data": {
      "text/plain": [
       "datetime.time(16, 9, 10, 280234)"
      ]
     },
     "execution_count": 11,
     "metadata": {},
     "output_type": "execute_result"
    }
   ],
   "source": [
    "now.time()"
   ]
  },
  {
   "cell_type": "markdown",
   "metadata": {},
   "source": [
    "Attributes of a `date`, `time`, or `datetime` object:\n",
    "* **`.year`**\n",
    "* **`.month`**\n",
    "* **`.day`**\n",
    "* **`.hour`**\n",
    "* **`.minute`**\n",
    "* **`.second`**\n",
    "* **`.year`**"
   ]
  },
  {
   "cell_type": "code",
   "execution_count": 15,
   "metadata": {},
   "outputs": [
    {
     "data": {
      "text/plain": [
       "(16, 9, 10)"
      ]
     },
     "execution_count": 15,
     "metadata": {},
     "output_type": "execute_result"
    }
   ],
   "source": [
    "now.hour, now.minute, now.second"
   ]
  },
  {
   "cell_type": "markdown",
   "metadata": {},
   "source": [
    "There are some other conversion methods that are powerful:\n",
    "\n",
    "* **`.weekday()`**\n",
    "* **`.isoweekday()`**\n",
    "* **`.isoformat()`**"
   ]
  },
  {
   "cell_type": "code",
   "execution_count": 18,
   "metadata": {},
   "outputs": [
    {
     "data": {
      "text/plain": [
       "'2020-09-25T16:09:10.280234'"
      ]
     },
     "execution_count": 18,
     "metadata": {},
     "output_type": "execute_result"
    }
   ],
   "source": [
    "now.isoformat()"
   ]
  },
  {
   "cell_type": "markdown",
   "metadata": {},
   "source": [
    "### `strftime` vs. `strptime`\n",
    "\n",
    "Dates and times are often stored as strings like \"2020-07-04\" or \"07\\04\\2020\" to represent July 4, 2020 in the U.S. or April 7, 2020 in Europe (see? dates and times can be really frustrating!): [Date format by country](https://en.wikipedia.org/wiki/Date_format_by_country).\n",
    "\n",
    "If you want to convert a string to a datetime object, you use `strptime`. If you want to convert a datetime object to a string, you use `strftime`. These use a common \"grammar\" for representing temporal elements (years, months, days, hours, minutes, seconds, weekdays, *etc.*): [strftime and strptime Behavior](https://docs.python.org/3/library/datetime.html#strftime-and-strptime-behavior) Some of the most common elements of this format:\n",
    "\n",
    "* `%A` - Weekday full name\n",
    "* `%d` - Day of the month number as a zero-padded decimal\n",
    "* `%B` - Month full name\n",
    "* `%m` - Month number as a zero-padded decimal\n",
    "* `%Y` - Year with century (typically four digits)\n",
    "* `%H` - 24-hour clock hour as a zero-padded decimal\n",
    "* `%M` - Minute as a zero-padded decimal\n",
    "* `%S` - Second as a zero-padded decimal\n",
    "\n",
    "There are others like day of the year, week of the year, timezones, *etc*.\n",
    "\n",
    "Convert a datetime into a string using `strftime(format)`."
   ]
  },
  {
   "cell_type": "code",
   "execution_count": 29,
   "metadata": {},
   "outputs": [
    {
     "data": {
      "text/plain": [
       "'Saturday! July 04, 2020'"
      ]
     },
     "execution_count": 29,
     "metadata": {},
     "output_type": "execute_result"
    }
   ],
   "source": [
    "datetime.datetime(2020,7,4).strftime('%A! %B %d, %Y')"
   ]
  },
  {
   "cell_type": "markdown",
   "metadata": {},
   "source": [
    "Convert a string into a datetime using `strptime(date_string, format)`."
   ]
  },
  {
   "cell_type": "code",
   "execution_count": 41,
   "metadata": {},
   "outputs": [
    {
     "data": {
      "text/plain": [
       "datetime.datetime(2020, 9, 25, 4, 10)"
      ]
     },
     "execution_count": 41,
     "metadata": {},
     "output_type": "execute_result"
    }
   ],
   "source": [
    "str_time = datetime.datetime.strptime('Friday, September 25, 2020 4:10 pm', '%A, %B %d, %Y %H:%M %p')\n",
    "str_time"
   ]
  },
  {
   "cell_type": "markdown",
   "metadata": {},
   "source": [
    "### Unix timestamps\n",
    "\n",
    "Sometimes computer scientists represent time as the number of seconds elapsed since midnight on January 1, 1970. That moment was second 0 and every second since then is incremented. This is popularly known as \"[Unix time](https://en.wikipedia.org/wiki/Unix_time)\" or the \"Unix epoch\". \n",
    "\n",
    "Many of you are too young to remember the panic around the [Y2K problem](https://en.wikipedia.org/wiki/Year_2000_problem) when computers that represented time as a two digit number made 2000 indistinguishable from 1900. But there's a much bigger problem known as the [Year 2038 problem](https://en.wikipedia.org/wiki/Year_2038_problem) when 32-bit computing systems that keep track of time using Unix timestamps will similarly be confused on January 19, 2038 whether it is 1901, 1970, or 2038. 32-bit systems can't store numbers larger than $2^{31} - 1$ or 2,147,483,647. The date  2,147,483,647 seconds after January 1, 1970 is January 19, 2038 at 3:14:07 UTC. Mark that date in your calendars when a lot of basic social and technical infrastructure relying on any kind of computing devices is at risk of failure.\n",
    "\n",
    "<div>\n",
    "<img src=\"https://imageproxy.ifunny.co/crop:x-20,resize:320x,crop:x800,quality:90x75/images/4810476c0d383f6210bb02cb8e26eafbfd0803104b91da23abae4446d31ada53_1.jpg\" width=\"400\"/>\n",
    "</div>\n",
    "\n",
    "You can convert a `datetime` object into its Unix time with `.timestamp()` method."
   ]
  },
  {
   "cell_type": "code",
   "execution_count": 43,
   "metadata": {},
   "outputs": [
    {
     "data": {
      "text/plain": [
       "1601071750.280234"
      ]
     },
     "execution_count": 43,
     "metadata": {},
     "output_type": "execute_result"
    }
   ],
   "source": [
    "now.timestamp()"
   ]
  },
  {
   "cell_type": "markdown",
   "metadata": {},
   "source": [
    "You can also convert from Unix timestamps you encounter in the wild to datetime objects with the `fromtimestamp` method."
   ]
  },
  {
   "cell_type": "code",
   "execution_count": 48,
   "metadata": {},
   "outputs": [
    {
     "data": {
      "text/plain": [
       "datetime.datetime(1973, 7, 9, 18, 11, 51)"
      ]
     },
     "execution_count": 48,
     "metadata": {},
     "output_type": "execute_result"
    }
   ],
   "source": [
    "datetime.datetime.fromtimestamp(111111111)"
   ]
  },
  {
   "cell_type": "markdown",
   "metadata": {},
   "source": [
    "What happens to your computer when you call `timestamp()` on a `datetime` from January 20, 2038?"
   ]
  },
  {
   "cell_type": "code",
   "execution_count": 52,
   "metadata": {},
   "outputs": [
    {
     "data": {
      "text/plain": [
       "2147583600.0"
      ]
     },
     "execution_count": 52,
     "metadata": {},
     "output_type": "execute_result"
    }
   ],
   "source": [
    "datetime.datetime(2038,1,20).timestamp()"
   ]
  },
  {
   "cell_type": "markdown",
   "metadata": {},
   "source": [
    "### `timedelta`\n",
    "\n",
    "We can also do operations on `datetime` objects, like computing the amount of time between two datetimes."
   ]
  },
  {
   "cell_type": "code",
   "execution_count": 56,
   "metadata": {},
   "outputs": [
    {
     "data": {
      "text/plain": [
       "datetime.datetime(2020, 9, 25, 16, 9, 10, 280234)"
      ]
     },
     "execution_count": 56,
     "metadata": {},
     "output_type": "execute_result"
    }
   ],
   "source": [
    "now"
   ]
  },
  {
   "cell_type": "code",
   "execution_count": 57,
   "metadata": {},
   "outputs": [
    {
     "data": {
      "text/plain": [
       "datetime.datetime(1984, 2, 13, 7, 0)"
      ]
     },
     "execution_count": 57,
     "metadata": {},
     "output_type": "execute_result"
    }
   ],
   "source": [
    "birthday"
   ]
  },
  {
   "cell_type": "code",
   "execution_count": 58,
   "metadata": {},
   "outputs": [
    {
     "data": {
      "text/plain": [
       "datetime.timedelta(days=13374, seconds=32950, microseconds=280234)"
      ]
     },
     "execution_count": 58,
     "metadata": {},
     "output_type": "execute_result"
    }
   ],
   "source": [
    "now - birthday"
   ]
  },
  {
   "cell_type": "markdown",
   "metadata": {},
   "source": [
    "You can also use a `timedelta` to perform operations on a `datetime` object."
   ]
  },
  {
   "cell_type": "code",
   "execution_count": 76,
   "metadata": {},
   "outputs": [
    {
     "data": {
      "text/plain": [
       "datetime.datetime(1983, 5, 9, 7, 0)"
      ]
     },
     "execution_count": 76,
     "metadata": {},
     "output_type": "execute_result"
    }
   ],
   "source": [
    "birthday - datetime.timedelta(weeks=40)"
   ]
  },
  {
   "cell_type": "markdown",
   "metadata": {},
   "source": [
    "Finally, you can convert `timedelta` objects into simpler `float` or `int` objects."
   ]
  },
  {
   "cell_type": "code",
   "execution_count": 77,
   "metadata": {},
   "outputs": [
    {
     "data": {
      "text/plain": [
       "19259109.171337232"
      ]
     },
     "execution_count": 77,
     "metadata": {},
     "output_type": "execute_result"
    }
   ],
   "source": [
    "(now - birthday)/datetime.timedelta(seconds=60)"
   ]
  },
  {
   "cell_type": "markdown",
   "metadata": {},
   "source": [
    "## Dates and time in `pandas`\n",
    "\n",
    "pandas has its own type of object called a [`Timestamp`](https://pandas.pydata.org/pandas-docs/stable/reference/api/pandas.Timestamp.html) for representing time, dates, and datetimes that is distinct from `datetime`. There are good reasons for pandas to have its own representation, but it can definitely be frustrating and annoying having to juggle two distinct, sometimes compatible, and sometimes incompatible representations of dates and times within Python."
   ]
  },
  {
   "cell_type": "code",
   "execution_count": 156,
   "metadata": {},
   "outputs": [],
   "source": [
    "import pandas as pd\n",
    "\n",
    "%matplotlib inline\n",
    "import matplotlib.pyplot as plt"
   ]
  },
  {
   "cell_type": "markdown",
   "metadata": {},
   "source": [
    "### `Timestamp`\n",
    "\n",
    "One of the biggest and most powerful differences between datetime's `datetime` and panda's `Timestamp` is that `Timestamp` will automatically recognize and convert strings to `Timestamp`s without needing you to use the gnarly `strftime`/`strptime` syntax. \n",
    "\n",
    "Note that pandas's `Timestamp` is very, *very*, **very** different from the Unix time `.timestamp()` method in `datetime`.\n",
    "\n",
    "Make a `Timestamp` object for today."
   ]
  },
  {
   "cell_type": "code",
   "execution_count": 83,
   "metadata": {},
   "outputs": [
    {
     "data": {
      "text/plain": [
       "Timestamp('2020-09-25 16:10:00')"
      ]
     },
     "execution_count": 83,
     "metadata": {},
     "output_type": "execute_result"
    }
   ],
   "source": [
    "ts_now = pd.Timestamp('2020-09-25 16:10')\n",
    "ts_now"
   ]
  },
  {
   "cell_type": "markdown",
   "metadata": {},
   "source": [
    "Make a `Timestamp` for your birthday."
   ]
  },
  {
   "cell_type": "code",
   "execution_count": 84,
   "metadata": {},
   "outputs": [
    {
     "data": {
      "text/plain": [
       "Timestamp('1984-02-13 07:00:00')"
      ]
     },
     "execution_count": 84,
     "metadata": {},
     "output_type": "execute_result"
    }
   ],
   "source": []
  },
  {
   "cell_type": "markdown",
   "metadata": {},
   "source": [
    "Pass a `datetime` object to `Timestamp`."
   ]
  },
  {
   "cell_type": "code",
   "execution_count": null,
   "metadata": {},
   "outputs": [],
   "source": [
    "ts_birthday = pd.Timestamp(birthday)\n",
    "ts_birthday"
   ]
  },
  {
   "cell_type": "markdown",
   "metadata": {},
   "source": [
    "Pass a UNIX timestamp to `Timestamp`."
   ]
  },
  {
   "cell_type": "code",
   "execution_count": 89,
   "metadata": {},
   "outputs": [
    {
     "data": {
      "text/plain": [
       "Timestamp('2005-03-18 01:58:31')"
      ]
     },
     "execution_count": 89,
     "metadata": {},
     "output_type": "execute_result"
    }
   ],
   "source": [
    "ts_unix = pd.Timestamp(1111111111,unit='s')\n",
    "ts_unix"
   ]
  },
  {
   "cell_type": "code",
   "execution_count": 92,
   "metadata": {},
   "outputs": [
    {
     "data": {
      "text/plain": [
       "pandas._libs.tslibs.timestamps.Timestamp"
      ]
     },
     "execution_count": 92,
     "metadata": {},
     "output_type": "execute_result"
    }
   ],
   "source": [
    "type(ts_birthday)"
   ]
  },
  {
   "cell_type": "code",
   "execution_count": 91,
   "metadata": {},
   "outputs": [
    {
     "data": {
      "text/plain": [
       "datetime.datetime"
      ]
     },
     "execution_count": 91,
     "metadata": {},
     "output_type": "execute_result"
    }
   ],
   "source": [
    "type(birthday)"
   ]
  },
  {
   "cell_type": "markdown",
   "metadata": {},
   "source": [
    "### New attributes and methods\n",
    "\n",
    "pandas's `Timestamp` objects have many of the same attributes and methods found for `datetime` objects but they also have some [additional attributes and methods](https://pandas.pydata.org/pandas-docs/stable/reference/api/pandas.Timestamp.html) (look in menu on left). I haven't used these often in practice, but they must be useful for enough people.\n",
    "\n",
    "* ``.quarter`` - What quarter of the year a date is in\n",
    "* ``.is_leap_year`` - Boolean for whether the current year is a leap year\n",
    "* ``.to_pydatetime()`` - convert a Timestamp to a datetime\n",
    "\n",
    "Experiment to see which of the `datetime` methods and attributes (from above) also work on `Timestamp` objects."
   ]
  },
  {
   "cell_type": "code",
   "execution_count": 98,
   "metadata": {},
   "outputs": [
    {
     "data": {
      "text/plain": [
       "datetime.datetime(1984, 2, 13, 7, 0)"
      ]
     },
     "execution_count": 98,
     "metadata": {},
     "output_type": "execute_result"
    }
   ],
   "source": [
    "ts_birthday.to_pydatetime()"
   ]
  },
  {
   "cell_type": "markdown",
   "metadata": {},
   "source": [
    "Try out some of the `Timestamp`-specific attributes and methods."
   ]
  },
  {
   "cell_type": "code",
   "execution_count": null,
   "metadata": {},
   "outputs": [],
   "source": []
  },
  {
   "cell_type": "markdown",
   "metadata": {},
   "source": [
    "### to_datetime\n",
    "\n",
    "Just like pandas's `Timestamp` can auto-magically convert all different kinds of date and time representations to a consistent representation, the `to_datetime()` function can take an array of misshapen and inconsistently typed objects that look like dates and convert them into an array of Timestamps.\n",
    "\n",
    "Make an array with different representations of dates and see what `to_datetime` does with them."
   ]
  },
  {
   "cell_type": "code",
   "execution_count": 99,
   "metadata": {},
   "outputs": [
    {
     "data": {
      "text/plain": [
       "['July 4, 2020',\n",
       " '9/11/01',\n",
       " datetime.datetime(1984, 2, 13, 7, 0),\n",
       " datetime.date(2006, 6, 6)]"
      ]
     },
     "execution_count": 99,
     "metadata": {},
     "output_type": "execute_result"
    }
   ],
   "source": [
    "misshapen_data = ['July 4, 2020','9/11/01',datetime.datetime(1984,2,13,7),datetime.date(2006,6,6)]\n",
    "misshapen_data"
   ]
  },
  {
   "cell_type": "code",
   "execution_count": 100,
   "metadata": {},
   "outputs": [
    {
     "data": {
      "text/plain": [
       "DatetimeIndex(['2020-07-04 00:00:00', '2001-09-11 00:00:00',\n",
       "               '1984-02-13 07:00:00', '2006-06-06 00:00:00'],\n",
       "              dtype='datetime64[ns]', freq=None)"
      ]
     },
     "execution_count": 100,
     "metadata": {},
     "output_type": "execute_result"
    }
   ],
   "source": [
    "pd.to_datetime(misshapen_data)"
   ]
  },
  {
   "cell_type": "markdown",
   "metadata": {},
   "source": [
    "If you read in a CSV file that has datetime information represented as strings, you have at least two options for converting those string representations into `Timestamp` objections.\n",
    "\n",
    "The first option is to pass the column names to the \"parse_dates\" option within [`read_csv`](https://pandas.pydata.org/pandas-docs/stable/reference/api/pandas.read_csv.html) (or [`read_excel`](https://pandas.pydata.org/pandas-docs/stable/reference/api/pandas.read_excel.html), [`read_sql`](https://pandas.pydata.org/pandas-docs/stable/reference/api/pandas.read_sql.html), *etc*.).\n",
    "\n",
    "Download the \"sp500_close_volume.csv\" file from Canvas to the folder where this notebook is running and read it into this notebook as  `sp500_df` and parsing the \"Date\" column."
   ]
  },
  {
   "cell_type": "code",
   "execution_count": 106,
   "metadata": {},
   "outputs": [
    {
     "data": {
      "text/html": [
       "<div>\n",
       "<style scoped>\n",
       "    .dataframe tbody tr th:only-of-type {\n",
       "        vertical-align: middle;\n",
       "    }\n",
       "\n",
       "    .dataframe tbody tr th {\n",
       "        vertical-align: top;\n",
       "    }\n",
       "\n",
       "    .dataframe thead th {\n",
       "        text-align: right;\n",
       "    }\n",
       "</style>\n",
       "<table border=\"1\" class=\"dataframe\">\n",
       "  <thead>\n",
       "    <tr style=\"text-align: right;\">\n",
       "      <th></th>\n",
       "      <th>Date</th>\n",
       "      <th>Adj Close</th>\n",
       "      <th>Volume</th>\n",
       "    </tr>\n",
       "  </thead>\n",
       "  <tbody>\n",
       "    <tr>\n",
       "      <td>0</td>\n",
       "      <td>2017-01-03</td>\n",
       "      <td>2257.830078</td>\n",
       "      <td>3770530000</td>\n",
       "    </tr>\n",
       "    <tr>\n",
       "      <td>1</td>\n",
       "      <td>2017-01-04</td>\n",
       "      <td>2270.750000</td>\n",
       "      <td>3764890000</td>\n",
       "    </tr>\n",
       "    <tr>\n",
       "      <td>2</td>\n",
       "      <td>2017-01-05</td>\n",
       "      <td>2269.000000</td>\n",
       "      <td>3761820000</td>\n",
       "    </tr>\n",
       "    <tr>\n",
       "      <td>3</td>\n",
       "      <td>2017-01-06</td>\n",
       "      <td>2276.979980</td>\n",
       "      <td>3339890000</td>\n",
       "    </tr>\n",
       "    <tr>\n",
       "      <td>4</td>\n",
       "      <td>2017-01-09</td>\n",
       "      <td>2268.899902</td>\n",
       "      <td>3217610000</td>\n",
       "    </tr>\n",
       "  </tbody>\n",
       "</table>\n",
       "</div>"
      ],
      "text/plain": [
       "        Date    Adj Close      Volume\n",
       "0 2017-01-03  2257.830078  3770530000\n",
       "1 2017-01-04  2270.750000  3764890000\n",
       "2 2017-01-05  2269.000000  3761820000\n",
       "3 2017-01-06  2276.979980  3339890000\n",
       "4 2017-01-09  2268.899902  3217610000"
      ]
     },
     "execution_count": 106,
     "metadata": {},
     "output_type": "execute_result"
    }
   ],
   "source": [
    "sp500_df = pd.read_csv('sp500_close_volume.csv',parse_dates=['Date'])\n",
    "sp500_df.head()"
   ]
  },
  {
   "cell_type": "code",
   "execution_count": 107,
   "metadata": {},
   "outputs": [
    {
     "data": {
      "text/plain": [
       "Timestamp('2017-01-03 00:00:00')"
      ]
     },
     "execution_count": 107,
     "metadata": {},
     "output_type": "execute_result"
    }
   ],
   "source": [
    "sp500_df.loc[0,'Date']"
   ]
  },
  {
   "cell_type": "markdown",
   "metadata": {},
   "source": [
    "The second option is to mutate/convert the column with the dates after they've already been read in. You can use `to_datetime` on the Series or DataFrame column (but I repeat myself!) to convert those values from string to `Timestamp`s and overwrite the previous values.\n",
    "\n",
    "Read the \"sp500_close_volume.csv\" file into this notebook without parsing the column as `sp500_df` and then use the `to_datetime` function on the \"Date\" column to convert it to Timestamps."
   ]
  },
  {
   "cell_type": "code",
   "execution_count": 109,
   "metadata": {},
   "outputs": [
    {
     "data": {
      "text/html": [
       "<div>\n",
       "<style scoped>\n",
       "    .dataframe tbody tr th:only-of-type {\n",
       "        vertical-align: middle;\n",
       "    }\n",
       "\n",
       "    .dataframe tbody tr th {\n",
       "        vertical-align: top;\n",
       "    }\n",
       "\n",
       "    .dataframe thead th {\n",
       "        text-align: right;\n",
       "    }\n",
       "</style>\n",
       "<table border=\"1\" class=\"dataframe\">\n",
       "  <thead>\n",
       "    <tr style=\"text-align: right;\">\n",
       "      <th></th>\n",
       "      <th>Date</th>\n",
       "      <th>Adj Close</th>\n",
       "      <th>Volume</th>\n",
       "    </tr>\n",
       "  </thead>\n",
       "  <tbody>\n",
       "    <tr>\n",
       "      <td>0</td>\n",
       "      <td>2017-01-03</td>\n",
       "      <td>2257.830078</td>\n",
       "      <td>3770530000</td>\n",
       "    </tr>\n",
       "    <tr>\n",
       "      <td>1</td>\n",
       "      <td>2017-01-04</td>\n",
       "      <td>2270.750000</td>\n",
       "      <td>3764890000</td>\n",
       "    </tr>\n",
       "    <tr>\n",
       "      <td>2</td>\n",
       "      <td>2017-01-05</td>\n",
       "      <td>2269.000000</td>\n",
       "      <td>3761820000</td>\n",
       "    </tr>\n",
       "    <tr>\n",
       "      <td>3</td>\n",
       "      <td>2017-01-06</td>\n",
       "      <td>2276.979980</td>\n",
       "      <td>3339890000</td>\n",
       "    </tr>\n",
       "    <tr>\n",
       "      <td>4</td>\n",
       "      <td>2017-01-09</td>\n",
       "      <td>2268.899902</td>\n",
       "      <td>3217610000</td>\n",
       "    </tr>\n",
       "  </tbody>\n",
       "</table>\n",
       "</div>"
      ],
      "text/plain": [
       "         Date    Adj Close      Volume\n",
       "0  2017-01-03  2257.830078  3770530000\n",
       "1  2017-01-04  2270.750000  3764890000\n",
       "2  2017-01-05  2269.000000  3761820000\n",
       "3  2017-01-06  2276.979980  3339890000\n",
       "4  2017-01-09  2268.899902  3217610000"
      ]
     },
     "execution_count": 109,
     "metadata": {},
     "output_type": "execute_result"
    }
   ],
   "source": [
    "sp500_df = pd.read_csv('sp500_close_volume.csv')\n",
    "sp500_df.head()"
   ]
  },
  {
   "cell_type": "code",
   "execution_count": 113,
   "metadata": {},
   "outputs": [],
   "source": [
    "sp500_df['Date'] = pd.to_datetime(sp500_df['Date'])"
   ]
  },
  {
   "cell_type": "code",
   "execution_count": 114,
   "metadata": {},
   "outputs": [
    {
     "data": {
      "text/plain": [
       "Timestamp('2017-01-03 00:00:00')"
      ]
     },
     "execution_count": 114,
     "metadata": {},
     "output_type": "execute_result"
    }
   ],
   "source": [
    "sp500_df.loc[0,'Date']"
   ]
  },
  {
   "cell_type": "markdown",
   "metadata": {},
   "source": [
    "### `date_range`\n",
    "\n",
    "Because pandas is designed for tabular data with long arrays of values rather than single values, how do you make a range of dates? The [`date_range`](https://pandas.pydata.org/pandas-docs/stable/reference/api/pandas.date_range.html) function has a number of parameters for creating an array of dates/times. The key parameters for this function are:\n",
    "\n",
    "* start - when to start the range\n",
    "* end - when to end the range\n",
    "* freq - what frequency in between these dates? Defaults to daily, but [other aliases](https://pandas.pydata.org/pandas-docs/stable/user_guide/timeseries.html#timeseries-offset-aliases) are possible\n",
    "\n",
    "Make an array of daily Timestamps for just September 2020."
   ]
  },
  {
   "cell_type": "code",
   "execution_count": 128,
   "metadata": {},
   "outputs": [
    {
     "data": {
      "text/plain": [
       "DatetimeIndex(['2020-09-01 00:00:00', '2020-09-01 01:00:00',\n",
       "               '2020-09-01 02:00:00', '2020-09-01 03:00:00',\n",
       "               '2020-09-01 04:00:00', '2020-09-01 05:00:00',\n",
       "               '2020-09-01 06:00:00', '2020-09-01 07:00:00',\n",
       "               '2020-09-01 08:00:00', '2020-09-01 09:00:00',\n",
       "               ...\n",
       "               '2020-09-29 15:00:00', '2020-09-29 16:00:00',\n",
       "               '2020-09-29 17:00:00', '2020-09-29 18:00:00',\n",
       "               '2020-09-29 19:00:00', '2020-09-29 20:00:00',\n",
       "               '2020-09-29 21:00:00', '2020-09-29 22:00:00',\n",
       "               '2020-09-29 23:00:00', '2020-09-30 00:00:00'],\n",
       "              dtype='datetime64[ns]', length=697, freq='H')"
      ]
     },
     "execution_count": 128,
     "metadata": {},
     "output_type": "execute_result"
    }
   ],
   "source": [
    "pd.date_range(start='September 1, 2020',end='September 30, 2020',freq='H')"
   ]
  },
  {
   "cell_type": "code",
   "execution_count": null,
   "metadata": {},
   "outputs": [],
   "source": [
    "pd.date_range(start='2020-09-01',end='2020-09-30')"
   ]
  },
  {
   "cell_type": "markdown",
   "metadata": {},
   "source": [
    "Make an array of hourly `Timestamps` just for today."
   ]
  },
  {
   "cell_type": "code",
   "execution_count": 136,
   "metadata": {},
   "outputs": [
    {
     "data": {
      "text/plain": [
       "DatetimeIndex(['2020-09-25 00:00:00', '2020-09-25 01:00:00',\n",
       "               '2020-09-25 02:00:00', '2020-09-25 03:00:00',\n",
       "               '2020-09-25 04:00:00', '2020-09-25 05:00:00',\n",
       "               '2020-09-25 06:00:00', '2020-09-25 07:00:00',\n",
       "               '2020-09-25 08:00:00', '2020-09-25 09:00:00',\n",
       "               '2020-09-25 10:00:00', '2020-09-25 11:00:00',\n",
       "               '2020-09-25 12:00:00', '2020-09-25 13:00:00',\n",
       "               '2020-09-25 14:00:00', '2020-09-25 15:00:00',\n",
       "               '2020-09-25 16:00:00', '2020-09-25 17:00:00',\n",
       "               '2020-09-25 18:00:00', '2020-09-25 19:00:00',\n",
       "               '2020-09-25 20:00:00', '2020-09-25 21:00:00',\n",
       "               '2020-09-25 22:00:00', '2020-09-25 23:00:00'],\n",
       "              dtype='datetime64[ns]', freq='H')"
      ]
     },
     "execution_count": 136,
     "metadata": {},
     "output_type": "execute_result"
    }
   ],
   "source": [
    "pd.date_range(start='2020-09-25 00:00',periods=24,freq='H')"
   ]
  },
  {
   "cell_type": "markdown",
   "metadata": {},
   "source": [
    "Make an array of just business days from January 1, 2020 to today. (Look up the [alias for business day frequency](https://pandas.pydata.org/pandas-docs/stable/user_guide/timeseries.html#timeseries-offset-aliases))."
   ]
  },
  {
   "cell_type": "code",
   "execution_count": 137,
   "metadata": {},
   "outputs": [
    {
     "data": {
      "text/plain": [
       "DatetimeIndex(['2020-01-01', '2020-01-02', '2020-01-03', '2020-01-06',\n",
       "               '2020-01-07', '2020-01-08', '2020-01-09', '2020-01-10',\n",
       "               '2020-01-13', '2020-01-14',\n",
       "               ...\n",
       "               '2020-09-14', '2020-09-15', '2020-09-16', '2020-09-17',\n",
       "               '2020-09-18', '2020-09-21', '2020-09-22', '2020-09-23',\n",
       "               '2020-09-24', '2020-09-25'],\n",
       "              dtype='datetime64[ns]', length=193, freq='B')"
      ]
     },
     "execution_count": 137,
     "metadata": {},
     "output_type": "execute_result"
    }
   ],
   "source": [
    "pd.date_range(start='2020-01-01',end='2020-09-25',freq='B')"
   ]
  },
  {
   "cell_type": "markdown",
   "metadata": {},
   "source": [
    "Make an array of quarter starts from January 1, 2000 to today."
   ]
  },
  {
   "cell_type": "code",
   "execution_count": 139,
   "metadata": {},
   "outputs": [
    {
     "data": {
      "text/plain": [
       "DatetimeIndex(['2000-01-01', '2000-04-01', '2000-07-01', '2000-10-01',\n",
       "               '2001-01-01', '2001-04-01', '2001-07-01', '2001-10-01',\n",
       "               '2002-01-01', '2002-04-01', '2002-07-01', '2002-10-01',\n",
       "               '2003-01-01', '2003-04-01', '2003-07-01', '2003-10-01',\n",
       "               '2004-01-01', '2004-04-01', '2004-07-01', '2004-10-01',\n",
       "               '2005-01-01', '2005-04-01', '2005-07-01', '2005-10-01',\n",
       "               '2006-01-01', '2006-04-01', '2006-07-01', '2006-10-01',\n",
       "               '2007-01-01', '2007-04-01', '2007-07-01', '2007-10-01',\n",
       "               '2008-01-01', '2008-04-01', '2008-07-01', '2008-10-01',\n",
       "               '2009-01-01', '2009-04-01', '2009-07-01', '2009-10-01',\n",
       "               '2010-01-01', '2010-04-01', '2010-07-01', '2010-10-01',\n",
       "               '2011-01-01', '2011-04-01', '2011-07-01', '2011-10-01',\n",
       "               '2012-01-01', '2012-04-01', '2012-07-01', '2012-10-01',\n",
       "               '2013-01-01', '2013-04-01', '2013-07-01', '2013-10-01',\n",
       "               '2014-01-01', '2014-04-01', '2014-07-01', '2014-10-01',\n",
       "               '2015-01-01', '2015-04-01', '2015-07-01', '2015-10-01',\n",
       "               '2016-01-01', '2016-04-01', '2016-07-01', '2016-10-01',\n",
       "               '2017-01-01', '2017-04-01', '2017-07-01', '2017-10-01',\n",
       "               '2018-01-01', '2018-04-01', '2018-07-01', '2018-10-01',\n",
       "               '2019-01-01', '2019-04-01', '2019-07-01', '2019-10-01',\n",
       "               '2020-01-01', '2020-04-01', '2020-07-01'],\n",
       "              dtype='datetime64[ns]', freq='QS-JAN')"
      ]
     },
     "execution_count": 139,
     "metadata": {},
     "output_type": "execute_result"
    }
   ],
   "source": [
    "pd.date_range(start='2000-01-01',end='2020-09-25',freq='QS')"
   ]
  },
  {
   "cell_type": "markdown",
   "metadata": {},
   "source": [
    "### Indexing and slicing with timestamps\n",
    "\n",
    "We often will use the Timestamp as an index, which means we'll want a way to access and slice different parts of the index.\n",
    "\n",
    "Use the `.set_index()` method to make the \"Date\" column an index for `sp500_df`."
   ]
  },
  {
   "cell_type": "code",
   "execution_count": 142,
   "metadata": {},
   "outputs": [],
   "source": [
    "sp500_df.set_index('Date',inplace=True)"
   ]
  },
  {
   "cell_type": "code",
   "execution_count": 148,
   "metadata": {},
   "outputs": [
    {
     "data": {
      "text/html": [
       "<div>\n",
       "<style scoped>\n",
       "    .dataframe tbody tr th:only-of-type {\n",
       "        vertical-align: middle;\n",
       "    }\n",
       "\n",
       "    .dataframe tbody tr th {\n",
       "        vertical-align: top;\n",
       "    }\n",
       "\n",
       "    .dataframe thead th {\n",
       "        text-align: right;\n",
       "    }\n",
       "</style>\n",
       "<table border=\"1\" class=\"dataframe\">\n",
       "  <thead>\n",
       "    <tr style=\"text-align: right;\">\n",
       "      <th></th>\n",
       "      <th>Adj Close</th>\n",
       "      <th>Volume</th>\n",
       "    </tr>\n",
       "    <tr>\n",
       "      <th>Date</th>\n",
       "      <th></th>\n",
       "      <th></th>\n",
       "    </tr>\n",
       "  </thead>\n",
       "  <tbody>\n",
       "    <tr>\n",
       "      <td>2017-01-03</td>\n",
       "      <td>2257.830078</td>\n",
       "      <td>3770530000</td>\n",
       "    </tr>\n",
       "    <tr>\n",
       "      <td>2017-01-04</td>\n",
       "      <td>2270.750000</td>\n",
       "      <td>3764890000</td>\n",
       "    </tr>\n",
       "    <tr>\n",
       "      <td>2017-01-05</td>\n",
       "      <td>2269.000000</td>\n",
       "      <td>3761820000</td>\n",
       "    </tr>\n",
       "    <tr>\n",
       "      <td>2017-01-06</td>\n",
       "      <td>2276.979980</td>\n",
       "      <td>3339890000</td>\n",
       "    </tr>\n",
       "    <tr>\n",
       "      <td>2017-01-09</td>\n",
       "      <td>2268.899902</td>\n",
       "      <td>3217610000</td>\n",
       "    </tr>\n",
       "  </tbody>\n",
       "</table>\n",
       "</div>"
      ],
      "text/plain": [
       "              Adj Close      Volume\n",
       "Date                               \n",
       "2017-01-03  2257.830078  3770530000\n",
       "2017-01-04  2270.750000  3764890000\n",
       "2017-01-05  2269.000000  3761820000\n",
       "2017-01-06  2276.979980  3339890000\n",
       "2017-01-09  2268.899902  3217610000"
      ]
     },
     "execution_count": 148,
     "metadata": {},
     "output_type": "execute_result"
    }
   ],
   "source": [
    "sp500_df.head()"
   ]
  },
  {
   "cell_type": "markdown",
   "metadata": {},
   "source": [
    "Access the row for March 23, 2020."
   ]
  },
  {
   "cell_type": "code",
   "execution_count": 150,
   "metadata": {},
   "outputs": [
    {
     "data": {
      "text/plain": [
       "Adj Close    2.237400e+03\n",
       "Volume       7.402180e+09\n",
       "Name: 2020-03-23 00:00:00, dtype: float64"
      ]
     },
     "execution_count": 150,
     "metadata": {},
     "output_type": "execute_result"
    }
   ],
   "source": [
    "sp500_df.loc['2020 March 23']"
   ]
  },
  {
   "cell_type": "markdown",
   "metadata": {},
   "source": [
    "Access the rows for March 1, 2020 through March 31, 2020 and make a plot of \"Adj Close\"."
   ]
  },
  {
   "cell_type": "code",
   "execution_count": 157,
   "metadata": {},
   "outputs": [
    {
     "data": {
      "text/plain": [
       "<matplotlib.axes._subplots.AxesSubplot at 0x7fa62c390750>"
      ]
     },
     "execution_count": 157,
     "metadata": {},
     "output_type": "execute_result"
    },
    {
     "data": {
      "image/png": "[encoded data removed]",
      "text/plain": [
       "<Figure size 432x288 with 1 Axes>"
      ]
     },
     "metadata": {
      "needs_background": "light"
     },
     "output_type": "display_data"
    }
   ],
   "source": [
    "sp500_df.loc['2020-03-01':'2020-03-31','Adj Close'].plot()"
   ]
  },
  {
   "cell_type": "code",
   "execution_count": 159,
   "metadata": {},
   "outputs": [
    {
     "data": {
      "text/html": [
       "<div>\n",
       "<style scoped>\n",
       "    .dataframe tbody tr th:only-of-type {\n",
       "        vertical-align: middle;\n",
       "    }\n",
       "\n",
       "    .dataframe tbody tr th {\n",
       "        vertical-align: top;\n",
       "    }\n",
       "\n",
       "    .dataframe thead th {\n",
       "        text-align: right;\n",
       "    }\n",
       "</style>\n",
       "<table border=\"1\" class=\"dataframe\">\n",
       "  <thead>\n",
       "    <tr style=\"text-align: right;\">\n",
       "      <th></th>\n",
       "      <th>Adj Close</th>\n",
       "      <th>Volume</th>\n",
       "    </tr>\n",
       "    <tr>\n",
       "      <th>Date</th>\n",
       "      <th></th>\n",
       "      <th></th>\n",
       "    </tr>\n",
       "  </thead>\n",
       "  <tbody>\n",
       "    <tr>\n",
       "      <td>2020-03-02</td>\n",
       "      <td>3090.229980</td>\n",
       "      <td>6376400000</td>\n",
       "    </tr>\n",
       "    <tr>\n",
       "      <td>2020-03-03</td>\n",
       "      <td>3003.370117</td>\n",
       "      <td>6355940000</td>\n",
       "    </tr>\n",
       "    <tr>\n",
       "      <td>2020-03-04</td>\n",
       "      <td>3130.120117</td>\n",
       "      <td>5035480000</td>\n",
       "    </tr>\n",
       "    <tr>\n",
       "      <td>2020-03-05</td>\n",
       "      <td>3023.939941</td>\n",
       "      <td>5575550000</td>\n",
       "    </tr>\n",
       "    <tr>\n",
       "      <td>2020-03-06</td>\n",
       "      <td>2972.370117</td>\n",
       "      <td>6552140000</td>\n",
       "    </tr>\n",
       "    <tr>\n",
       "      <td>2020-03-09</td>\n",
       "      <td>2746.560059</td>\n",
       "      <td>8423050000</td>\n",
       "    </tr>\n",
       "    <tr>\n",
       "      <td>2020-03-10</td>\n",
       "      <td>2882.229980</td>\n",
       "      <td>7635960000</td>\n",
       "    </tr>\n",
       "    <tr>\n",
       "      <td>2020-03-11</td>\n",
       "      <td>2741.379883</td>\n",
       "      <td>7374110000</td>\n",
       "    </tr>\n",
       "    <tr>\n",
       "      <td>2020-03-12</td>\n",
       "      <td>2480.639893</td>\n",
       "      <td>8829380000</td>\n",
       "    </tr>\n",
       "    <tr>\n",
       "      <td>2020-03-13</td>\n",
       "      <td>2711.020020</td>\n",
       "      <td>8258670000</td>\n",
       "    </tr>\n",
       "    <tr>\n",
       "      <td>2020-03-16</td>\n",
       "      <td>2386.129883</td>\n",
       "      <td>7781540000</td>\n",
       "    </tr>\n",
       "    <tr>\n",
       "      <td>2020-03-17</td>\n",
       "      <td>2529.189941</td>\n",
       "      <td>8358500000</td>\n",
       "    </tr>\n",
       "    <tr>\n",
       "      <td>2020-03-18</td>\n",
       "      <td>2398.100098</td>\n",
       "      <td>8755780000</td>\n",
       "    </tr>\n",
       "    <tr>\n",
       "      <td>2020-03-19</td>\n",
       "      <td>2409.389893</td>\n",
       "      <td>7946710000</td>\n",
       "    </tr>\n",
       "    <tr>\n",
       "      <td>2020-03-20</td>\n",
       "      <td>2304.919922</td>\n",
       "      <td>9044690000</td>\n",
       "    </tr>\n",
       "    <tr>\n",
       "      <td>2020-03-23</td>\n",
       "      <td>2237.399902</td>\n",
       "      <td>7402180000</td>\n",
       "    </tr>\n",
       "    <tr>\n",
       "      <td>2020-03-24</td>\n",
       "      <td>2447.330078</td>\n",
       "      <td>7547350000</td>\n",
       "    </tr>\n",
       "    <tr>\n",
       "      <td>2020-03-25</td>\n",
       "      <td>2475.560059</td>\n",
       "      <td>8285670000</td>\n",
       "    </tr>\n",
       "    <tr>\n",
       "      <td>2020-03-26</td>\n",
       "      <td>2630.070068</td>\n",
       "      <td>7753160000</td>\n",
       "    </tr>\n",
       "    <tr>\n",
       "      <td>2020-03-27</td>\n",
       "      <td>2541.469971</td>\n",
       "      <td>6194330000</td>\n",
       "    </tr>\n",
       "    <tr>\n",
       "      <td>2020-03-30</td>\n",
       "      <td>2626.649902</td>\n",
       "      <td>5746220000</td>\n",
       "    </tr>\n",
       "    <tr>\n",
       "      <td>2020-03-31</td>\n",
       "      <td>2584.590088</td>\n",
       "      <td>6568290000</td>\n",
       "    </tr>\n",
       "  </tbody>\n",
       "</table>\n",
       "</div>"
      ],
      "text/plain": [
       "              Adj Close      Volume\n",
       "Date                               \n",
       "2020-03-02  3090.229980  6376400000\n",
       "2020-03-03  3003.370117  6355940000\n",
       "2020-03-04  3130.120117  5035480000\n",
       "2020-03-05  3023.939941  5575550000\n",
       "2020-03-06  2972.370117  6552140000\n",
       "2020-03-09  2746.560059  8423050000\n",
       "2020-03-10  2882.229980  7635960000\n",
       "2020-03-11  2741.379883  7374110000\n",
       "2020-03-12  2480.639893  8829380000\n",
       "2020-03-13  2711.020020  8258670000\n",
       "2020-03-16  2386.129883  7781540000\n",
       "2020-03-17  2529.189941  8358500000\n",
       "2020-03-18  2398.100098  8755780000\n",
       "2020-03-19  2409.389893  7946710000\n",
       "2020-03-20  2304.919922  9044690000\n",
       "2020-03-23  2237.399902  7402180000\n",
       "2020-03-24  2447.330078  7547350000\n",
       "2020-03-25  2475.560059  8285670000\n",
       "2020-03-26  2630.070068  7753160000\n",
       "2020-03-27  2541.469971  6194330000\n",
       "2020-03-30  2626.649902  5746220000\n",
       "2020-03-31  2584.590088  6568290000"
      ]
     },
     "execution_count": 159,
     "metadata": {},
     "output_type": "execute_result"
    }
   ],
   "source": [
    "sp500_df.loc[datetime.datetime(2020,3,1):datetime.datetime(2020,3,31)]"
   ]
  },
  {
   "cell_type": "markdown",
   "metadata": {},
   "source": [
    "Access the rows for April 1, 2020 through the present and make a plot of \"Volume\"."
   ]
  },
  {
   "cell_type": "code",
   "execution_count": 163,
   "metadata": {},
   "outputs": [
    {
     "data": {
      "text/plain": [
       "<matplotlib.axes._subplots.AxesSubplot at 0x7fa62c42c850>"
      ]
     },
     "execution_count": 163,
     "metadata": {},
     "output_type": "execute_result"
    },
    {
     "data": {
      "image/png": "[encoded data removed]",
      "text/plain": [
       "<Figure size 432x288 with 1 Axes>"
      ]
     },
     "metadata": {
      "needs_background": "light"
     },
     "output_type": "display_data"
    }
   ],
   "source": [
    "sp500_df.loc['2020-01-01':,'Volume'].plot()"
   ]
  },
  {
   "cell_type": "markdown",
   "metadata": {},
   "source": [
    "## Appendix"
   ]
  },
  {
   "cell_type": "code",
   "execution_count": 32,
   "metadata": {},
   "outputs": [],
   "source": [
    "# Download the data about the S&P 500 index since January 2017\n",
    "import yfinance as yf\n",
    "\n",
    "sp500_df = yf.download(tickers='^GSPC',\n",
    "                         start='2017-01-01',\n",
    "                         end='2020-09-25',\n",
    "                         progress=False)\n",
    "\n",
    "sp500_df[['Adj Close','Volume']].to_csv('sp500_close_volume.csv',encoding='utf8')"
   ]
  },
  {
   "cell_type": "code",
   "execution_count": 66,
   "metadata": {},
   "outputs": [],
   "source": [
    "# Download hourly data for March\n",
    "# Need to use a loop since the function will only let us get a week at a time\n",
    "\n",
    "_df_l = []\n",
    "\n",
    "dates = ['2020-03-01', '2020-03-08', '2020-03-15', '2020-03-22', '2020-03-29', '2020-04-05']\n",
    "for i,date in enumerate(dates):\n",
    "    if i < 5:\n",
    "        _df = yf.download(tickers='^GSPC',\n",
    "                          start=dates[i],\n",
    "                          end=dates[i+1],\n",
    "                          interval='60m',\n",
    "                          progress=False)\n",
    "        _df_l.append(_df)"
   ]
  },
  {
   "cell_type": "code",
   "execution_count": 73,
   "metadata": {},
   "outputs": [],
   "source": [
    "# Write out\n",
    "sp500_march_df = pd.concat(_df_l)\n",
    "sp500_march_df[['Adj Close','Volume']].to_csv('sp500_march_hourly.csv',encoding='utf8')"
   ]
  }
 ],
 "metadata": {
  "kernelspec": {
   "display_name": "Python 3 (ipykernel)",
   "language": "python",
   "name": "python3"
  },
  "language_info": {
   "codemirror_mode": {
    "name": "ipython",
    "version": 3
   },
   "file_extension": ".py",
   "mimetype": "text/x-python",
   "name": "python",
   "nbconvert_exporter": "python",
   "pygments_lexer": "ipython3",
   "version": "3.9.10"
  }
 },
 "nbformat": 4,
 "nbformat_minor": 4
}
